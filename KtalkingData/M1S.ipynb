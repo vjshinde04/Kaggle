{
 "cells": [
  {
   "cell_type": "markdown",
   "metadata": {},
   "source": [
    "**Working on smaller chunk of data**\n",
    "\n",
    "**train_sample & test**\n",
    "\n",
    "**Data fields** : Each row of the training data contains a click record, with the following features.\n",
    "\n",
    "1. ip: ip address of click.\n",
    "2. app: app id for marketing.\n",
    "3. device: device type id of user mobile phone (e.g., iphone 6 plus, iphone 7, huawei mate 7, etc.)\n",
    "4. os: os version id of user mobile phone\n",
    "5. channel: channel id of mobile ad publisher\n",
    "6. click_time: timestamp of click (UTC)\n",
    "7. attributed_time: if user download the app for after clicking an ad, this is the time of the app download\n",
    "8. is_attributed: the target that is to be predicted, indicating the app was downloaded\n",
    "\n",
    "Note that ip, app, device, os, and channel are encoded."
   ]
  },
  {
   "cell_type": "code",
   "execution_count": 66,
   "metadata": {},
   "outputs": [],
   "source": [
    "import pandas as pd\n",
    "train = pd.read_csv('train_sample.csv')\n",
    "test = pd.read_csv('test.csv')"
   ]
  },
  {
   "cell_type": "code",
   "execution_count": 67,
   "metadata": {},
   "outputs": [
    {
     "name": "stdout",
     "output_type": "stream",
     "text": [
      "(100000, 8)\n",
      "(18790469, 7)\n"
     ]
    }
   ],
   "source": [
    "print(train.shape)\n",
    "print(test.shape)"
   ]
  },
  {
   "cell_type": "code",
   "execution_count": 68,
   "metadata": {},
   "outputs": [
    {
     "data": {
      "text/plain": [
       "ip                     0\n",
       "app                    0\n",
       "device                 0\n",
       "os                     0\n",
       "channel                0\n",
       "click_time             0\n",
       "attributed_time    99773\n",
       "is_attributed          0\n",
       "dtype: int64"
      ]
     },
     "execution_count": 68,
     "metadata": {},
     "output_type": "execute_result"
    }
   ],
   "source": [
    "train.apply(lambda x: sum(x.isnull()))"
   ]
  },
  {
   "cell_type": "code",
   "execution_count": 69,
   "metadata": {},
   "outputs": [
    {
     "name": "stdout",
     "output_type": "stream",
     "text": [
      "<class 'pandas.core.frame.DataFrame'>\n",
      "RangeIndex: 100000 entries, 0 to 99999\n",
      "Data columns (total 8 columns):\n",
      "ip                 100000 non-null int64\n",
      "app                100000 non-null int64\n",
      "device             100000 non-null int64\n",
      "os                 100000 non-null int64\n",
      "channel            100000 non-null int64\n",
      "click_time         100000 non-null object\n",
      "attributed_time    227 non-null object\n",
      "is_attributed      100000 non-null int64\n",
      "dtypes: int64(6), object(2)\n",
      "memory usage: 6.1+ MB\n"
     ]
    }
   ],
   "source": [
    "train.info()"
   ]
  },
  {
   "cell_type": "code",
   "execution_count": 70,
   "metadata": {},
   "outputs": [
    {
     "data": {
      "text/html": [
       "<div>\n",
       "<style scoped>\n",
       "    .dataframe tbody tr th:only-of-type {\n",
       "        vertical-align: middle;\n",
       "    }\n",
       "\n",
       "    .dataframe tbody tr th {\n",
       "        vertical-align: top;\n",
       "    }\n",
       "\n",
       "    .dataframe thead th {\n",
       "        text-align: right;\n",
       "    }\n",
       "</style>\n",
       "<table border=\"1\" class=\"dataframe\">\n",
       "  <thead>\n",
       "    <tr style=\"text-align: right;\">\n",
       "      <th></th>\n",
       "      <th>ip</th>\n",
       "      <th>app</th>\n",
       "      <th>device</th>\n",
       "      <th>os</th>\n",
       "      <th>channel</th>\n",
       "      <th>click_time</th>\n",
       "      <th>attributed_time</th>\n",
       "      <th>is_attributed</th>\n",
       "    </tr>\n",
       "  </thead>\n",
       "  <tbody>\n",
       "    <tr>\n",
       "      <th>42614</th>\n",
       "      <td>120419</td>\n",
       "      <td>15</td>\n",
       "      <td>1</td>\n",
       "      <td>14</td>\n",
       "      <td>130</td>\n",
       "      <td>2017-11-08 16:22:37</td>\n",
       "      <td>NaN</td>\n",
       "      <td>0</td>\n",
       "    </tr>\n",
       "    <tr>\n",
       "      <th>36797</th>\n",
       "      <td>24965</td>\n",
       "      <td>1</td>\n",
       "      <td>1</td>\n",
       "      <td>19</td>\n",
       "      <td>135</td>\n",
       "      <td>2017-11-07 10:05:30</td>\n",
       "      <td>NaN</td>\n",
       "      <td>0</td>\n",
       "    </tr>\n",
       "    <tr>\n",
       "      <th>59388</th>\n",
       "      <td>23478</td>\n",
       "      <td>3</td>\n",
       "      <td>1</td>\n",
       "      <td>9</td>\n",
       "      <td>417</td>\n",
       "      <td>2017-11-07 23:37:22</td>\n",
       "      <td>NaN</td>\n",
       "      <td>0</td>\n",
       "    </tr>\n",
       "    <tr>\n",
       "      <th>95547</th>\n",
       "      <td>88551</td>\n",
       "      <td>18</td>\n",
       "      <td>1</td>\n",
       "      <td>19</td>\n",
       "      <td>107</td>\n",
       "      <td>2017-11-07 20:55:54</td>\n",
       "      <td>NaN</td>\n",
       "      <td>0</td>\n",
       "    </tr>\n",
       "    <tr>\n",
       "      <th>92690</th>\n",
       "      <td>114276</td>\n",
       "      <td>3</td>\n",
       "      <td>1</td>\n",
       "      <td>17</td>\n",
       "      <td>417</td>\n",
       "      <td>2017-11-07 12:49:01</td>\n",
       "      <td>NaN</td>\n",
       "      <td>0</td>\n",
       "    </tr>\n",
       "  </tbody>\n",
       "</table>\n",
       "</div>"
      ],
      "text/plain": [
       "           ip  app  device  os  channel           click_time attributed_time  \\\n",
       "42614  120419   15       1  14      130  2017-11-08 16:22:37             NaN   \n",
       "36797   24965    1       1  19      135  2017-11-07 10:05:30             NaN   \n",
       "59388   23478    3       1   9      417  2017-11-07 23:37:22             NaN   \n",
       "95547   88551   18       1  19      107  2017-11-07 20:55:54             NaN   \n",
       "92690  114276    3       1  17      417  2017-11-07 12:49:01             NaN   \n",
       "\n",
       "       is_attributed  \n",
       "42614              0  \n",
       "36797              0  \n",
       "59388              0  \n",
       "95547              0  \n",
       "92690              0  "
      ]
     },
     "execution_count": 70,
     "metadata": {},
     "output_type": "execute_result"
    }
   ],
   "source": [
    "train.sample(5)"
   ]
  },
  {
   "cell_type": "code",
   "execution_count": 71,
   "metadata": {},
   "outputs": [
    {
     "data": {
      "text/html": [
       "<div>\n",
       "<style scoped>\n",
       "    .dataframe tbody tr th:only-of-type {\n",
       "        vertical-align: middle;\n",
       "    }\n",
       "\n",
       "    .dataframe tbody tr th {\n",
       "        vertical-align: top;\n",
       "    }\n",
       "\n",
       "    .dataframe thead th {\n",
       "        text-align: right;\n",
       "    }\n",
       "</style>\n",
       "<table border=\"1\" class=\"dataframe\">\n",
       "  <thead>\n",
       "    <tr style=\"text-align: right;\">\n",
       "      <th></th>\n",
       "      <th>ip</th>\n",
       "      <th>app</th>\n",
       "      <th>device</th>\n",
       "      <th>os</th>\n",
       "      <th>channel</th>\n",
       "      <th>click_time</th>\n",
       "      <th>attributed_time</th>\n",
       "      <th>is_attributed</th>\n",
       "    </tr>\n",
       "  </thead>\n",
       "  <tbody>\n",
       "    <tr>\n",
       "      <th>13770</th>\n",
       "      <td>177975</td>\n",
       "      <td>45</td>\n",
       "      <td>1</td>\n",
       "      <td>4</td>\n",
       "      <td>419</td>\n",
       "      <td>2017-11-07 10:14:19</td>\n",
       "      <td>2017-11-07 10:14:30</td>\n",
       "      <td>1</td>\n",
       "    </tr>\n",
       "    <tr>\n",
       "      <th>39198</th>\n",
       "      <td>46364</td>\n",
       "      <td>9</td>\n",
       "      <td>1</td>\n",
       "      <td>12</td>\n",
       "      <td>489</td>\n",
       "      <td>2017-11-09 03:34:38</td>\n",
       "      <td>2017-11-09 07:28:37</td>\n",
       "      <td>1</td>\n",
       "    </tr>\n",
       "    <tr>\n",
       "      <th>95330</th>\n",
       "      <td>260575</td>\n",
       "      <td>45</td>\n",
       "      <td>1</td>\n",
       "      <td>18</td>\n",
       "      <td>5</td>\n",
       "      <td>2017-11-08 06:21:05</td>\n",
       "      <td>2017-11-08 06:21:17</td>\n",
       "      <td>1</td>\n",
       "    </tr>\n",
       "    <tr>\n",
       "      <th>18529</th>\n",
       "      <td>53389</td>\n",
       "      <td>35</td>\n",
       "      <td>1</td>\n",
       "      <td>19</td>\n",
       "      <td>21</td>\n",
       "      <td>2017-11-07 03:03:16</td>\n",
       "      <td>2017-11-07 03:05:13</td>\n",
       "      <td>1</td>\n",
       "    </tr>\n",
       "    <tr>\n",
       "      <th>61222</th>\n",
       "      <td>218061</td>\n",
       "      <td>45</td>\n",
       "      <td>1</td>\n",
       "      <td>26</td>\n",
       "      <td>5</td>\n",
       "      <td>2017-11-08 06:19:39</td>\n",
       "      <td>2017-11-08 06:19:51</td>\n",
       "      <td>1</td>\n",
       "    </tr>\n",
       "    <tr>\n",
       "      <th>19190</th>\n",
       "      <td>253653</td>\n",
       "      <td>20</td>\n",
       "      <td>1</td>\n",
       "      <td>19</td>\n",
       "      <td>478</td>\n",
       "      <td>2017-11-07 23:18:18</td>\n",
       "      <td>2017-11-08 09:06:37</td>\n",
       "      <td>1</td>\n",
       "    </tr>\n",
       "    <tr>\n",
       "      <th>45186</th>\n",
       "      <td>295505</td>\n",
       "      <td>19</td>\n",
       "      <td>351</td>\n",
       "      <td>21</td>\n",
       "      <td>282</td>\n",
       "      <td>2017-11-09 01:03:09</td>\n",
       "      <td>2017-11-09 01:04:00</td>\n",
       "      <td>1</td>\n",
       "    </tr>\n",
       "    <tr>\n",
       "      <th>14419</th>\n",
       "      <td>354266</td>\n",
       "      <td>5</td>\n",
       "      <td>1</td>\n",
       "      <td>30</td>\n",
       "      <td>113</td>\n",
       "      <td>2017-11-09 04:43:03</td>\n",
       "      <td>2017-11-09 04:43:30</td>\n",
       "      <td>1</td>\n",
       "    </tr>\n",
       "    <tr>\n",
       "      <th>62924</th>\n",
       "      <td>224428</td>\n",
       "      <td>108</td>\n",
       "      <td>1</td>\n",
       "      <td>23</td>\n",
       "      <td>243</td>\n",
       "      <td>2017-11-08 14:19:50</td>\n",
       "      <td>2017-11-08 14:40:50</td>\n",
       "      <td>1</td>\n",
       "    </tr>\n",
       "    <tr>\n",
       "      <th>63685</th>\n",
       "      <td>177515</td>\n",
       "      <td>19</td>\n",
       "      <td>97</td>\n",
       "      <td>24</td>\n",
       "      <td>213</td>\n",
       "      <td>2017-11-07 02:53:43</td>\n",
       "      <td>2017-11-07 02:54:59</td>\n",
       "      <td>1</td>\n",
       "    </tr>\n",
       "  </tbody>\n",
       "</table>\n",
       "</div>"
      ],
      "text/plain": [
       "           ip  app  device  os  channel           click_time  \\\n",
       "13770  177975   45       1   4      419  2017-11-07 10:14:19   \n",
       "39198   46364    9       1  12      489  2017-11-09 03:34:38   \n",
       "95330  260575   45       1  18        5  2017-11-08 06:21:05   \n",
       "18529   53389   35       1  19       21  2017-11-07 03:03:16   \n",
       "61222  218061   45       1  26        5  2017-11-08 06:19:39   \n",
       "19190  253653   20       1  19      478  2017-11-07 23:18:18   \n",
       "45186  295505   19     351  21      282  2017-11-09 01:03:09   \n",
       "14419  354266    5       1  30      113  2017-11-09 04:43:03   \n",
       "62924  224428  108       1  23      243  2017-11-08 14:19:50   \n",
       "63685  177515   19      97  24      213  2017-11-07 02:53:43   \n",
       "\n",
       "           attributed_time  is_attributed  \n",
       "13770  2017-11-07 10:14:30              1  \n",
       "39198  2017-11-09 07:28:37              1  \n",
       "95330  2017-11-08 06:21:17              1  \n",
       "18529  2017-11-07 03:05:13              1  \n",
       "61222  2017-11-08 06:19:51              1  \n",
       "19190  2017-11-08 09:06:37              1  \n",
       "45186  2017-11-09 01:04:00              1  \n",
       "14419  2017-11-09 04:43:30              1  \n",
       "62924  2017-11-08 14:40:50              1  \n",
       "63685  2017-11-07 02:54:59              1  "
      ]
     },
     "execution_count": 71,
     "metadata": {},
     "output_type": "execute_result"
    }
   ],
   "source": [
    "train[train['attributed_time'].notnull()].sample(10)"
   ]
  },
  {
   "cell_type": "code",
   "execution_count": 72,
   "metadata": {},
   "outputs": [
    {
     "name": "stdout",
     "output_type": "stream",
     "text": [
      "3      18279\n",
      "12     13198\n",
      "2      11737\n",
      "9       8992\n",
      "15      8595\n",
      "18      8315\n",
      "14      5359\n",
      "1       3135\n",
      "13      2422\n",
      "8       2004\n",
      "21      1979\n",
      "11      1927\n",
      "26      1633\n",
      "23      1454\n",
      "6       1303\n",
      "64      1079\n",
      "7        981\n",
      "20       911\n",
      "25       804\n",
      "28       720\n",
      "24       704\n",
      "27       696\n",
      "19       478\n",
      "10       388\n",
      "22       386\n",
      "17       380\n",
      "29       360\n",
      "32       286\n",
      "5        188\n",
      "151      109\n",
      "       ...  \n",
      "551        1\n",
      "168        1\n",
      "105        1\n",
      "233        1\n",
      "302        1\n",
      "78         1\n",
      "112        1\n",
      "115        1\n",
      "116        1\n",
      "372        1\n",
      "123        1\n",
      "124        1\n",
      "548        1\n",
      "100        1\n",
      "163        1\n",
      "99         1\n",
      "97         1\n",
      "96         1\n",
      "31         1\n",
      "347        1\n",
      "91         1\n",
      "538        1\n",
      "474        1\n",
      "536        1\n",
      "216        1\n",
      "407        1\n",
      "145        1\n",
      "271        1\n",
      "398        1\n",
      "92         1\n",
      "Name: app, Length: 161, dtype: int64\n",
      "**************************************************\n",
      "1       94338\n",
      "2        4345\n",
      "0         541\n",
      "3032      371\n",
      "3543      151\n",
      "3866       93\n",
      "59         12\n",
      "6           8\n",
      "16          7\n",
      "5           7\n",
      "40          7\n",
      "97          5\n",
      "50          4\n",
      "25          3\n",
      "21          3\n",
      "33          3\n",
      "4           3\n",
      "60          3\n",
      "30          2\n",
      "160         2\n",
      "78          2\n",
      "74          2\n",
      "7           2\n",
      "211         2\n",
      "20          2\n",
      "67          2\n",
      "124         2\n",
      "114         2\n",
      "182         2\n",
      "56          2\n",
      "        ...  \n",
      "116         1\n",
      "1318        1\n",
      "180         1\n",
      "53          1\n",
      "374         1\n",
      "1080        1\n",
      "58          1\n",
      "188         1\n",
      "2429        1\n",
      "103         1\n",
      "486         1\n",
      "3545        1\n",
      "928         1\n",
      "154         1\n",
      "3867        1\n",
      "828         1\n",
      "220         1\n",
      "414         1\n",
      "351         1\n",
      "607         1\n",
      "163         1\n",
      "102         1\n",
      "291         1\n",
      "36          1\n",
      "100         1\n",
      "420         1\n",
      "37          1\n",
      "549         1\n",
      "2980        1\n",
      "347         1\n",
      "Name: device, Length: 100, dtype: int64\n",
      "**************************************************\n",
      "19     23870\n",
      "13     21223\n",
      "17      5232\n",
      "18      4830\n",
      "22      4039\n",
      "10      2816\n",
      "8       2775\n",
      "6       2520\n",
      "15      2396\n",
      "20      2347\n",
      "9       2341\n",
      "25      2248\n",
      "16      1691\n",
      "37      1589\n",
      "3       1576\n",
      "41      1348\n",
      "14      1312\n",
      "1       1185\n",
      "12      1103\n",
      "23      1042\n",
      "27      1008\n",
      "32       915\n",
      "35       914\n",
      "47       789\n",
      "53       759\n",
      "11       752\n",
      "28       704\n",
      "30       676\n",
      "26       482\n",
      "31       426\n",
      "       ...  \n",
      "111        2\n",
      "117        2\n",
      "78         2\n",
      "132        2\n",
      "68         2\n",
      "152        2\n",
      "193        1\n",
      "192        1\n",
      "836        1\n",
      "133        1\n",
      "129        1\n",
      "106        1\n",
      "135        1\n",
      "199        1\n",
      "168        1\n",
      "99         1\n",
      "172        1\n",
      "174        1\n",
      "153        1\n",
      "88         1\n",
      "151        1\n",
      "84         1\n",
      "113        1\n",
      "114        1\n",
      "207        1\n",
      "116        1\n",
      "142        1\n",
      "137        1\n",
      "185        1\n",
      "127        1\n",
      "Name: os, Length: 130, dtype: int64\n",
      "**************************************************\n",
      "280    8114\n",
      "245    4802\n",
      "107    4543\n",
      "477    3960\n",
      "134    3224\n",
      "259    3130\n",
      "265    3013\n",
      "153    2954\n",
      "178    2936\n",
      "121    2472\n",
      "205    2369\n",
      "145    1964\n",
      "442    1941\n",
      "459    1921\n",
      "379    1833\n",
      "439    1528\n",
      "128    1486\n",
      "466    1483\n",
      "135    1473\n",
      "480    1468\n",
      "469    1458\n",
      "489    1426\n",
      "237    1408\n",
      "122    1366\n",
      "140    1328\n",
      "219    1303\n",
      "137    1245\n",
      "435    1220\n",
      "232    1211\n",
      "101    1180\n",
      "       ... \n",
      "457      16\n",
      "356      15\n",
      "268      13\n",
      "126      11\n",
      "174       9\n",
      "22        8\n",
      "486       8\n",
      "5         7\n",
      "404       7\n",
      "203       6\n",
      "341       6\n",
      "332       5\n",
      "108       5\n",
      "488       5\n",
      "419       5\n",
      "272       4\n",
      "420       4\n",
      "456       4\n",
      "353       3\n",
      "483       3\n",
      "410       2\n",
      "455       2\n",
      "15        2\n",
      "114       1\n",
      "4         1\n",
      "261       1\n",
      "498       1\n",
      "465       1\n",
      "474       1\n",
      "451       1\n",
      "Name: channel, Length: 161, dtype: int64\n",
      "**************************************************\n",
      "2017-11-08 12:01:02    7\n",
      "2017-11-08 13:32:05    6\n",
      "2017-11-09 14:46:23    6\n",
      "2017-11-07 05:00:11    6\n",
      "2017-11-07 04:36:16    6\n",
      "2017-11-09 09:53:16    5\n",
      "2017-11-09 09:40:41    5\n",
      "2017-11-07 11:16:28    5\n",
      "2017-11-07 13:59:56    5\n",
      "2017-11-09 04:00:09    5\n",
      "2017-11-07 08:32:43    5\n",
      "2017-11-08 02:59:48    5\n",
      "2017-11-07 11:02:34    5\n",
      "2017-11-07 12:43:25    5\n",
      "2017-11-07 16:00:45    5\n",
      "2017-11-08 07:38:40    5\n",
      "2017-11-08 06:13:02    5\n",
      "2017-11-09 04:34:59    5\n",
      "2017-11-06 23:27:07    5\n",
      "2017-11-08 16:20:50    5\n",
      "2017-11-07 06:28:49    5\n",
      "2017-11-07 00:14:03    5\n",
      "2017-11-08 14:20:42    5\n",
      "2017-11-08 06:02:06    5\n",
      "2017-11-08 08:02:00    5\n",
      "2017-11-09 04:36:01    5\n",
      "2017-11-07 11:53:12    5\n",
      "2017-11-09 14:40:08    5\n",
      "2017-11-09 04:08:39    5\n",
      "2017-11-07 00:43:13    5\n",
      "                      ..\n",
      "2017-11-08 07:13:47    1\n",
      "2017-11-09 06:49:40    1\n",
      "2017-11-07 05:44:39    1\n",
      "2017-11-07 00:30:28    1\n",
      "2017-11-09 04:56:36    1\n",
      "2017-11-07 14:18:37    1\n",
      "2017-11-08 17:26:04    1\n",
      "2017-11-08 04:32:11    1\n",
      "2017-11-09 12:44:28    1\n",
      "2017-11-09 00:01:13    1\n",
      "2017-11-07 18:20:19    1\n",
      "2017-11-08 11:56:36    1\n",
      "2017-11-09 13:20:50    1\n",
      "2017-11-07 14:59:46    1\n",
      "2017-11-09 01:40:53    1\n",
      "2017-11-07 19:06:17    1\n",
      "2017-11-07 09:25:30    1\n",
      "2017-11-09 09:13:40    1\n",
      "2017-11-07 04:10:27    1\n",
      "2017-11-07 13:27:18    1\n",
      "2017-11-09 14:45:34    1\n",
      "2017-11-07 16:52:24    1\n",
      "2017-11-07 15:26:27    1\n",
      "2017-11-07 03:18:05    1\n",
      "2017-11-07 14:53:26    1\n",
      "2017-11-08 14:00:53    1\n",
      "2017-11-07 15:26:43    1\n",
      "2017-11-06 16:17:13    1\n",
      "2017-11-09 11:21:36    1\n",
      "2017-11-09 05:10:00    1\n",
      "Name: click_time, Length: 80350, dtype: int64\n",
      "**************************************************\n",
      "2017-11-08 04:37:46    1\n",
      "2017-11-08 06:04:27    1\n",
      "2017-11-07 03:01:55    1\n",
      "2017-11-08 06:21:17    1\n",
      "2017-11-07 01:34:22    1\n",
      "2017-11-08 13:14:18    1\n",
      "2017-11-07 23:11:40    1\n",
      "2017-11-08 06:43:39    1\n",
      "2017-11-09 00:18:24    1\n",
      "2017-11-08 14:28:21    1\n",
      "2017-11-09 10:57:44    1\n",
      "2017-11-08 14:17:26    1\n",
      "2017-11-08 23:45:22    1\n",
      "2017-11-09 15:28:15    1\n",
      "2017-11-08 12:07:07    1\n",
      "2017-11-07 15:48:34    1\n",
      "2017-11-09 07:21:55    1\n",
      "2017-11-07 07:57:47    1\n",
      "2017-11-09 08:47:55    1\n",
      "2017-11-09 01:13:01    1\n",
      "2017-11-07 08:36:30    1\n",
      "2017-11-09 12:49:58    1\n",
      "2017-11-09 11:52:01    1\n",
      "2017-11-08 04:38:38    1\n",
      "2017-11-09 06:45:06    1\n",
      "2017-11-07 06:29:27    1\n",
      "2017-11-07 03:18:39    1\n",
      "2017-11-09 08:59:35    1\n",
      "2017-11-08 05:03:30    1\n",
      "2017-11-07 14:55:56    1\n",
      "                      ..\n",
      "2017-11-08 14:35:39    1\n",
      "2017-11-07 03:38:32    1\n",
      "2017-11-09 11:20:15    1\n",
      "2017-11-09 03:52:48    1\n",
      "2017-11-07 13:46:28    1\n",
      "2017-11-09 10:47:54    1\n",
      "2017-11-07 04:30:44    1\n",
      "2017-11-09 14:22:16    1\n",
      "2017-11-09 05:28:52    1\n",
      "2017-11-08 23:53:53    1\n",
      "2017-11-08 09:06:37    1\n",
      "2017-11-09 12:40:10    1\n",
      "2017-11-07 07:52:55    1\n",
      "2017-11-09 06:05:22    1\n",
      "2017-11-08 04:35:54    1\n",
      "2017-11-07 13:17:15    1\n",
      "2017-11-08 12:47:19    1\n",
      "2017-11-09 00:44:51    1\n",
      "2017-11-09 05:02:33    1\n",
      "2017-11-08 22:39:52    1\n",
      "2017-11-09 09:42:54    1\n",
      "2017-11-07 03:17:23    1\n",
      "2017-11-09 07:38:10    1\n",
      "2017-11-08 23:59:05    1\n",
      "2017-11-08 14:58:38    1\n",
      "2017-11-07 10:14:30    1\n",
      "2017-11-07 12:52:45    1\n",
      "2017-11-08 15:56:03    1\n",
      "2017-11-09 07:28:37    1\n",
      "2017-11-09 14:30:54    1\n",
      "Name: attributed_time, Length: 227, dtype: int64\n",
      "**************************************************\n",
      "0    99773\n",
      "1      227\n",
      "Name: is_attributed, dtype: int64\n",
      "**************************************************\n"
     ]
    }
   ],
   "source": [
    "for c in train.columns:\n",
    "    if c != 'ip':\n",
    "        print(train[c].value_counts())\n",
    "        print('*'*50)\n",
    "#better way is to plot it"
   ]
  },
  {
   "cell_type": "code",
   "execution_count": 73,
   "metadata": {},
   "outputs": [],
   "source": [
    "train['XX'] = pd.to_datetime(train['click_time'], format=\"%Y-%m-%d %H:%M:%S\")"
   ]
  },
  {
   "cell_type": "code",
   "execution_count": 74,
   "metadata": {},
   "outputs": [
    {
     "data": {
      "text/plain": [
       "2    34035\n",
       "1    32393\n",
       "3    28561\n",
       "0     5011\n",
       "Name: XX, dtype: int64"
      ]
     },
     "execution_count": 74,
     "metadata": {},
     "output_type": "execute_result"
    }
   ],
   "source": [
    "train['XX'].dt.weekday.value_counts()"
   ]
  },
  {
   "cell_type": "code",
   "execution_count": 75,
   "metadata": {},
   "outputs": [
    {
     "data": {
      "text/html": [
       "<div>\n",
       "<style scoped>\n",
       "    .dataframe tbody tr th:only-of-type {\n",
       "        vertical-align: middle;\n",
       "    }\n",
       "\n",
       "    .dataframe tbody tr th {\n",
       "        vertical-align: top;\n",
       "    }\n",
       "\n",
       "    .dataframe thead th {\n",
       "        text-align: right;\n",
       "    }\n",
       "</style>\n",
       "<table border=\"1\" class=\"dataframe\">\n",
       "  <thead>\n",
       "    <tr style=\"text-align: right;\">\n",
       "      <th></th>\n",
       "      <th>click_id</th>\n",
       "      <th>ip</th>\n",
       "      <th>app</th>\n",
       "      <th>device</th>\n",
       "      <th>os</th>\n",
       "      <th>channel</th>\n",
       "      <th>click_time</th>\n",
       "    </tr>\n",
       "  </thead>\n",
       "  <tbody>\n",
       "    <tr>\n",
       "      <th>4162302</th>\n",
       "      <td>4162302</td>\n",
       "      <td>31382</td>\n",
       "      <td>26</td>\n",
       "      <td>1</td>\n",
       "      <td>12</td>\n",
       "      <td>477</td>\n",
       "      <td>2017-11-10 05:16:18</td>\n",
       "    </tr>\n",
       "    <tr>\n",
       "      <th>630012</th>\n",
       "      <td>630013</td>\n",
       "      <td>71699</td>\n",
       "      <td>3</td>\n",
       "      <td>1</td>\n",
       "      <td>13</td>\n",
       "      <td>442</td>\n",
       "      <td>2017-11-10 04:11:09</td>\n",
       "    </tr>\n",
       "    <tr>\n",
       "      <th>16326074</th>\n",
       "      <td>16326074</td>\n",
       "      <td>50218</td>\n",
       "      <td>9</td>\n",
       "      <td>1</td>\n",
       "      <td>13</td>\n",
       "      <td>244</td>\n",
       "      <td>2017-11-10 14:14:15</td>\n",
       "    </tr>\n",
       "    <tr>\n",
       "      <th>17728164</th>\n",
       "      <td>17728164</td>\n",
       "      <td>43671</td>\n",
       "      <td>18</td>\n",
       "      <td>1</td>\n",
       "      <td>27</td>\n",
       "      <td>439</td>\n",
       "      <td>2017-11-10 14:39:15</td>\n",
       "    </tr>\n",
       "    <tr>\n",
       "      <th>4246895</th>\n",
       "      <td>4246895</td>\n",
       "      <td>7554</td>\n",
       "      <td>14</td>\n",
       "      <td>1</td>\n",
       "      <td>13</td>\n",
       "      <td>401</td>\n",
       "      <td>2017-11-10 05:18:05</td>\n",
       "    </tr>\n",
       "  </tbody>\n",
       "</table>\n",
       "</div>"
      ],
      "text/plain": [
       "          click_id     ip  app  device  os  channel           click_time\n",
       "4162302    4162302  31382   26       1  12      477  2017-11-10 05:16:18\n",
       "630012      630013  71699    3       1  13      442  2017-11-10 04:11:09\n",
       "16326074  16326074  50218    9       1  13      244  2017-11-10 14:14:15\n",
       "17728164  17728164  43671   18       1  27      439  2017-11-10 14:39:15\n",
       "4246895    4246895   7554   14       1  13      401  2017-11-10 05:18:05"
      ]
     },
     "execution_count": 75,
     "metadata": {},
     "output_type": "execute_result"
    }
   ],
   "source": [
    "test.sample(5)"
   ]
  },
  {
   "cell_type": "code",
   "execution_count": 76,
   "metadata": {},
   "outputs": [],
   "source": [
    "test['X'] = pd.to_datetime(test['click_time'], format=\"%Y-%m-%d %H:%M:%S\")"
   ]
  },
  {
   "cell_type": "code",
   "execution_count": 77,
   "metadata": {},
   "outputs": [
    {
     "data": {
      "text/plain": [
       "10    18790469\n",
       "Name: X, dtype: int64"
      ]
     },
     "execution_count": 77,
     "metadata": {},
     "output_type": "execute_result"
    }
   ],
   "source": [
    "test['X'].dt.day.value_counts()"
   ]
  },
  {
   "cell_type": "code",
   "execution_count": 78,
   "metadata": {},
   "outputs": [
    {
     "data": {
      "text/plain": [
       "ip                          int64\n",
       "app                         int64\n",
       "device                      int64\n",
       "os                          int64\n",
       "channel                     int64\n",
       "click_time                 object\n",
       "attributed_time            object\n",
       "is_attributed               int64\n",
       "XX                 datetime64[ns]\n",
       "hour                        int64\n",
       "minute                      int64\n",
       "dtype: object"
      ]
     },
     "execution_count": 78,
     "metadata": {},
     "output_type": "execute_result"
    }
   ],
   "source": [
    "##since test dataset doesn't samples from different date that is not there in train dataset, weekday and date won't help\n",
    "#train['date'] = pd.to_datetime(train['click_time'], format=\"%Y-%m-%d %H:%M:%S\").dt.day\n",
    "train['hour'] = pd.to_datetime(train['click_time'], format=\"%Y-%m-%d %H:%M:%S\").dt.hour\n",
    "train['minute'] = pd.to_datetime(train['click_time'], format=\"%Y-%m-%d %H:%M:%S\").dt.minute\n",
    "#train['weekDay'] = pd.to_datetime(train['click_time'], format=\"%Y-%m-%d %H:%M:%S\").dt.weekday\n",
    "train.dtypes"
   ]
  },
  {
   "cell_type": "code",
   "execution_count": 79,
   "metadata": {},
   "outputs": [
    {
     "data": {
      "text/plain": [
       "ip               int64\n",
       "app              int64\n",
       "device           int64\n",
       "os               int64\n",
       "channel          int64\n",
       "is_attributed    int64\n",
       "hour             int64\n",
       "minute           int64\n",
       "dtype: object"
      ]
     },
     "execution_count": 79,
     "metadata": {},
     "output_type": "execute_result"
    }
   ],
   "source": [
    "train.drop(['click_time','attributed_time','XX'], axis=1, inplace=True)\n",
    "train.dtypes"
   ]
  },
  {
   "cell_type": "code",
   "execution_count": 80,
   "metadata": {},
   "outputs": [
    {
     "data": {
      "text/plain": [
       "click_id               int64\n",
       "ip                     int64\n",
       "app                    int64\n",
       "device                 int64\n",
       "os                     int64\n",
       "channel                int64\n",
       "click_time            object\n",
       "X             datetime64[ns]\n",
       "hour                   int64\n",
       "minute                 int64\n",
       "dtype: object"
      ]
     },
     "execution_count": 80,
     "metadata": {},
     "output_type": "execute_result"
    }
   ],
   "source": [
    "test['hour'] = pd.to_datetime(test['click_time'], format=\"%Y-%m-%d %H:%M:%S\").dt.hour\n",
    "test['minute'] = pd.to_datetime(test['click_time'], format=\"%Y-%m-%d %H:%M:%S\").dt.minute\n",
    "test.dtypes"
   ]
  },
  {
   "cell_type": "code",
   "execution_count": 81,
   "metadata": {},
   "outputs": [
    {
     "data": {
      "text/plain": [
       "click_id    int64\n",
       "ip          int64\n",
       "app         int64\n",
       "device      int64\n",
       "os          int64\n",
       "channel     int64\n",
       "hour        int64\n",
       "minute      int64\n",
       "dtype: object"
      ]
     },
     "execution_count": 81,
     "metadata": {},
     "output_type": "execute_result"
    }
   ],
   "source": [
    "test.drop(['click_time','X'], axis=1, inplace=True)\n",
    "test.dtypes"
   ]
  },
  {
   "cell_type": "markdown",
   "metadata": {},
   "source": [
    "**Data fields** : Each row of the training data contains a click record, with the following features.\n",
    "\n",
    "1. ip: ip address of click.\n",
    "2. app: app id for marketing.\n",
    "3. device: device type id of user mobile phone (e.g., iphone 6 plus, iphone 7, huawei mate 7, etc.)\n",
    "4. os: os version id of user mobile phone\n",
    "5. channel: channel id of mobile ad publisher\n",
    "6. click_time: timestamp of click (UTC)\n",
    "7. attributed_time: if user download the app for after clicking an ad, this is the time of the app download\n",
    "8. is_attributed: the target that is to be predicted, indicating the app was downloaded\n",
    "\n",
    "'app', 'channel', 'time' are critical"
   ]
  },
  {
   "cell_type": "code",
   "execution_count": 82,
   "metadata": {},
   "outputs": [
    {
     "data": {
      "text/plain": [
       "-0.028237659717744154"
      ]
     },
     "execution_count": 82,
     "metadata": {},
     "output_type": "execute_result"
    }
   ],
   "source": [
    "train['app'].corr(train['channel'])"
   ]
  },
  {
   "cell_type": "code",
   "execution_count": 83,
   "metadata": {},
   "outputs": [],
   "source": [
    "#import seaborn as sns\n",
    "#sns.pairplot(train[['channel','app']])"
   ]
  },
  {
   "cell_type": "code",
   "execution_count": 84,
   "metadata": {},
   "outputs": [
    {
     "data": {
      "text/html": [
       "<div>\n",
       "<style scoped>\n",
       "    .dataframe tbody tr th:only-of-type {\n",
       "        vertical-align: middle;\n",
       "    }\n",
       "\n",
       "    .dataframe tbody tr th {\n",
       "        vertical-align: top;\n",
       "    }\n",
       "\n",
       "    .dataframe thead th {\n",
       "        text-align: right;\n",
       "    }\n",
       "</style>\n",
       "<table border=\"1\" class=\"dataframe\">\n",
       "  <thead>\n",
       "    <tr style=\"text-align: right;\">\n",
       "      <th></th>\n",
       "      <th>channel</th>\n",
       "      <th>app</th>\n",
       "    </tr>\n",
       "  </thead>\n",
       "  <tbody>\n",
       "    <tr>\n",
       "      <th>19356</th>\n",
       "      <td>489</td>\n",
       "      <td>14</td>\n",
       "    </tr>\n",
       "    <tr>\n",
       "      <th>42828</th>\n",
       "      <td>17</td>\n",
       "      <td>1</td>\n",
       "    </tr>\n",
       "    <tr>\n",
       "      <th>79228</th>\n",
       "      <td>134</td>\n",
       "      <td>18</td>\n",
       "    </tr>\n",
       "    <tr>\n",
       "      <th>27814</th>\n",
       "      <td>280</td>\n",
       "      <td>3</td>\n",
       "    </tr>\n",
       "    <tr>\n",
       "      <th>78325</th>\n",
       "      <td>334</td>\n",
       "      <td>9</td>\n",
       "    </tr>\n",
       "    <tr>\n",
       "      <th>81175</th>\n",
       "      <td>107</td>\n",
       "      <td>18</td>\n",
       "    </tr>\n",
       "    <tr>\n",
       "      <th>14461</th>\n",
       "      <td>469</td>\n",
       "      <td>13</td>\n",
       "    </tr>\n",
       "    <tr>\n",
       "      <th>54426</th>\n",
       "      <td>245</td>\n",
       "      <td>12</td>\n",
       "    </tr>\n",
       "    <tr>\n",
       "      <th>5993</th>\n",
       "      <td>234</td>\n",
       "      <td>9</td>\n",
       "    </tr>\n",
       "    <tr>\n",
       "      <th>4631</th>\n",
       "      <td>105</td>\n",
       "      <td>24</td>\n",
       "    </tr>\n",
       "  </tbody>\n",
       "</table>\n",
       "</div>"
      ],
      "text/plain": [
       "       channel  app\n",
       "19356      489   14\n",
       "42828       17    1\n",
       "79228      134   18\n",
       "27814      280    3\n",
       "78325      334    9\n",
       "81175      107   18\n",
       "14461      469   13\n",
       "54426      245   12\n",
       "5993       234    9\n",
       "4631       105   24"
      ]
     },
     "execution_count": 84,
     "metadata": {},
     "output_type": "execute_result"
    }
   ],
   "source": [
    "train[['channel','app']].sample(10)"
   ]
  },
  {
   "cell_type": "markdown",
   "metadata": {},
   "source": [
    "# Model"
   ]
  },
  {
   "cell_type": "code",
   "execution_count": 85,
   "metadata": {},
   "outputs": [],
   "source": [
    "Xtrain = train.drop(['is_attributed'], axis=1)\n",
    "ytrain = train['is_attributed']\n",
    "Xtest = test.drop(['click_id'], axis=1)"
   ]
  },
  {
   "cell_type": "code",
   "execution_count": 86,
   "metadata": {},
   "outputs": [
    {
     "data": {
      "text/plain": [
       "ip               int64\n",
       "app              int64\n",
       "device           int64\n",
       "os               int64\n",
       "channel          int64\n",
       "is_attributed    int64\n",
       "hour             int64\n",
       "minute           int64\n",
       "dtype: object"
      ]
     },
     "execution_count": 86,
     "metadata": {},
     "output_type": "execute_result"
    }
   ],
   "source": [
    "train.dtypes"
   ]
  },
  {
   "cell_type": "code",
   "execution_count": 87,
   "metadata": {},
   "outputs": [
    {
     "data": {
      "text/plain": [
       "dtype('int64')"
      ]
     },
     "execution_count": 87,
     "metadata": {},
     "output_type": "execute_result"
    }
   ],
   "source": [
    "ytrain.dtypes"
   ]
  },
  {
   "cell_type": "code",
   "execution_count": 88,
   "metadata": {},
   "outputs": [
    {
     "data": {
      "text/plain": [
       "ip         int64\n",
       "app        int64\n",
       "device     int64\n",
       "os         int64\n",
       "channel    int64\n",
       "hour       int64\n",
       "minute     int64\n",
       "dtype: object"
      ]
     },
     "execution_count": 88,
     "metadata": {},
     "output_type": "execute_result"
    }
   ],
   "source": [
    "Xtest.dtypes"
   ]
  },
  {
   "cell_type": "code",
   "execution_count": null,
   "metadata": {},
   "outputs": [],
   "source": []
  },
  {
   "cell_type": "code",
   "execution_count": 89,
   "metadata": {},
   "outputs": [],
   "source": [
    "from xgboost import XGBClassifier\n",
    "model = XGBClassifier()"
   ]
  },
  {
   "cell_type": "code",
   "execution_count": 90,
   "metadata": {},
   "outputs": [
    {
     "name": "stdout",
     "output_type": "stream",
     "text": [
      "Wall time: 5.01 s\n"
     ]
    },
    {
     "data": {
      "text/plain": [
       "XGBClassifier(base_score=0.5, booster='gbtree', colsample_bylevel=1,\n",
       "       colsample_bytree=1, gamma=0, learning_rate=0.1, max_delta_step=0,\n",
       "       max_depth=3, min_child_weight=1, missing=None, n_estimators=100,\n",
       "       n_jobs=1, nthread=None, objective='binary:logistic', random_state=0,\n",
       "       reg_alpha=0, reg_lambda=1, scale_pos_weight=1, seed=None,\n",
       "       silent=True, subsample=1)"
      ]
     },
     "execution_count": 90,
     "metadata": {},
     "output_type": "execute_result"
    }
   ],
   "source": [
    "%time model.fit(Xtrain, ytrain)"
   ]
  },
  {
   "cell_type": "code",
   "execution_count": 91,
   "metadata": {},
   "outputs": [
    {
     "name": "stderr",
     "output_type": "stream",
     "text": [
      "C:\\Anaconda3\\lib\\site-packages\\sklearn\\preprocessing\\label.py:151: DeprecationWarning: The truth value of an empty array is ambiguous. Returning False, but in future this will result in an error. Use `array.size > 0` to check that an array is not empty.\n",
      "  if diff:\n"
     ]
    },
    {
     "name": "stdout",
     "output_type": "stream",
     "text": [
      "Wall time: 34.6 s\n"
     ]
    }
   ],
   "source": [
    "%time ypred = model.predict(Xtest)"
   ]
  },
  {
   "cell_type": "code",
   "execution_count": 92,
   "metadata": {},
   "outputs": [],
   "source": [
    "#predictions = [round(value) for value in ypred]"
   ]
  },
  {
   "cell_type": "code",
   "execution_count": 93,
   "metadata": {},
   "outputs": [
    {
     "data": {
      "text/plain": [
       "click_id         int64\n",
       "is_attributed    int64\n",
       "dtype: object"
      ]
     },
     "execution_count": 93,
     "metadata": {},
     "output_type": "execute_result"
    }
   ],
   "source": [
    "output = pd.read_csv('sample_submission.csv')\n",
    "output.dtypes"
   ]
  },
  {
   "cell_type": "code",
   "execution_count": 94,
   "metadata": {},
   "outputs": [],
   "source": [
    "output['click_id'] = test['click_id']\n",
    "output['is_attributed'] = ypred"
   ]
  },
  {
   "cell_type": "code",
   "execution_count": 44,
   "metadata": {},
   "outputs": [
    {
     "data": {
      "text/plain": [
       "(18790469, 2)"
      ]
     },
     "execution_count": 44,
     "metadata": {},
     "output_type": "execute_result"
    }
   ],
   "source": [
    "output.shape"
   ]
  },
  {
   "cell_type": "code",
   "execution_count": 95,
   "metadata": {},
   "outputs": [
    {
     "data": {
      "text/html": [
       "<div>\n",
       "<style scoped>\n",
       "    .dataframe tbody tr th:only-of-type {\n",
       "        vertical-align: middle;\n",
       "    }\n",
       "\n",
       "    .dataframe tbody tr th {\n",
       "        vertical-align: top;\n",
       "    }\n",
       "\n",
       "    .dataframe thead th {\n",
       "        text-align: right;\n",
       "    }\n",
       "</style>\n",
       "<table border=\"1\" class=\"dataframe\">\n",
       "  <thead>\n",
       "    <tr style=\"text-align: right;\">\n",
       "      <th></th>\n",
       "      <th>click_id</th>\n",
       "      <th>is_attributed</th>\n",
       "    </tr>\n",
       "  </thead>\n",
       "  <tbody>\n",
       "    <tr>\n",
       "      <th>16544739</th>\n",
       "      <td>16544739</td>\n",
       "      <td>0</td>\n",
       "    </tr>\n",
       "    <tr>\n",
       "      <th>8799190</th>\n",
       "      <td>8799190</td>\n",
       "      <td>0</td>\n",
       "    </tr>\n",
       "    <tr>\n",
       "      <th>16015726</th>\n",
       "      <td>16015726</td>\n",
       "      <td>0</td>\n",
       "    </tr>\n",
       "    <tr>\n",
       "      <th>3694037</th>\n",
       "      <td>3694037</td>\n",
       "      <td>0</td>\n",
       "    </tr>\n",
       "    <tr>\n",
       "      <th>2781670</th>\n",
       "      <td>2781670</td>\n",
       "      <td>0</td>\n",
       "    </tr>\n",
       "  </tbody>\n",
       "</table>\n",
       "</div>"
      ],
      "text/plain": [
       "          click_id  is_attributed\n",
       "16544739  16544739              0\n",
       "8799190    8799190              0\n",
       "16015726  16015726              0\n",
       "3694037    3694037              0\n",
       "2781670    2781670              0"
      ]
     },
     "execution_count": 95,
     "metadata": {},
     "output_type": "execute_result"
    }
   ],
   "source": [
    "output.sample(5)"
   ]
  },
  {
   "cell_type": "code",
   "execution_count": 96,
   "metadata": {},
   "outputs": [
    {
     "data": {
      "text/plain": [
       "0    18790469\n",
       "Name: is_attributed, dtype: int64"
      ]
     },
     "execution_count": 96,
     "metadata": {},
     "output_type": "execute_result"
    }
   ],
   "source": [
    "output['is_attributed'].value_counts()"
   ]
  },
  {
   "cell_type": "code",
   "execution_count": 29,
   "metadata": {},
   "outputs": [
    {
     "ename": "PermissionError",
     "evalue": "[Errno 13] Permission denied",
     "output_type": "error",
     "traceback": [
      "\u001b[1;31m---------------------------------------------------------------------------\u001b[0m",
      "\u001b[1;31mPermissionError\u001b[0m                           Traceback (most recent call last)",
      "\u001b[1;32m<ipython-input-29-51809aa84fcf>\u001b[0m in \u001b[0;36m<module>\u001b[1;34m()\u001b[0m\n\u001b[1;32m----> 1\u001b[1;33m \u001b[0moutput\u001b[0m\u001b[1;33m.\u001b[0m\u001b[0mto_csv\u001b[0m\u001b[1;33m(\u001b[0m\u001b[1;34m'm1s.csv'\u001b[0m\u001b[1;33m,\u001b[0m \u001b[0mindex\u001b[0m\u001b[1;33m=\u001b[0m\u001b[1;32mFalse\u001b[0m\u001b[1;33m)\u001b[0m\u001b[1;33m\u001b[0m\u001b[0m\n\u001b[0m",
      "\u001b[1;32mC:\\Anaconda3\\lib\\site-packages\\pandas\\core\\frame.py\u001b[0m in \u001b[0;36mto_csv\u001b[1;34m(self, path_or_buf, sep, na_rep, float_format, columns, header, index, index_label, mode, encoding, compression, quoting, quotechar, line_terminator, chunksize, tupleize_cols, date_format, doublequote, escapechar, decimal)\u001b[0m\n\u001b[0;32m   1522\u001b[0m                                      \u001b[0mdoublequote\u001b[0m\u001b[1;33m=\u001b[0m\u001b[0mdoublequote\u001b[0m\u001b[1;33m,\u001b[0m\u001b[1;33m\u001b[0m\u001b[0m\n\u001b[0;32m   1523\u001b[0m                                      escapechar=escapechar, decimal=decimal)\n\u001b[1;32m-> 1524\u001b[1;33m         \u001b[0mformatter\u001b[0m\u001b[1;33m.\u001b[0m\u001b[0msave\u001b[0m\u001b[1;33m(\u001b[0m\u001b[1;33m)\u001b[0m\u001b[1;33m\u001b[0m\u001b[0m\n\u001b[0m\u001b[0;32m   1525\u001b[0m \u001b[1;33m\u001b[0m\u001b[0m\n\u001b[0;32m   1526\u001b[0m         \u001b[1;32mif\u001b[0m \u001b[0mpath_or_buf\u001b[0m \u001b[1;32mis\u001b[0m \u001b[1;32mNone\u001b[0m\u001b[1;33m:\u001b[0m\u001b[1;33m\u001b[0m\u001b[0m\n",
      "\u001b[1;32mC:\\Anaconda3\\lib\\site-packages\\pandas\\io\\formats\\format.py\u001b[0m in \u001b[0;36msave\u001b[1;34m(self)\u001b[0m\n\u001b[0;32m   1650\u001b[0m                 \u001b[0mself\u001b[0m\u001b[1;33m.\u001b[0m\u001b[0mwriter\u001b[0m \u001b[1;33m=\u001b[0m \u001b[0mUnicodeWriter\u001b[0m\u001b[1;33m(\u001b[0m\u001b[0mf\u001b[0m\u001b[1;33m,\u001b[0m \u001b[1;33m**\u001b[0m\u001b[0mwriter_kwargs\u001b[0m\u001b[1;33m)\u001b[0m\u001b[1;33m\u001b[0m\u001b[0m\n\u001b[0;32m   1651\u001b[0m \u001b[1;33m\u001b[0m\u001b[0m\n\u001b[1;32m-> 1652\u001b[1;33m             \u001b[0mself\u001b[0m\u001b[1;33m.\u001b[0m\u001b[0m_save\u001b[0m\u001b[1;33m(\u001b[0m\u001b[1;33m)\u001b[0m\u001b[1;33m\u001b[0m\u001b[0m\n\u001b[0m\u001b[0;32m   1653\u001b[0m \u001b[1;33m\u001b[0m\u001b[0m\n\u001b[0;32m   1654\u001b[0m         \u001b[1;32mfinally\u001b[0m\u001b[1;33m:\u001b[0m\u001b[1;33m\u001b[0m\u001b[0m\n",
      "\u001b[1;32mC:\\Anaconda3\\lib\\site-packages\\pandas\\io\\formats\\format.py\u001b[0m in \u001b[0;36m_save\u001b[1;34m(self)\u001b[0m\n\u001b[0;32m   1752\u001b[0m                 \u001b[1;32mbreak\u001b[0m\u001b[1;33m\u001b[0m\u001b[0m\n\u001b[0;32m   1753\u001b[0m \u001b[1;33m\u001b[0m\u001b[0m\n\u001b[1;32m-> 1754\u001b[1;33m             \u001b[0mself\u001b[0m\u001b[1;33m.\u001b[0m\u001b[0m_save_chunk\u001b[0m\u001b[1;33m(\u001b[0m\u001b[0mstart_i\u001b[0m\u001b[1;33m,\u001b[0m \u001b[0mend_i\u001b[0m\u001b[1;33m)\u001b[0m\u001b[1;33m\u001b[0m\u001b[0m\n\u001b[0m\u001b[0;32m   1755\u001b[0m \u001b[1;33m\u001b[0m\u001b[0m\n\u001b[0;32m   1756\u001b[0m     \u001b[1;32mdef\u001b[0m \u001b[0m_save_chunk\u001b[0m\u001b[1;33m(\u001b[0m\u001b[0mself\u001b[0m\u001b[1;33m,\u001b[0m \u001b[0mstart_i\u001b[0m\u001b[1;33m,\u001b[0m \u001b[0mend_i\u001b[0m\u001b[1;33m)\u001b[0m\u001b[1;33m:\u001b[0m\u001b[1;33m\u001b[0m\u001b[0m\n",
      "\u001b[1;32mC:\\Anaconda3\\lib\\site-packages\\pandas\\io\\formats\\format.py\u001b[0m in \u001b[0;36m_save_chunk\u001b[1;34m(self, start_i, end_i)\u001b[0m\n\u001b[0;32m   1778\u001b[0m                                         quoting=self.quoting)\n\u001b[0;32m   1779\u001b[0m \u001b[1;33m\u001b[0m\u001b[0m\n\u001b[1;32m-> 1780\u001b[1;33m         \u001b[0mlib\u001b[0m\u001b[1;33m.\u001b[0m\u001b[0mwrite_csv_rows\u001b[0m\u001b[1;33m(\u001b[0m\u001b[0mself\u001b[0m\u001b[1;33m.\u001b[0m\u001b[0mdata\u001b[0m\u001b[1;33m,\u001b[0m \u001b[0mix\u001b[0m\u001b[1;33m,\u001b[0m \u001b[0mself\u001b[0m\u001b[1;33m.\u001b[0m\u001b[0mnlevels\u001b[0m\u001b[1;33m,\u001b[0m \u001b[0mself\u001b[0m\u001b[1;33m.\u001b[0m\u001b[0mcols\u001b[0m\u001b[1;33m,\u001b[0m \u001b[0mself\u001b[0m\u001b[1;33m.\u001b[0m\u001b[0mwriter\u001b[0m\u001b[1;33m)\u001b[0m\u001b[1;33m\u001b[0m\u001b[0m\n\u001b[0m\u001b[0;32m   1781\u001b[0m \u001b[1;33m\u001b[0m\u001b[0m\n\u001b[0;32m   1782\u001b[0m \u001b[1;33m\u001b[0m\u001b[0m\n",
      "\u001b[1;32mpandas/_libs/lib.pyx\u001b[0m in \u001b[0;36mpandas._libs.lib.write_csv_rows\u001b[1;34m()\u001b[0m\n",
      "\u001b[1;31mPermissionError\u001b[0m: [Errno 13] Permission denied"
     ]
    }
   ],
   "source": [
    "output.to_csv('m1s.csv', index=False)"
   ]
  }
 ],
 "metadata": {
  "kernelspec": {
   "display_name": "Python 3",
   "language": "python",
   "name": "python3"
  },
  "language_info": {
   "codemirror_mode": {
    "name": "ipython",
    "version": 3
   },
   "file_extension": ".py",
   "mimetype": "text/x-python",
   "name": "python",
   "nbconvert_exporter": "python",
   "pygments_lexer": "ipython3",
   "version": "3.6.4"
  }
 },
 "nbformat": 4,
 "nbformat_minor": 2
}
