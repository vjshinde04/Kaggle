{
 "cells": [
  {
   "cell_type": "markdown",
   "metadata": {},
   "source": [
    "**Working on smaller chunk of data**\n",
    "\n",
    "**train_sample & test**\n",
    "\n",
    "**Data fields** : Each row of the training data contains a click record, with the following features.\n",
    "\n",
    "1. ip: ip address of click.\n",
    "2. app: app id for marketing.\n",
    "3. device: device type id of user mobile phone (e.g., iphone 6 plus, iphone 7, huawei mate 7, etc.)\n",
    "4. os: os version id of user mobile phone\n",
    "5. channel: channel id of mobile ad publisher\n",
    "6. click_time: timestamp of click (UTC)\n",
    "7. attributed_time: if user download the app for after clicking an ad, this is the time of the app download\n",
    "8. is_attributed: the target that is to be predicted, indicating the app was downloaded\n",
    "\n",
    "Note that ip, app, device, os, and channel are encoded."
   ]
  },
  {
   "cell_type": "code",
   "execution_count": 1,
   "metadata": {},
   "outputs": [],
   "source": [
    "import pandas as pd"
   ]
  },
  {
   "cell_type": "code",
   "execution_count": 9,
   "metadata": {},
   "outputs": [
    {
     "ename": "ModuleNotFoundError",
     "evalue": "No module named 'ray'",
     "output_type": "error",
     "traceback": [
      "\u001b[1;31m---------------------------------------------------------------------------\u001b[0m",
      "\u001b[1;31mModuleNotFoundError\u001b[0m                       Traceback (most recent call last)",
      "\u001b[1;32m<ipython-input-9-77d2a724e4e7>\u001b[0m in \u001b[0;36m<module>\u001b[1;34m()\u001b[0m\n\u001b[1;32m----> 1\u001b[1;33m \u001b[1;32mimport\u001b[0m \u001b[0mray\u001b[0m\u001b[1;33m.\u001b[0m\u001b[0mdataframe\u001b[0m \u001b[1;32mas\u001b[0m \u001b[0mpd\u001b[0m\u001b[1;33m\u001b[0m\u001b[0m\n\u001b[0m\u001b[0;32m      2\u001b[0m \u001b[0mtrain\u001b[0m \u001b[1;33m=\u001b[0m \u001b[0mpd\u001b[0m\u001b[1;33m.\u001b[0m\u001b[0mdataframe\u001b[0m\u001b[1;33m.\u001b[0m\u001b[0mpd\u001b[0m\u001b[1;33m.\u001b[0m\u001b[0mread_csv\u001b[0m\u001b[1;33m(\u001b[0m\u001b[1;34m'train.csv'\u001b[0m\u001b[1;33m)\u001b[0m\u001b[1;33m\u001b[0m\u001b[0m\n",
      "\u001b[1;31mModuleNotFoundError\u001b[0m: No module named 'ray'"
     ]
    }
   ],
   "source": [
    "#import ray.dataframe as pd\n",
    "#train = pd.dataframe.pd.read_csv('train.csv')"
   ]
  },
  {
   "cell_type": "code",
   "execution_count": 5,
   "metadata": {},
   "outputs": [
    {
     "ename": "AttributeError",
     "evalue": "'TextFileReader' object has no attribute 'dtypes'",
     "output_type": "error",
     "traceback": [
      "\u001b[1;31m---------------------------------------------------------------------------\u001b[0m",
      "\u001b[1;31mAttributeError\u001b[0m                            Traceback (most recent call last)",
      "\u001b[1;32m<ipython-input-5-54af40beb9cb>\u001b[0m in \u001b[0;36m<module>\u001b[1;34m()\u001b[0m\n\u001b[0;32m      3\u001b[0m \u001b[1;33m\u001b[0m\u001b[0m\n\u001b[0;32m      4\u001b[0m \u001b[0mtrain\u001b[0m \u001b[1;33m=\u001b[0m \u001b[0mpd\u001b[0m\u001b[1;33m.\u001b[0m\u001b[0mread_csv\u001b[0m\u001b[1;33m(\u001b[0m\u001b[1;34m'train.csv'\u001b[0m\u001b[1;33m,\u001b[0m \u001b[0miterator\u001b[0m\u001b[1;33m=\u001b[0m\u001b[1;32mTrue\u001b[0m\u001b[1;33m,\u001b[0m \u001b[0mchunksize\u001b[0m\u001b[1;33m=\u001b[0m\u001b[1;36m100000\u001b[0m\u001b[1;33m,\u001b[0m \u001b[0mdtype\u001b[0m\u001b[1;33m=\u001b[0m\u001b[1;33m{\u001b[0m\u001b[1;34m'ip'\u001b[0m\u001b[1;33m:\u001b[0m\u001b[0mint\u001b[0m\u001b[1;33m,\u001b[0m\u001b[1;34m'app'\u001b[0m\u001b[1;33m:\u001b[0m\u001b[0mint\u001b[0m\u001b[1;33m,\u001b[0m\u001b[1;34m'device'\u001b[0m\u001b[1;33m:\u001b[0m\u001b[0mint\u001b[0m\u001b[1;33m,\u001b[0m\u001b[1;34m'os'\u001b[0m\u001b[1;33m:\u001b[0m\u001b[0mint\u001b[0m\u001b[1;33m,\u001b[0m\u001b[1;34m'channel'\u001b[0m\u001b[1;33m:\u001b[0m\u001b[0mint\u001b[0m\u001b[1;33m,\u001b[0m\u001b[1;34m'click_time'\u001b[0m\u001b[1;33m:\u001b[0m\u001b[0mobject\u001b[0m\u001b[1;33m,\u001b[0m\u001b[1;34m'attributed_time'\u001b[0m\u001b[1;33m:\u001b[0m\u001b[0mobject\u001b[0m\u001b[1;33m,\u001b[0m\u001b[1;34m'is_attributed'\u001b[0m\u001b[1;33m:\u001b[0m\u001b[0mint\u001b[0m\u001b[1;33m}\u001b[0m\u001b[1;33m)\u001b[0m\u001b[1;33m\u001b[0m\u001b[0m\n\u001b[1;32m----> 5\u001b[1;33m \u001b[0mtrain\u001b[0m\u001b[1;33m.\u001b[0m\u001b[0mdtypes\u001b[0m\u001b[1;33m\u001b[0m\u001b[0m\n\u001b[0m",
      "\u001b[1;31mAttributeError\u001b[0m: 'TextFileReader' object has no attribute 'dtypes'"
     ]
    }
   ],
   "source": [
    "#import dask.dataframe as dd\n",
    "#train = dd.read_csv('train.csv')\n",
    "\n",
    "#tp = pd.read_csv('train.csv', header=None, chunksize=10000)\n",
    "#train = pd.concat(tp, ignore_index=True)\n",
    "\n",
    "train = pd.read_csv('train.csv', iterator=True, chunksize=100000, dtype={'ip':int,'app':int,'device':int,'os':int,'channel':int,'click_time':object,'attributed_time':object,'is_attributed':int})\n",
    "#train.dtypes"
   ]
  },
  {
   "cell_type": "code",
   "execution_count": 7,
   "metadata": {},
   "outputs": [
    {
     "data": {
      "text/html": [
       "<div>\n",
       "<style scoped>\n",
       "    .dataframe tbody tr th:only-of-type {\n",
       "        vertical-align: middle;\n",
       "    }\n",
       "\n",
       "    .dataframe tbody tr th {\n",
       "        vertical-align: top;\n",
       "    }\n",
       "\n",
       "    .dataframe thead th {\n",
       "        text-align: right;\n",
       "    }\n",
       "</style>\n",
       "<table border=\"1\" class=\"dataframe\">\n",
       "  <thead>\n",
       "    <tr style=\"text-align: right;\">\n",
       "      <th></th>\n",
       "      <th>ip</th>\n",
       "      <th>app</th>\n",
       "      <th>device</th>\n",
       "      <th>os</th>\n",
       "      <th>channel</th>\n",
       "      <th>click_time</th>\n",
       "      <th>attributed_time</th>\n",
       "      <th>is_attributed</th>\n",
       "    </tr>\n",
       "  </thead>\n",
       "  <tbody>\n",
       "    <tr>\n",
       "      <th>0</th>\n",
       "      <td>83230</td>\n",
       "      <td>3</td>\n",
       "      <td>1</td>\n",
       "      <td>13</td>\n",
       "      <td>379</td>\n",
       "      <td>2017-11-06 14:32:21</td>\n",
       "      <td>NaN</td>\n",
       "      <td>0</td>\n",
       "    </tr>\n",
       "    <tr>\n",
       "      <th>1</th>\n",
       "      <td>17357</td>\n",
       "      <td>3</td>\n",
       "      <td>1</td>\n",
       "      <td>19</td>\n",
       "      <td>379</td>\n",
       "      <td>2017-11-06 14:33:34</td>\n",
       "      <td>NaN</td>\n",
       "      <td>0</td>\n",
       "    </tr>\n",
       "    <tr>\n",
       "      <th>2</th>\n",
       "      <td>35810</td>\n",
       "      <td>3</td>\n",
       "      <td>1</td>\n",
       "      <td>13</td>\n",
       "      <td>379</td>\n",
       "      <td>2017-11-06 14:34:12</td>\n",
       "      <td>NaN</td>\n",
       "      <td>0</td>\n",
       "    </tr>\n",
       "    <tr>\n",
       "      <th>3</th>\n",
       "      <td>45745</td>\n",
       "      <td>14</td>\n",
       "      <td>1</td>\n",
       "      <td>13</td>\n",
       "      <td>478</td>\n",
       "      <td>2017-11-06 14:34:52</td>\n",
       "      <td>NaN</td>\n",
       "      <td>0</td>\n",
       "    </tr>\n",
       "    <tr>\n",
       "      <th>4</th>\n",
       "      <td>161007</td>\n",
       "      <td>3</td>\n",
       "      <td>1</td>\n",
       "      <td>13</td>\n",
       "      <td>379</td>\n",
       "      <td>2017-11-06 14:35:08</td>\n",
       "      <td>NaN</td>\n",
       "      <td>0</td>\n",
       "    </tr>\n",
       "  </tbody>\n",
       "</table>\n",
       "</div>"
      ],
      "text/plain": [
       "       ip  app  device  os  channel           click_time attributed_time  \\\n",
       "0   83230    3       1  13      379  2017-11-06 14:32:21             NaN   \n",
       "1   17357    3       1  19      379  2017-11-06 14:33:34             NaN   \n",
       "2   35810    3       1  13      379  2017-11-06 14:34:12             NaN   \n",
       "3   45745   14       1  13      478  2017-11-06 14:34:52             NaN   \n",
       "4  161007    3       1  13      379  2017-11-06 14:35:08             NaN   \n",
       "\n",
       "   is_attributed  \n",
       "0              0  \n",
       "1              0  \n",
       "2              0  \n",
       "3              0  \n",
       "4              0  "
      ]
     },
     "execution_count": 7,
     "metadata": {},
     "output_type": "execute_result"
    }
   ],
   "source": [
    "train.get_chunk(5)"
   ]
  },
  {
   "cell_type": "code",
   "execution_count": 8,
   "metadata": {},
   "outputs": [
    {
     "ename": "AttributeError",
     "evalue": "'TextFileReader' object has no attribute 'head'",
     "output_type": "error",
     "traceback": [
      "\u001b[1;31m---------------------------------------------------------------------------\u001b[0m",
      "\u001b[1;31mAttributeError\u001b[0m                            Traceback (most recent call last)",
      "\u001b[1;32m<ipython-input-8-3b77fa18a747>\u001b[0m in \u001b[0;36m<module>\u001b[1;34m()\u001b[0m\n\u001b[1;32m----> 1\u001b[1;33m \u001b[0mtrain\u001b[0m\u001b[1;33m.\u001b[0m\u001b[0mhead\u001b[0m\u001b[1;33m(\u001b[0m\u001b[1;33m)\u001b[0m\u001b[1;33m\u001b[0m\u001b[0m\n\u001b[0m",
      "\u001b[1;31mAttributeError\u001b[0m: 'TextFileReader' object has no attribute 'head'"
     ]
    }
   ],
   "source": [
    "train.head()"
   ]
  },
  {
   "cell_type": "code",
   "execution_count": 3,
   "metadata": {},
   "outputs": [],
   "source": [
    "test = pd.read_csv('test.csv')"
   ]
  },
  {
   "cell_type": "code",
   "execution_count": 6,
   "metadata": {},
   "outputs": [
    {
     "ename": "AttributeError",
     "evalue": "'TextFileReader' object has no attribute 'shape'",
     "output_type": "error",
     "traceback": [
      "\u001b[1;31m---------------------------------------------------------------------------\u001b[0m",
      "\u001b[1;31mAttributeError\u001b[0m                            Traceback (most recent call last)",
      "\u001b[1;32m<ipython-input-6-d9fa8d1e87f0>\u001b[0m in \u001b[0;36m<module>\u001b[1;34m()\u001b[0m\n\u001b[1;32m----> 1\u001b[1;33m \u001b[0mprint\u001b[0m\u001b[1;33m(\u001b[0m\u001b[0mtrain\u001b[0m\u001b[1;33m.\u001b[0m\u001b[0mshape\u001b[0m\u001b[1;33m)\u001b[0m\u001b[1;33m\u001b[0m\u001b[0m\n\u001b[0m\u001b[0;32m      2\u001b[0m \u001b[0mprint\u001b[0m\u001b[1;33m(\u001b[0m\u001b[0mtest\u001b[0m\u001b[1;33m.\u001b[0m\u001b[0mshape\u001b[0m\u001b[1;33m)\u001b[0m\u001b[1;33m\u001b[0m\u001b[0m\n",
      "\u001b[1;31mAttributeError\u001b[0m: 'TextFileReader' object has no attribute 'shape'"
     ]
    }
   ],
   "source": [
    "print(train.shape)\n",
    "print(test.shape)"
   ]
  },
  {
   "cell_type": "code",
   "execution_count": 9,
   "metadata": {},
   "outputs": [
    {
     "ename": "NotImplementedError",
     "evalue": "dd.DataFrame.apply only supports axis=1\n  Try: df.apply(func, axis=1)",
     "output_type": "error",
     "traceback": [
      "\u001b[1;31m---------------------------------------------------------------------------\u001b[0m",
      "\u001b[1;31mNotImplementedError\u001b[0m                       Traceback (most recent call last)",
      "\u001b[1;32m<ipython-input-9-5d6183fd07d9>\u001b[0m in \u001b[0;36m<module>\u001b[1;34m()\u001b[0m\n\u001b[1;32m----> 1\u001b[1;33m \u001b[0mtrain\u001b[0m\u001b[1;33m.\u001b[0m\u001b[0mapply\u001b[0m\u001b[1;33m(\u001b[0m\u001b[1;32mlambda\u001b[0m \u001b[0mx\u001b[0m\u001b[1;33m:\u001b[0m \u001b[0msum\u001b[0m\u001b[1;33m(\u001b[0m\u001b[0mx\u001b[0m\u001b[1;33m.\u001b[0m\u001b[0misnull\u001b[0m\u001b[1;33m(\u001b[0m\u001b[1;33m)\u001b[0m\u001b[1;33m)\u001b[0m\u001b[1;33m)\u001b[0m\u001b[1;33m\u001b[0m\u001b[0m\n\u001b[0m",
      "\u001b[1;32mC:\\Anaconda3\\lib\\site-packages\\dask\\dataframe\\core.py\u001b[0m in \u001b[0;36mapply\u001b[1;34m(self, func, axis, args, meta, **kwds)\u001b[0m\n\u001b[0;32m   2743\u001b[0m             msg = (\"dd.DataFrame.apply only supports axis=1\\n\"\n\u001b[0;32m   2744\u001b[0m                    \"  Try: df.apply(func, axis=1)\")\n\u001b[1;32m-> 2745\u001b[1;33m             \u001b[1;32mraise\u001b[0m \u001b[0mNotImplementedError\u001b[0m\u001b[1;33m(\u001b[0m\u001b[0mmsg\u001b[0m\u001b[1;33m)\u001b[0m\u001b[1;33m\u001b[0m\u001b[0m\n\u001b[0m\u001b[0;32m   2746\u001b[0m \u001b[1;33m\u001b[0m\u001b[0m\n\u001b[0;32m   2747\u001b[0m         \u001b[1;32mif\u001b[0m \u001b[0mmeta\u001b[0m \u001b[1;32mis\u001b[0m \u001b[0mno_default\u001b[0m\u001b[1;33m:\u001b[0m\u001b[1;33m\u001b[0m\u001b[0m\n",
      "\u001b[1;31mNotImplementedError\u001b[0m: dd.DataFrame.apply only supports axis=1\n  Try: df.apply(func, axis=1)"
     ]
    }
   ],
   "source": [
    "train.apply(lambda x: sum(x.isnull()))"
   ]
  },
  {
   "cell_type": "code",
   "execution_count": 4,
   "metadata": {},
   "outputs": [
    {
     "name": "stdout",
     "output_type": "stream",
     "text": [
      "<class 'pandas.core.frame.DataFrame'>\n",
      "RangeIndex: 100000 entries, 0 to 99999\n",
      "Data columns (total 8 columns):\n",
      "ip                 100000 non-null int64\n",
      "app                100000 non-null int64\n",
      "device             100000 non-null int64\n",
      "os                 100000 non-null int64\n",
      "channel            100000 non-null int64\n",
      "click_time         100000 non-null object\n",
      "attributed_time    227 non-null object\n",
      "is_attributed      100000 non-null int64\n",
      "dtypes: int64(6), object(2)\n",
      "memory usage: 6.1+ MB\n"
     ]
    }
   ],
   "source": [
    "train.info()"
   ]
  },
  {
   "cell_type": "code",
   "execution_count": 5,
   "metadata": {},
   "outputs": [
    {
     "data": {
      "text/html": [
       "<div>\n",
       "<style scoped>\n",
       "    .dataframe tbody tr th:only-of-type {\n",
       "        vertical-align: middle;\n",
       "    }\n",
       "\n",
       "    .dataframe tbody tr th {\n",
       "        vertical-align: top;\n",
       "    }\n",
       "\n",
       "    .dataframe thead th {\n",
       "        text-align: right;\n",
       "    }\n",
       "</style>\n",
       "<table border=\"1\" class=\"dataframe\">\n",
       "  <thead>\n",
       "    <tr style=\"text-align: right;\">\n",
       "      <th></th>\n",
       "      <th>ip</th>\n",
       "      <th>app</th>\n",
       "      <th>device</th>\n",
       "      <th>os</th>\n",
       "      <th>channel</th>\n",
       "      <th>click_time</th>\n",
       "      <th>attributed_time</th>\n",
       "      <th>is_attributed</th>\n",
       "    </tr>\n",
       "  </thead>\n",
       "  <tbody>\n",
       "    <tr>\n",
       "      <th>77000</th>\n",
       "      <td>63149</td>\n",
       "      <td>2</td>\n",
       "      <td>1</td>\n",
       "      <td>9</td>\n",
       "      <td>435</td>\n",
       "      <td>2017-11-07 00:48:50</td>\n",
       "      <td>NaN</td>\n",
       "      <td>0</td>\n",
       "    </tr>\n",
       "    <tr>\n",
       "      <th>52359</th>\n",
       "      <td>105695</td>\n",
       "      <td>15</td>\n",
       "      <td>1</td>\n",
       "      <td>53</td>\n",
       "      <td>245</td>\n",
       "      <td>2017-11-09 04:52:27</td>\n",
       "      <td>NaN</td>\n",
       "      <td>0</td>\n",
       "    </tr>\n",
       "    <tr>\n",
       "      <th>12987</th>\n",
       "      <td>3511</td>\n",
       "      <td>3</td>\n",
       "      <td>1</td>\n",
       "      <td>10</td>\n",
       "      <td>280</td>\n",
       "      <td>2017-11-08 17:06:35</td>\n",
       "      <td>NaN</td>\n",
       "      <td>0</td>\n",
       "    </tr>\n",
       "    <tr>\n",
       "      <th>54790</th>\n",
       "      <td>73671</td>\n",
       "      <td>3</td>\n",
       "      <td>1</td>\n",
       "      <td>14</td>\n",
       "      <td>280</td>\n",
       "      <td>2017-11-07 09:25:03</td>\n",
       "      <td>NaN</td>\n",
       "      <td>0</td>\n",
       "    </tr>\n",
       "    <tr>\n",
       "      <th>87136</th>\n",
       "      <td>300225</td>\n",
       "      <td>3</td>\n",
       "      <td>1</td>\n",
       "      <td>36</td>\n",
       "      <td>480</td>\n",
       "      <td>2017-11-08 16:14:06</td>\n",
       "      <td>NaN</td>\n",
       "      <td>0</td>\n",
       "    </tr>\n",
       "  </tbody>\n",
       "</table>\n",
       "</div>"
      ],
      "text/plain": [
       "           ip  app  device  os  channel           click_time attributed_time  \\\n",
       "77000   63149    2       1   9      435  2017-11-07 00:48:50             NaN   \n",
       "52359  105695   15       1  53      245  2017-11-09 04:52:27             NaN   \n",
       "12987    3511    3       1  10      280  2017-11-08 17:06:35             NaN   \n",
       "54790   73671    3       1  14      280  2017-11-07 09:25:03             NaN   \n",
       "87136  300225    3       1  36      480  2017-11-08 16:14:06             NaN   \n",
       "\n",
       "       is_attributed  \n",
       "77000              0  \n",
       "52359              0  \n",
       "12987              0  \n",
       "54790              0  \n",
       "87136              0  "
      ]
     },
     "execution_count": 5,
     "metadata": {},
     "output_type": "execute_result"
    }
   ],
   "source": [
    "train.sample(5)"
   ]
  },
  {
   "cell_type": "code",
   "execution_count": 6,
   "metadata": {},
   "outputs": [
    {
     "data": {
      "text/html": [
       "<div>\n",
       "<style scoped>\n",
       "    .dataframe tbody tr th:only-of-type {\n",
       "        vertical-align: middle;\n",
       "    }\n",
       "\n",
       "    .dataframe tbody tr th {\n",
       "        vertical-align: top;\n",
       "    }\n",
       "\n",
       "    .dataframe thead th {\n",
       "        text-align: right;\n",
       "    }\n",
       "</style>\n",
       "<table border=\"1\" class=\"dataframe\">\n",
       "  <thead>\n",
       "    <tr style=\"text-align: right;\">\n",
       "      <th></th>\n",
       "      <th>ip</th>\n",
       "      <th>app</th>\n",
       "      <th>device</th>\n",
       "      <th>os</th>\n",
       "      <th>channel</th>\n",
       "      <th>click_time</th>\n",
       "      <th>attributed_time</th>\n",
       "      <th>is_attributed</th>\n",
       "    </tr>\n",
       "  </thead>\n",
       "  <tbody>\n",
       "    <tr>\n",
       "      <th>99562</th>\n",
       "      <td>6481</td>\n",
       "      <td>5</td>\n",
       "      <td>1</td>\n",
       "      <td>13</td>\n",
       "      <td>377</td>\n",
       "      <td>2017-11-08 04:57:34</td>\n",
       "      <td>2017-11-08 15:09:40</td>\n",
       "      <td>1</td>\n",
       "    </tr>\n",
       "    <tr>\n",
       "      <th>33269</th>\n",
       "      <td>14888</td>\n",
       "      <td>35</td>\n",
       "      <td>1</td>\n",
       "      <td>17</td>\n",
       "      <td>274</td>\n",
       "      <td>2017-11-07 10:35:40</td>\n",
       "      <td>2017-11-07 11:37:53</td>\n",
       "      <td>1</td>\n",
       "    </tr>\n",
       "    <tr>\n",
       "      <th>19908</th>\n",
       "      <td>251223</td>\n",
       "      <td>45</td>\n",
       "      <td>1</td>\n",
       "      <td>13</td>\n",
       "      <td>213</td>\n",
       "      <td>2017-11-08 07:59:37</td>\n",
       "      <td>2017-11-08 08:03:26</td>\n",
       "      <td>1</td>\n",
       "    </tr>\n",
       "    <tr>\n",
       "      <th>38701</th>\n",
       "      <td>63776</td>\n",
       "      <td>35</td>\n",
       "      <td>1</td>\n",
       "      <td>19</td>\n",
       "      <td>274</td>\n",
       "      <td>2017-11-08 03:07:41</td>\n",
       "      <td>2017-11-08 03:35:22</td>\n",
       "      <td>1</td>\n",
       "    </tr>\n",
       "    <tr>\n",
       "      <th>4424</th>\n",
       "      <td>252612</td>\n",
       "      <td>5</td>\n",
       "      <td>1</td>\n",
       "      <td>31</td>\n",
       "      <td>113</td>\n",
       "      <td>2017-11-07 20:21:11</td>\n",
       "      <td>2017-11-07 20:21:42</td>\n",
       "      <td>1</td>\n",
       "    </tr>\n",
       "    <tr>\n",
       "      <th>13777</th>\n",
       "      <td>112271</td>\n",
       "      <td>29</td>\n",
       "      <td>1</td>\n",
       "      <td>20</td>\n",
       "      <td>213</td>\n",
       "      <td>2017-11-07 01:45:49</td>\n",
       "      <td>2017-11-07 13:15:15</td>\n",
       "      <td>1</td>\n",
       "    </tr>\n",
       "    <tr>\n",
       "      <th>20526</th>\n",
       "      <td>161034</td>\n",
       "      <td>8</td>\n",
       "      <td>1</td>\n",
       "      <td>13</td>\n",
       "      <td>145</td>\n",
       "      <td>2017-11-07 03:12:15</td>\n",
       "      <td>2017-11-07 05:30:55</td>\n",
       "      <td>1</td>\n",
       "    </tr>\n",
       "    <tr>\n",
       "      <th>48230</th>\n",
       "      <td>102174</td>\n",
       "      <td>29</td>\n",
       "      <td>1</td>\n",
       "      <td>19</td>\n",
       "      <td>213</td>\n",
       "      <td>2017-11-07 06:41:39</td>\n",
       "      <td>2017-11-07 08:08:00</td>\n",
       "      <td>1</td>\n",
       "    </tr>\n",
       "    <tr>\n",
       "      <th>15033</th>\n",
       "      <td>18204</td>\n",
       "      <td>107</td>\n",
       "      <td>1</td>\n",
       "      <td>19</td>\n",
       "      <td>171</td>\n",
       "      <td>2017-11-08 02:04:55</td>\n",
       "      <td>2017-11-08 06:12:02</td>\n",
       "      <td>1</td>\n",
       "    </tr>\n",
       "    <tr>\n",
       "      <th>71284</th>\n",
       "      <td>180702</td>\n",
       "      <td>10</td>\n",
       "      <td>1</td>\n",
       "      <td>7</td>\n",
       "      <td>113</td>\n",
       "      <td>2017-11-07 11:10:18</td>\n",
       "      <td>2017-11-07 11:10:53</td>\n",
       "      <td>1</td>\n",
       "    </tr>\n",
       "  </tbody>\n",
       "</table>\n",
       "</div>"
      ],
      "text/plain": [
       "           ip  app  device  os  channel           click_time  \\\n",
       "99562    6481    5       1  13      377  2017-11-08 04:57:34   \n",
       "33269   14888   35       1  17      274  2017-11-07 10:35:40   \n",
       "19908  251223   45       1  13      213  2017-11-08 07:59:37   \n",
       "38701   63776   35       1  19      274  2017-11-08 03:07:41   \n",
       "4424   252612    5       1  31      113  2017-11-07 20:21:11   \n",
       "13777  112271   29       1  20      213  2017-11-07 01:45:49   \n",
       "20526  161034    8       1  13      145  2017-11-07 03:12:15   \n",
       "48230  102174   29       1  19      213  2017-11-07 06:41:39   \n",
       "15033   18204  107       1  19      171  2017-11-08 02:04:55   \n",
       "71284  180702   10       1   7      113  2017-11-07 11:10:18   \n",
       "\n",
       "           attributed_time  is_attributed  \n",
       "99562  2017-11-08 15:09:40              1  \n",
       "33269  2017-11-07 11:37:53              1  \n",
       "19908  2017-11-08 08:03:26              1  \n",
       "38701  2017-11-08 03:35:22              1  \n",
       "4424   2017-11-07 20:21:42              1  \n",
       "13777  2017-11-07 13:15:15              1  \n",
       "20526  2017-11-07 05:30:55              1  \n",
       "48230  2017-11-07 08:08:00              1  \n",
       "15033  2017-11-08 06:12:02              1  \n",
       "71284  2017-11-07 11:10:53              1  "
      ]
     },
     "execution_count": 6,
     "metadata": {},
     "output_type": "execute_result"
    }
   ],
   "source": [
    "train[train['attributed_time'].notnull()].sample(10)"
   ]
  },
  {
   "cell_type": "code",
   "execution_count": 7,
   "metadata": {},
   "outputs": [
    {
     "name": "stdout",
     "output_type": "stream",
     "text": [
      "3      18279\n",
      "12     13198\n",
      "2      11737\n",
      "9       8992\n",
      "15      8595\n",
      "18      8315\n",
      "14      5359\n",
      "1       3135\n",
      "13      2422\n",
      "8       2004\n",
      "21      1979\n",
      "11      1927\n",
      "26      1633\n",
      "23      1454\n",
      "6       1303\n",
      "64      1079\n",
      "7        981\n",
      "20       911\n",
      "25       804\n",
      "28       720\n",
      "24       704\n",
      "27       696\n",
      "19       478\n",
      "10       388\n",
      "22       386\n",
      "17       380\n",
      "29       360\n",
      "32       286\n",
      "5        188\n",
      "151      109\n",
      "       ...  \n",
      "551        1\n",
      "168        1\n",
      "105        1\n",
      "233        1\n",
      "302        1\n",
      "78         1\n",
      "112        1\n",
      "115        1\n",
      "116        1\n",
      "372        1\n",
      "123        1\n",
      "124        1\n",
      "548        1\n",
      "100        1\n",
      "163        1\n",
      "99         1\n",
      "97         1\n",
      "96         1\n",
      "31         1\n",
      "347        1\n",
      "91         1\n",
      "538        1\n",
      "474        1\n",
      "536        1\n",
      "216        1\n",
      "407        1\n",
      "145        1\n",
      "271        1\n",
      "398        1\n",
      "92         1\n",
      "Name: app, Length: 161, dtype: int64\n",
      "**************************************************\n",
      "1       94338\n",
      "2        4345\n",
      "0         541\n",
      "3032      371\n",
      "3543      151\n",
      "3866       93\n",
      "59         12\n",
      "6           8\n",
      "16          7\n",
      "5           7\n",
      "40          7\n",
      "97          5\n",
      "50          4\n",
      "25          3\n",
      "21          3\n",
      "33          3\n",
      "4           3\n",
      "60          3\n",
      "30          2\n",
      "160         2\n",
      "78          2\n",
      "74          2\n",
      "7           2\n",
      "211         2\n",
      "20          2\n",
      "67          2\n",
      "124         2\n",
      "114         2\n",
      "182         2\n",
      "56          2\n",
      "        ...  \n",
      "116         1\n",
      "1318        1\n",
      "180         1\n",
      "53          1\n",
      "374         1\n",
      "1080        1\n",
      "58          1\n",
      "188         1\n",
      "2429        1\n",
      "103         1\n",
      "486         1\n",
      "3545        1\n",
      "928         1\n",
      "154         1\n",
      "3867        1\n",
      "828         1\n",
      "220         1\n",
      "414         1\n",
      "351         1\n",
      "607         1\n",
      "163         1\n",
      "102         1\n",
      "291         1\n",
      "36          1\n",
      "100         1\n",
      "420         1\n",
      "37          1\n",
      "549         1\n",
      "2980        1\n",
      "347         1\n",
      "Name: device, Length: 100, dtype: int64\n",
      "**************************************************\n",
      "19     23870\n",
      "13     21223\n",
      "17      5232\n",
      "18      4830\n",
      "22      4039\n",
      "10      2816\n",
      "8       2775\n",
      "6       2520\n",
      "15      2396\n",
      "20      2347\n",
      "9       2341\n",
      "25      2248\n",
      "16      1691\n",
      "37      1589\n",
      "3       1576\n",
      "41      1348\n",
      "14      1312\n",
      "1       1185\n",
      "12      1103\n",
      "23      1042\n",
      "27      1008\n",
      "32       915\n",
      "35       914\n",
      "47       789\n",
      "53       759\n",
      "11       752\n",
      "28       704\n",
      "30       676\n",
      "26       482\n",
      "31       426\n",
      "       ...  \n",
      "111        2\n",
      "117        2\n",
      "78         2\n",
      "132        2\n",
      "68         2\n",
      "152        2\n",
      "193        1\n",
      "192        1\n",
      "836        1\n",
      "133        1\n",
      "129        1\n",
      "106        1\n",
      "135        1\n",
      "199        1\n",
      "168        1\n",
      "99         1\n",
      "172        1\n",
      "174        1\n",
      "153        1\n",
      "88         1\n",
      "151        1\n",
      "84         1\n",
      "113        1\n",
      "114        1\n",
      "207        1\n",
      "116        1\n",
      "142        1\n",
      "137        1\n",
      "185        1\n",
      "127        1\n",
      "Name: os, Length: 130, dtype: int64\n",
      "**************************************************\n",
      "280    8114\n",
      "245    4802\n",
      "107    4543\n",
      "477    3960\n",
      "134    3224\n",
      "259    3130\n",
      "265    3013\n",
      "153    2954\n",
      "178    2936\n",
      "121    2472\n",
      "205    2369\n",
      "145    1964\n",
      "442    1941\n",
      "459    1921\n",
      "379    1833\n",
      "439    1528\n",
      "128    1486\n",
      "466    1483\n",
      "135    1473\n",
      "480    1468\n",
      "469    1458\n",
      "489    1426\n",
      "237    1408\n",
      "122    1366\n",
      "140    1328\n",
      "219    1303\n",
      "137    1245\n",
      "435    1220\n",
      "232    1211\n",
      "101    1180\n",
      "       ... \n",
      "457      16\n",
      "356      15\n",
      "268      13\n",
      "126      11\n",
      "174       9\n",
      "22        8\n",
      "486       8\n",
      "5         7\n",
      "404       7\n",
      "203       6\n",
      "341       6\n",
      "332       5\n",
      "108       5\n",
      "488       5\n",
      "419       5\n",
      "272       4\n",
      "420       4\n",
      "456       4\n",
      "353       3\n",
      "483       3\n",
      "410       2\n",
      "455       2\n",
      "15        2\n",
      "114       1\n",
      "4         1\n",
      "261       1\n",
      "498       1\n",
      "465       1\n",
      "474       1\n",
      "451       1\n",
      "Name: channel, Length: 161, dtype: int64\n",
      "**************************************************\n",
      "2017-11-08 12:01:02    7\n",
      "2017-11-07 04:36:16    6\n",
      "2017-11-07 05:00:11    6\n",
      "2017-11-09 14:46:23    6\n",
      "2017-11-08 13:32:05    6\n",
      "2017-11-09 04:00:09    5\n",
      "2017-11-08 13:56:36    5\n",
      "2017-11-06 23:27:07    5\n",
      "2017-11-09 09:53:16    5\n",
      "2017-11-08 16:20:50    5\n",
      "2017-11-08 14:20:42    5\n",
      "2017-11-07 11:53:12    5\n",
      "2017-11-07 11:16:28    5\n",
      "2017-11-07 11:02:34    5\n",
      "2017-11-09 09:40:41    5\n",
      "2017-11-07 06:28:49    5\n",
      "2017-11-07 00:43:13    5\n",
      "2017-11-08 06:13:02    5\n",
      "2017-11-08 02:59:48    5\n",
      "2017-11-07 12:43:25    5\n",
      "2017-11-08 06:02:06    5\n",
      "2017-11-09 04:36:01    5\n",
      "2017-11-09 04:34:28    5\n",
      "2017-11-09 04:34:59    5\n",
      "2017-11-08 08:02:00    5\n",
      "2017-11-08 06:49:04    5\n",
      "2017-11-08 07:38:40    5\n",
      "2017-11-07 16:00:45    5\n",
      "2017-11-07 00:14:03    5\n",
      "2017-11-07 13:59:56    5\n",
      "                      ..\n",
      "2017-11-08 09:18:22    1\n",
      "2017-11-08 10:02:57    1\n",
      "2017-11-07 18:52:49    1\n",
      "2017-11-07 00:02:42    1\n",
      "2017-11-07 23:40:31    1\n",
      "2017-11-07 01:00:05    1\n",
      "2017-11-07 04:27:48    1\n",
      "2017-11-08 04:43:02    1\n",
      "2017-11-09 06:11:14    1\n",
      "2017-11-09 02:12:12    1\n",
      "2017-11-09 03:21:40    1\n",
      "2017-11-08 18:46:37    1\n",
      "2017-11-09 08:52:58    1\n",
      "2017-11-06 21:14:59    1\n",
      "2017-11-07 16:42:19    1\n",
      "2017-11-07 12:16:50    1\n",
      "2017-11-07 16:08:59    1\n",
      "2017-11-07 09:23:57    1\n",
      "2017-11-07 17:18:12    1\n",
      "2017-11-09 08:18:46    1\n",
      "2017-11-08 15:31:13    1\n",
      "2017-11-07 04:11:36    1\n",
      "2017-11-09 05:06:12    1\n",
      "2017-11-06 22:29:52    1\n",
      "2017-11-08 03:09:18    1\n",
      "2017-11-09 04:59:00    1\n",
      "2017-11-06 23:26:41    1\n",
      "2017-11-08 11:44:49    1\n",
      "2017-11-08 09:34:10    1\n",
      "2017-11-08 05:16:46    1\n",
      "Name: click_time, Length: 80350, dtype: int64\n",
      "**************************************************\n",
      "2017-11-06 17:19:04    1\n",
      "2017-11-09 10:47:54    1\n",
      "2017-11-07 04:30:44    1\n",
      "2017-11-08 08:56:58    1\n",
      "2017-11-08 05:11:04    1\n",
      "2017-11-09 05:27:49    1\n",
      "2017-11-07 13:17:15    1\n",
      "2017-11-08 06:22:10    1\n",
      "2017-11-09 14:22:16    1\n",
      "2017-11-07 01:19:12    1\n",
      "2017-11-07 01:50:04    1\n",
      "2017-11-08 13:14:18    1\n",
      "2017-11-09 04:21:34    1\n",
      "2017-11-08 10:15:57    1\n",
      "2017-11-09 04:43:30    1\n",
      "2017-11-08 03:40:54    1\n",
      "2017-11-07 01:35:31    1\n",
      "2017-11-08 02:22:38    1\n",
      "2017-11-07 11:13:21    1\n",
      "2017-11-09 13:04:59    1\n",
      "2017-11-09 08:46:04    1\n",
      "2017-11-09 01:04:00    1\n",
      "2017-11-07 01:34:22    1\n",
      "2017-11-07 07:57:47    1\n",
      "2017-11-07 13:10:30    1\n",
      "2017-11-09 15:28:15    1\n",
      "2017-11-08 01:21:48    1\n",
      "2017-11-07 14:55:56    1\n",
      "2017-11-09 07:11:19    1\n",
      "2017-11-08 00:59:05    1\n",
      "                      ..\n",
      "2017-11-09 08:59:35    1\n",
      "2017-11-09 11:42:06    1\n",
      "2017-11-08 07:03:53    1\n",
      "2017-11-09 07:21:55    1\n",
      "2017-11-08 01:17:35    1\n",
      "2017-11-07 07:56:49    1\n",
      "2017-11-08 15:42:47    1\n",
      "2017-11-08 01:23:34    1\n",
      "2017-11-08 14:02:51    1\n",
      "2017-11-09 09:44:00    1\n",
      "2017-11-07 01:35:27    1\n",
      "2017-11-09 11:52:01    1\n",
      "2017-11-08 10:01:21    1\n",
      "2017-11-08 12:47:19    1\n",
      "2017-11-08 04:18:08    1\n",
      "2017-11-08 21:06:07    1\n",
      "2017-11-08 15:32:29    1\n",
      "2017-11-08 09:46:42    1\n",
      "2017-11-08 11:17:24    1\n",
      "2017-11-09 00:44:51    1\n",
      "2017-11-08 12:18:44    1\n",
      "2017-11-07 07:12:58    1\n",
      "2017-11-09 08:34:40    1\n",
      "2017-11-09 09:03:22    1\n",
      "2017-11-08 00:48:35    1\n",
      "2017-11-07 03:01:55    1\n",
      "2017-11-09 12:03:50    1\n",
      "2017-11-07 13:22:10    1\n",
      "2017-11-08 14:30:55    1\n",
      "2017-11-09 08:07:09    1\n",
      "Name: attributed_time, Length: 227, dtype: int64\n",
      "**************************************************\n",
      "0    99773\n",
      "1      227\n",
      "Name: is_attributed, dtype: int64\n",
      "**************************************************\n"
     ]
    }
   ],
   "source": [
    "for c in train.columns:\n",
    "    if c != 'ip':\n",
    "        print(train[c].value_counts())\n",
    "        print('*'*50)\n",
    "#better way is to plot it"
   ]
  },
  {
   "cell_type": "code",
   "execution_count": 8,
   "metadata": {},
   "outputs": [],
   "source": [
    "train['XX'] = pd.to_datetime(train['click_time'], format=\"%Y-%m-%d %H:%M:%S\")"
   ]
  },
  {
   "cell_type": "code",
   "execution_count": 9,
   "metadata": {},
   "outputs": [
    {
     "data": {
      "text/plain": [
       "2    34035\n",
       "1    32393\n",
       "3    28561\n",
       "0     5011\n",
       "Name: XX, dtype: int64"
      ]
     },
     "execution_count": 9,
     "metadata": {},
     "output_type": "execute_result"
    }
   ],
   "source": [
    "train['XX'].dt.weekday.value_counts()"
   ]
  },
  {
   "cell_type": "code",
   "execution_count": 10,
   "metadata": {},
   "outputs": [
    {
     "data": {
      "text/html": [
       "<div>\n",
       "<style scoped>\n",
       "    .dataframe tbody tr th:only-of-type {\n",
       "        vertical-align: middle;\n",
       "    }\n",
       "\n",
       "    .dataframe tbody tr th {\n",
       "        vertical-align: top;\n",
       "    }\n",
       "\n",
       "    .dataframe thead th {\n",
       "        text-align: right;\n",
       "    }\n",
       "</style>\n",
       "<table border=\"1\" class=\"dataframe\">\n",
       "  <thead>\n",
       "    <tr style=\"text-align: right;\">\n",
       "      <th></th>\n",
       "      <th>click_id</th>\n",
       "      <th>ip</th>\n",
       "      <th>app</th>\n",
       "      <th>device</th>\n",
       "      <th>os</th>\n",
       "      <th>channel</th>\n",
       "      <th>click_time</th>\n",
       "    </tr>\n",
       "  </thead>\n",
       "  <tbody>\n",
       "    <tr>\n",
       "      <th>13555467</th>\n",
       "      <td>13555467</td>\n",
       "      <td>71744</td>\n",
       "      <td>9</td>\n",
       "      <td>1</td>\n",
       "      <td>25</td>\n",
       "      <td>134</td>\n",
       "      <td>2017-11-10 13:23:51</td>\n",
       "    </tr>\n",
       "    <tr>\n",
       "      <th>9276517</th>\n",
       "      <td>9276517</td>\n",
       "      <td>119929</td>\n",
       "      <td>1</td>\n",
       "      <td>2</td>\n",
       "      <td>41</td>\n",
       "      <td>18</td>\n",
       "      <td>2017-11-10 10:01:30</td>\n",
       "    </tr>\n",
       "    <tr>\n",
       "      <th>5271220</th>\n",
       "      <td>5271220</td>\n",
       "      <td>119908</td>\n",
       "      <td>12</td>\n",
       "      <td>1</td>\n",
       "      <td>13</td>\n",
       "      <td>328</td>\n",
       "      <td>2017-11-10 05:39:15</td>\n",
       "    </tr>\n",
       "    <tr>\n",
       "      <th>16654603</th>\n",
       "      <td>16654603</td>\n",
       "      <td>53592</td>\n",
       "      <td>19</td>\n",
       "      <td>374</td>\n",
       "      <td>29</td>\n",
       "      <td>213</td>\n",
       "      <td>2017-11-10 14:20:11</td>\n",
       "    </tr>\n",
       "    <tr>\n",
       "      <th>9537427</th>\n",
       "      <td>9537427</td>\n",
       "      <td>90511</td>\n",
       "      <td>23</td>\n",
       "      <td>1</td>\n",
       "      <td>19</td>\n",
       "      <td>153</td>\n",
       "      <td>2017-11-10 10:06:44</td>\n",
       "    </tr>\n",
       "  </tbody>\n",
       "</table>\n",
       "</div>"
      ],
      "text/plain": [
       "          click_id      ip  app  device  os  channel           click_time\n",
       "13555467  13555467   71744    9       1  25      134  2017-11-10 13:23:51\n",
       "9276517    9276517  119929    1       2  41       18  2017-11-10 10:01:30\n",
       "5271220    5271220  119908   12       1  13      328  2017-11-10 05:39:15\n",
       "16654603  16654603   53592   19     374  29      213  2017-11-10 14:20:11\n",
       "9537427    9537427   90511   23       1  19      153  2017-11-10 10:06:44"
      ]
     },
     "execution_count": 10,
     "metadata": {},
     "output_type": "execute_result"
    }
   ],
   "source": [
    "test.sample(5)"
   ]
  },
  {
   "cell_type": "code",
   "execution_count": 11,
   "metadata": {},
   "outputs": [],
   "source": [
    "test['X'] = pd.to_datetime(test['click_time'], format=\"%Y-%m-%d %H:%M:%S\")"
   ]
  },
  {
   "cell_type": "code",
   "execution_count": 12,
   "metadata": {},
   "outputs": [
    {
     "data": {
      "text/plain": [
       "10    18790469\n",
       "Name: X, dtype: int64"
      ]
     },
     "execution_count": 12,
     "metadata": {},
     "output_type": "execute_result"
    }
   ],
   "source": [
    "test['X'].dt.day.value_counts()"
   ]
  },
  {
   "cell_type": "code",
   "execution_count": 13,
   "metadata": {},
   "outputs": [
    {
     "data": {
      "text/plain": [
       "ip                          int64\n",
       "app                         int64\n",
       "device                      int64\n",
       "os                          int64\n",
       "channel                     int64\n",
       "click_time                 object\n",
       "attributed_time            object\n",
       "is_attributed               int64\n",
       "XX                 datetime64[ns]\n",
       "hour                        int64\n",
       "minute                      int64\n",
       "dtype: object"
      ]
     },
     "execution_count": 13,
     "metadata": {},
     "output_type": "execute_result"
    }
   ],
   "source": [
    "##since test dataset doesn't samples from different date that is not there in train dataset, weekday and date won't help\n",
    "#train['date'] = pd.to_datetime(train['click_time'], format=\"%Y-%m-%d %H:%M:%S\").dt.day\n",
    "train['hour'] = pd.to_datetime(train['click_time'], format=\"%Y-%m-%d %H:%M:%S\").dt.hour\n",
    "train['minute'] = pd.to_datetime(train['click_time'], format=\"%Y-%m-%d %H:%M:%S\").dt.minute\n",
    "#train['weekDay'] = pd.to_datetime(train['click_time'], format=\"%Y-%m-%d %H:%M:%S\").dt.weekday\n",
    "train.dtypes"
   ]
  },
  {
   "cell_type": "code",
   "execution_count": 14,
   "metadata": {},
   "outputs": [
    {
     "data": {
      "text/plain": [
       "ip               int64\n",
       "app              int64\n",
       "device           int64\n",
       "os               int64\n",
       "channel          int64\n",
       "is_attributed    int64\n",
       "hour             int64\n",
       "minute           int64\n",
       "dtype: object"
      ]
     },
     "execution_count": 14,
     "metadata": {},
     "output_type": "execute_result"
    }
   ],
   "source": [
    "train.drop(['click_time','attributed_time','XX'], axis=1, inplace=True)\n",
    "train.dtypes"
   ]
  },
  {
   "cell_type": "code",
   "execution_count": 15,
   "metadata": {},
   "outputs": [
    {
     "data": {
      "text/plain": [
       "click_id               int64\n",
       "ip                     int64\n",
       "app                    int64\n",
       "device                 int64\n",
       "os                     int64\n",
       "channel                int64\n",
       "click_time            object\n",
       "X             datetime64[ns]\n",
       "hour                   int64\n",
       "minute                 int64\n",
       "dtype: object"
      ]
     },
     "execution_count": 15,
     "metadata": {},
     "output_type": "execute_result"
    }
   ],
   "source": [
    "test['hour'] = pd.to_datetime(test['click_time'], format=\"%Y-%m-%d %H:%M:%S\").dt.hour\n",
    "test['minute'] = pd.to_datetime(test['click_time'], format=\"%Y-%m-%d %H:%M:%S\").dt.minute\n",
    "test.dtypes"
   ]
  },
  {
   "cell_type": "code",
   "execution_count": 16,
   "metadata": {},
   "outputs": [
    {
     "data": {
      "text/plain": [
       "click_id    int64\n",
       "ip          int64\n",
       "app         int64\n",
       "device      int64\n",
       "os          int64\n",
       "channel     int64\n",
       "hour        int64\n",
       "minute      int64\n",
       "dtype: object"
      ]
     },
     "execution_count": 16,
     "metadata": {},
     "output_type": "execute_result"
    }
   ],
   "source": [
    "test.drop(['click_time','X'], axis=1, inplace=True)\n",
    "test.dtypes"
   ]
  },
  {
   "cell_type": "markdown",
   "metadata": {},
   "source": [
    "**Data fields** : Each row of the training data contains a click record, with the following features.\n",
    "\n",
    "1. ip: ip address of click.\n",
    "2. app: app id for marketing.\n",
    "3. device: device type id of user mobile phone (e.g., iphone 6 plus, iphone 7, huawei mate 7, etc.)\n",
    "4. os: os version id of user mobile phone\n",
    "5. channel: channel id of mobile ad publisher\n",
    "6. click_time: timestamp of click (UTC)\n",
    "7. attributed_time: if user download the app for after clicking an ad, this is the time of the app download\n",
    "8. is_attributed: the target that is to be predicted, indicating the app was downloaded\n",
    "\n",
    "'app', 'channel', 'time' are critical"
   ]
  },
  {
   "cell_type": "code",
   "execution_count": 17,
   "metadata": {},
   "outputs": [
    {
     "data": {
      "text/plain": [
       "-0.028237659717744154"
      ]
     },
     "execution_count": 17,
     "metadata": {},
     "output_type": "execute_result"
    }
   ],
   "source": [
    "train['app'].corr(train['channel'])"
   ]
  },
  {
   "cell_type": "code",
   "execution_count": 18,
   "metadata": {},
   "outputs": [],
   "source": [
    "#import seaborn as sns\n",
    "#sns.pairplot(train[['channel','app']])"
   ]
  },
  {
   "cell_type": "code",
   "execution_count": 19,
   "metadata": {},
   "outputs": [
    {
     "data": {
      "text/html": [
       "<div>\n",
       "<style scoped>\n",
       "    .dataframe tbody tr th:only-of-type {\n",
       "        vertical-align: middle;\n",
       "    }\n",
       "\n",
       "    .dataframe tbody tr th {\n",
       "        vertical-align: top;\n",
       "    }\n",
       "\n",
       "    .dataframe thead th {\n",
       "        text-align: right;\n",
       "    }\n",
       "</style>\n",
       "<table border=\"1\" class=\"dataframe\">\n",
       "  <thead>\n",
       "    <tr style=\"text-align: right;\">\n",
       "      <th></th>\n",
       "      <th>channel</th>\n",
       "      <th>app</th>\n",
       "    </tr>\n",
       "  </thead>\n",
       "  <tbody>\n",
       "    <tr>\n",
       "      <th>82115</th>\n",
       "      <td>280</td>\n",
       "      <td>3</td>\n",
       "    </tr>\n",
       "    <tr>\n",
       "      <th>28518</th>\n",
       "      <td>409</td>\n",
       "      <td>12</td>\n",
       "    </tr>\n",
       "    <tr>\n",
       "      <th>46097</th>\n",
       "      <td>232</td>\n",
       "      <td>21</td>\n",
       "    </tr>\n",
       "    <tr>\n",
       "      <th>20173</th>\n",
       "      <td>137</td>\n",
       "      <td>1</td>\n",
       "    </tr>\n",
       "    <tr>\n",
       "      <th>24806</th>\n",
       "      <td>377</td>\n",
       "      <td>2</td>\n",
       "    </tr>\n",
       "    <tr>\n",
       "      <th>93004</th>\n",
       "      <td>128</td>\n",
       "      <td>21</td>\n",
       "    </tr>\n",
       "    <tr>\n",
       "      <th>21189</th>\n",
       "      <td>466</td>\n",
       "      <td>9</td>\n",
       "    </tr>\n",
       "    <tr>\n",
       "      <th>75010</th>\n",
       "      <td>278</td>\n",
       "      <td>15</td>\n",
       "    </tr>\n",
       "    <tr>\n",
       "      <th>15545</th>\n",
       "      <td>115</td>\n",
       "      <td>3</td>\n",
       "    </tr>\n",
       "    <tr>\n",
       "      <th>50088</th>\n",
       "      <td>123</td>\n",
       "      <td>14</td>\n",
       "    </tr>\n",
       "  </tbody>\n",
       "</table>\n",
       "</div>"
      ],
      "text/plain": [
       "       channel  app\n",
       "82115      280    3\n",
       "28518      409   12\n",
       "46097      232   21\n",
       "20173      137    1\n",
       "24806      377    2\n",
       "93004      128   21\n",
       "21189      466    9\n",
       "75010      278   15\n",
       "15545      115    3\n",
       "50088      123   14"
      ]
     },
     "execution_count": 19,
     "metadata": {},
     "output_type": "execute_result"
    }
   ],
   "source": [
    "train[['channel','app']].sample(10)"
   ]
  },
  {
   "cell_type": "markdown",
   "metadata": {},
   "source": [
    "# Model"
   ]
  },
  {
   "cell_type": "code",
   "execution_count": 20,
   "metadata": {},
   "outputs": [],
   "source": [
    "Xtrain = train.drop(['is_attributed'], axis=1)\n",
    "ytrain = train['is_attributed']\n",
    "Xtest = test.drop(['click_id'], axis=1)"
   ]
  },
  {
   "cell_type": "code",
   "execution_count": 21,
   "metadata": {},
   "outputs": [
    {
     "data": {
      "text/plain": [
       "ip               int64\n",
       "app              int64\n",
       "device           int64\n",
       "os               int64\n",
       "channel          int64\n",
       "is_attributed    int64\n",
       "hour             int64\n",
       "minute           int64\n",
       "dtype: object"
      ]
     },
     "execution_count": 21,
     "metadata": {},
     "output_type": "execute_result"
    }
   ],
   "source": [
    "train.dtypes"
   ]
  },
  {
   "cell_type": "code",
   "execution_count": 22,
   "metadata": {},
   "outputs": [
    {
     "data": {
      "text/plain": [
       "dtype('int64')"
      ]
     },
     "execution_count": 22,
     "metadata": {},
     "output_type": "execute_result"
    }
   ],
   "source": [
    "ytrain.dtypes"
   ]
  },
  {
   "cell_type": "code",
   "execution_count": 23,
   "metadata": {},
   "outputs": [
    {
     "data": {
      "text/plain": [
       "ip         int64\n",
       "app        int64\n",
       "device     int64\n",
       "os         int64\n",
       "channel    int64\n",
       "hour       int64\n",
       "minute     int64\n",
       "dtype: object"
      ]
     },
     "execution_count": 23,
     "metadata": {},
     "output_type": "execute_result"
    }
   ],
   "source": [
    "Xtest.dtypes"
   ]
  },
  {
   "cell_type": "code",
   "execution_count": 24,
   "metadata": {},
   "outputs": [],
   "source": [
    "from sklearn.tree import DecisionTreeClassifier\n",
    "model = DecisionTreeClassifier()"
   ]
  },
  {
   "cell_type": "code",
   "execution_count": 25,
   "metadata": {},
   "outputs": [
    {
     "name": "stdout",
     "output_type": "stream",
     "text": [
      "Wall time: 332 ms\n"
     ]
    },
    {
     "data": {
      "text/plain": [
       "DecisionTreeClassifier(class_weight=None, criterion='gini', max_depth=None,\n",
       "            max_features=None, max_leaf_nodes=None,\n",
       "            min_impurity_decrease=0.0, min_impurity_split=None,\n",
       "            min_samples_leaf=1, min_samples_split=2,\n",
       "            min_weight_fraction_leaf=0.0, presort=False, random_state=None,\n",
       "            splitter='best')"
      ]
     },
     "execution_count": 25,
     "metadata": {},
     "output_type": "execute_result"
    }
   ],
   "source": [
    "%time model.fit(Xtrain, ytrain)"
   ]
  },
  {
   "cell_type": "code",
   "execution_count": 26,
   "metadata": {},
   "outputs": [
    {
     "name": "stdout",
     "output_type": "stream",
     "text": [
      "Wall time: 1.84 s\n"
     ]
    }
   ],
   "source": [
    "%time ypred = model.predict(Xtest)"
   ]
  },
  {
   "cell_type": "code",
   "execution_count": 27,
   "metadata": {},
   "outputs": [],
   "source": [
    "#predictions = [round(value) for value in ypred]"
   ]
  },
  {
   "cell_type": "code",
   "execution_count": 28,
   "metadata": {},
   "outputs": [
    {
     "data": {
      "text/plain": [
       "click_id         int64\n",
       "is_attributed    int64\n",
       "dtype: object"
      ]
     },
     "execution_count": 28,
     "metadata": {},
     "output_type": "execute_result"
    }
   ],
   "source": [
    "output = pd.read_csv('sample_submission.csv')\n",
    "output.dtypes"
   ]
  },
  {
   "cell_type": "code",
   "execution_count": 29,
   "metadata": {},
   "outputs": [],
   "source": [
    "output['click_id'] = test['click_id']\n",
    "output['is_attributed'] = ypred"
   ]
  },
  {
   "cell_type": "code",
   "execution_count": 30,
   "metadata": {},
   "outputs": [
    {
     "data": {
      "text/plain": [
       "(18790469, 2)"
      ]
     },
     "execution_count": 30,
     "metadata": {},
     "output_type": "execute_result"
    }
   ],
   "source": [
    "output.shape"
   ]
  },
  {
   "cell_type": "code",
   "execution_count": 31,
   "metadata": {},
   "outputs": [
    {
     "data": {
      "text/html": [
       "<div>\n",
       "<style scoped>\n",
       "    .dataframe tbody tr th:only-of-type {\n",
       "        vertical-align: middle;\n",
       "    }\n",
       "\n",
       "    .dataframe tbody tr th {\n",
       "        vertical-align: top;\n",
       "    }\n",
       "\n",
       "    .dataframe thead th {\n",
       "        text-align: right;\n",
       "    }\n",
       "</style>\n",
       "<table border=\"1\" class=\"dataframe\">\n",
       "  <thead>\n",
       "    <tr style=\"text-align: right;\">\n",
       "      <th></th>\n",
       "      <th>click_id</th>\n",
       "      <th>is_attributed</th>\n",
       "    </tr>\n",
       "  </thead>\n",
       "  <tbody>\n",
       "    <tr>\n",
       "      <th>6392008</th>\n",
       "      <td>6392008</td>\n",
       "      <td>0</td>\n",
       "    </tr>\n",
       "    <tr>\n",
       "      <th>1822396</th>\n",
       "      <td>1822396</td>\n",
       "      <td>0</td>\n",
       "    </tr>\n",
       "    <tr>\n",
       "      <th>9658390</th>\n",
       "      <td>9658390</td>\n",
       "      <td>0</td>\n",
       "    </tr>\n",
       "    <tr>\n",
       "      <th>12808239</th>\n",
       "      <td>12808239</td>\n",
       "      <td>0</td>\n",
       "    </tr>\n",
       "    <tr>\n",
       "      <th>6324196</th>\n",
       "      <td>6324196</td>\n",
       "      <td>0</td>\n",
       "    </tr>\n",
       "  </tbody>\n",
       "</table>\n",
       "</div>"
      ],
      "text/plain": [
       "          click_id  is_attributed\n",
       "6392008    6392008              0\n",
       "1822396    1822396              0\n",
       "9658390    9658390              0\n",
       "12808239  12808239              0\n",
       "6324196    6324196              0"
      ]
     },
     "execution_count": 31,
     "metadata": {},
     "output_type": "execute_result"
    }
   ],
   "source": [
    "output.sample(5)"
   ]
  },
  {
   "cell_type": "code",
   "execution_count": 32,
   "metadata": {},
   "outputs": [
    {
     "data": {
      "text/plain": [
       "0    18743741\n",
       "1       46728\n",
       "Name: is_attributed, dtype: int64"
      ]
     },
     "execution_count": 32,
     "metadata": {},
     "output_type": "execute_result"
    }
   ],
   "source": [
    "output['is_attributed'].value_counts()"
   ]
  },
  {
   "cell_type": "code",
   "execution_count": 33,
   "metadata": {},
   "outputs": [],
   "source": [
    "output.to_csv('m3l.csv', index=False)"
   ]
  }
 ],
 "metadata": {
  "kernelspec": {
   "display_name": "Python 3",
   "language": "python",
   "name": "python3"
  },
  "language_info": {
   "codemirror_mode": {
    "name": "ipython",
    "version": 3
   },
   "file_extension": ".py",
   "mimetype": "text/x-python",
   "name": "python",
   "nbconvert_exporter": "python",
   "pygments_lexer": "ipython3",
   "version": "3.6.4"
  }
 },
 "nbformat": 4,
 "nbformat_minor": 2
}
