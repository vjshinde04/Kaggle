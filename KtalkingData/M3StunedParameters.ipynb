{
 "cells": [
  {
   "cell_type": "markdown",
   "metadata": {},
   "source": [
    "**Working on smaller chunk of data**\n",
    "\n",
    "**train_sample & test**\n",
    "\n",
    "**Data fields** : Each row of the training data contains a click record, with the following features.\n",
    "\n",
    "1. ip: ip address of click.\n",
    "2. app: app id for marketing.\n",
    "3. device: device type id of user mobile phone (e.g., iphone 6 plus, iphone 7, huawei mate 7, etc.)\n",
    "4. os: os version id of user mobile phone\n",
    "5. channel: channel id of mobile ad publisher\n",
    "6. click_time: timestamp of click (UTC)\n",
    "7. attributed_time: if user download the app for after clicking an ad, this is the time of the app download\n",
    "8. is_attributed: the target that is to be predicted, indicating the app was downloaded\n",
    "\n",
    "Note that ip, app, device, os, and channel are encoded."
   ]
  },
  {
   "cell_type": "code",
   "execution_count": 34,
   "metadata": {},
   "outputs": [],
   "source": [
    "import pandas as pd\n",
    "train = pd.read_csv('train_sample.csv')\n",
    "test = pd.read_csv('test.csv')"
   ]
  },
  {
   "cell_type": "code",
   "execution_count": 35,
   "metadata": {},
   "outputs": [
    {
     "name": "stdout",
     "output_type": "stream",
     "text": [
      "(100000, 8)\n",
      "(18790469, 7)\n"
     ]
    }
   ],
   "source": [
    "print(train.shape)\n",
    "print(test.shape)"
   ]
  },
  {
   "cell_type": "code",
   "execution_count": 36,
   "metadata": {},
   "outputs": [
    {
     "data": {
      "text/plain": [
       "ip                     0\n",
       "app                    0\n",
       "device                 0\n",
       "os                     0\n",
       "channel                0\n",
       "click_time             0\n",
       "attributed_time    99773\n",
       "is_attributed          0\n",
       "dtype: int64"
      ]
     },
     "execution_count": 36,
     "metadata": {},
     "output_type": "execute_result"
    }
   ],
   "source": [
    "train.apply(lambda x: sum(x.isnull()))"
   ]
  },
  {
   "cell_type": "code",
   "execution_count": 37,
   "metadata": {},
   "outputs": [
    {
     "name": "stdout",
     "output_type": "stream",
     "text": [
      "<class 'pandas.core.frame.DataFrame'>\n",
      "RangeIndex: 100000 entries, 0 to 99999\n",
      "Data columns (total 8 columns):\n",
      "ip                 100000 non-null int64\n",
      "app                100000 non-null int64\n",
      "device             100000 non-null int64\n",
      "os                 100000 non-null int64\n",
      "channel            100000 non-null int64\n",
      "click_time         100000 non-null object\n",
      "attributed_time    227 non-null object\n",
      "is_attributed      100000 non-null int64\n",
      "dtypes: int64(6), object(2)\n",
      "memory usage: 6.1+ MB\n"
     ]
    }
   ],
   "source": [
    "train.info()"
   ]
  },
  {
   "cell_type": "code",
   "execution_count": 38,
   "metadata": {},
   "outputs": [
    {
     "data": {
      "text/html": [
       "<div>\n",
       "<style scoped>\n",
       "    .dataframe tbody tr th:only-of-type {\n",
       "        vertical-align: middle;\n",
       "    }\n",
       "\n",
       "    .dataframe tbody tr th {\n",
       "        vertical-align: top;\n",
       "    }\n",
       "\n",
       "    .dataframe thead th {\n",
       "        text-align: right;\n",
       "    }\n",
       "</style>\n",
       "<table border=\"1\" class=\"dataframe\">\n",
       "  <thead>\n",
       "    <tr style=\"text-align: right;\">\n",
       "      <th></th>\n",
       "      <th>ip</th>\n",
       "      <th>app</th>\n",
       "      <th>device</th>\n",
       "      <th>os</th>\n",
       "      <th>channel</th>\n",
       "      <th>click_time</th>\n",
       "      <th>attributed_time</th>\n",
       "      <th>is_attributed</th>\n",
       "    </tr>\n",
       "  </thead>\n",
       "  <tbody>\n",
       "    <tr>\n",
       "      <th>51965</th>\n",
       "      <td>13368</td>\n",
       "      <td>10</td>\n",
       "      <td>1</td>\n",
       "      <td>6</td>\n",
       "      <td>317</td>\n",
       "      <td>2017-11-07 13:38:11</td>\n",
       "      <td>NaN</td>\n",
       "      <td>0</td>\n",
       "    </tr>\n",
       "    <tr>\n",
       "      <th>61050</th>\n",
       "      <td>40912</td>\n",
       "      <td>3</td>\n",
       "      <td>1</td>\n",
       "      <td>36</td>\n",
       "      <td>280</td>\n",
       "      <td>2017-11-08 01:24:18</td>\n",
       "      <td>NaN</td>\n",
       "      <td>0</td>\n",
       "    </tr>\n",
       "    <tr>\n",
       "      <th>4294</th>\n",
       "      <td>43855</td>\n",
       "      <td>2</td>\n",
       "      <td>1</td>\n",
       "      <td>37</td>\n",
       "      <td>477</td>\n",
       "      <td>2017-11-09 10:43:07</td>\n",
       "      <td>NaN</td>\n",
       "      <td>0</td>\n",
       "    </tr>\n",
       "    <tr>\n",
       "      <th>71776</th>\n",
       "      <td>299504</td>\n",
       "      <td>3</td>\n",
       "      <td>1</td>\n",
       "      <td>32</td>\n",
       "      <td>371</td>\n",
       "      <td>2017-11-09 08:08:16</td>\n",
       "      <td>NaN</td>\n",
       "      <td>0</td>\n",
       "    </tr>\n",
       "    <tr>\n",
       "      <th>37039</th>\n",
       "      <td>191894</td>\n",
       "      <td>20</td>\n",
       "      <td>2</td>\n",
       "      <td>15</td>\n",
       "      <td>259</td>\n",
       "      <td>2017-11-06 16:23:47</td>\n",
       "      <td>NaN</td>\n",
       "      <td>0</td>\n",
       "    </tr>\n",
       "  </tbody>\n",
       "</table>\n",
       "</div>"
      ],
      "text/plain": [
       "           ip  app  device  os  channel           click_time attributed_time  \\\n",
       "51965   13368   10       1   6      317  2017-11-07 13:38:11             NaN   \n",
       "61050   40912    3       1  36      280  2017-11-08 01:24:18             NaN   \n",
       "4294    43855    2       1  37      477  2017-11-09 10:43:07             NaN   \n",
       "71776  299504    3       1  32      371  2017-11-09 08:08:16             NaN   \n",
       "37039  191894   20       2  15      259  2017-11-06 16:23:47             NaN   \n",
       "\n",
       "       is_attributed  \n",
       "51965              0  \n",
       "61050              0  \n",
       "4294               0  \n",
       "71776              0  \n",
       "37039              0  "
      ]
     },
     "execution_count": 38,
     "metadata": {},
     "output_type": "execute_result"
    }
   ],
   "source": [
    "train.sample(5)"
   ]
  },
  {
   "cell_type": "code",
   "execution_count": 39,
   "metadata": {},
   "outputs": [
    {
     "data": {
      "text/html": [
       "<div>\n",
       "<style scoped>\n",
       "    .dataframe tbody tr th:only-of-type {\n",
       "        vertical-align: middle;\n",
       "    }\n",
       "\n",
       "    .dataframe tbody tr th {\n",
       "        vertical-align: top;\n",
       "    }\n",
       "\n",
       "    .dataframe thead th {\n",
       "        text-align: right;\n",
       "    }\n",
       "</style>\n",
       "<table border=\"1\" class=\"dataframe\">\n",
       "  <thead>\n",
       "    <tr style=\"text-align: right;\">\n",
       "      <th></th>\n",
       "      <th>ip</th>\n",
       "      <th>app</th>\n",
       "      <th>device</th>\n",
       "      <th>os</th>\n",
       "      <th>channel</th>\n",
       "      <th>click_time</th>\n",
       "      <th>attributed_time</th>\n",
       "      <th>is_attributed</th>\n",
       "    </tr>\n",
       "  </thead>\n",
       "  <tbody>\n",
       "    <tr>\n",
       "      <th>41695</th>\n",
       "      <td>166691</td>\n",
       "      <td>19</td>\n",
       "      <td>0</td>\n",
       "      <td>24</td>\n",
       "      <td>213</td>\n",
       "      <td>2017-11-07 11:40:49</td>\n",
       "      <td>2017-11-07 11:41:50</td>\n",
       "      <td>1</td>\n",
       "    </tr>\n",
       "    <tr>\n",
       "      <th>70506</th>\n",
       "      <td>174091</td>\n",
       "      <td>5</td>\n",
       "      <td>1</td>\n",
       "      <td>30</td>\n",
       "      <td>113</td>\n",
       "      <td>2017-11-07 08:35:54</td>\n",
       "      <td>2017-11-07 08:36:30</td>\n",
       "      <td>1</td>\n",
       "    </tr>\n",
       "    <tr>\n",
       "      <th>19629</th>\n",
       "      <td>32463</td>\n",
       "      <td>19</td>\n",
       "      <td>188</td>\n",
       "      <td>29</td>\n",
       "      <td>213</td>\n",
       "      <td>2017-11-07 00:16:23</td>\n",
       "      <td>2017-11-07 04:09:58</td>\n",
       "      <td>1</td>\n",
       "    </tr>\n",
       "    <tr>\n",
       "      <th>46475</th>\n",
       "      <td>137168</td>\n",
       "      <td>19</td>\n",
       "      <td>60</td>\n",
       "      <td>38</td>\n",
       "      <td>213</td>\n",
       "      <td>2017-11-07 01:33:50</td>\n",
       "      <td>2017-11-07 01:34:22</td>\n",
       "      <td>1</td>\n",
       "    </tr>\n",
       "    <tr>\n",
       "      <th>36469</th>\n",
       "      <td>15195</td>\n",
       "      <td>3</td>\n",
       "      <td>1</td>\n",
       "      <td>32</td>\n",
       "      <td>114</td>\n",
       "      <td>2017-11-08 01:17:20</td>\n",
       "      <td>2017-11-08 01:17:35</td>\n",
       "      <td>1</td>\n",
       "    </tr>\n",
       "    <tr>\n",
       "      <th>28269</th>\n",
       "      <td>4865</td>\n",
       "      <td>19</td>\n",
       "      <td>0</td>\n",
       "      <td>24</td>\n",
       "      <td>213</td>\n",
       "      <td>2017-11-09 02:11:00</td>\n",
       "      <td>2017-11-09 02:12:43</td>\n",
       "      <td>1</td>\n",
       "    </tr>\n",
       "    <tr>\n",
       "      <th>39247</th>\n",
       "      <td>305220</td>\n",
       "      <td>19</td>\n",
       "      <td>581</td>\n",
       "      <td>24</td>\n",
       "      <td>213</td>\n",
       "      <td>2017-11-09 15:03:23</td>\n",
       "      <td>2017-11-09 15:05:43</td>\n",
       "      <td>1</td>\n",
       "    </tr>\n",
       "    <tr>\n",
       "      <th>73589</th>\n",
       "      <td>313069</td>\n",
       "      <td>19</td>\n",
       "      <td>0</td>\n",
       "      <td>866</td>\n",
       "      <td>282</td>\n",
       "      <td>2017-11-09 05:27:17</td>\n",
       "      <td>2017-11-09 05:28:52</td>\n",
       "      <td>1</td>\n",
       "    </tr>\n",
       "    <tr>\n",
       "      <th>47813</th>\n",
       "      <td>94466</td>\n",
       "      <td>29</td>\n",
       "      <td>1</td>\n",
       "      <td>9</td>\n",
       "      <td>213</td>\n",
       "      <td>2017-11-07 15:35:15</td>\n",
       "      <td>2017-11-07 15:36:50</td>\n",
       "      <td>1</td>\n",
       "    </tr>\n",
       "    <tr>\n",
       "      <th>85077</th>\n",
       "      <td>272464</td>\n",
       "      <td>5</td>\n",
       "      <td>1</td>\n",
       "      <td>30</td>\n",
       "      <td>113</td>\n",
       "      <td>2017-11-08 14:27:49</td>\n",
       "      <td>2017-11-08 14:28:21</td>\n",
       "      <td>1</td>\n",
       "    </tr>\n",
       "  </tbody>\n",
       "</table>\n",
       "</div>"
      ],
      "text/plain": [
       "           ip  app  device   os  channel           click_time  \\\n",
       "41695  166691   19       0   24      213  2017-11-07 11:40:49   \n",
       "70506  174091    5       1   30      113  2017-11-07 08:35:54   \n",
       "19629   32463   19     188   29      213  2017-11-07 00:16:23   \n",
       "46475  137168   19      60   38      213  2017-11-07 01:33:50   \n",
       "36469   15195    3       1   32      114  2017-11-08 01:17:20   \n",
       "28269    4865   19       0   24      213  2017-11-09 02:11:00   \n",
       "39247  305220   19     581   24      213  2017-11-09 15:03:23   \n",
       "73589  313069   19       0  866      282  2017-11-09 05:27:17   \n",
       "47813   94466   29       1    9      213  2017-11-07 15:35:15   \n",
       "85077  272464    5       1   30      113  2017-11-08 14:27:49   \n",
       "\n",
       "           attributed_time  is_attributed  \n",
       "41695  2017-11-07 11:41:50              1  \n",
       "70506  2017-11-07 08:36:30              1  \n",
       "19629  2017-11-07 04:09:58              1  \n",
       "46475  2017-11-07 01:34:22              1  \n",
       "36469  2017-11-08 01:17:35              1  \n",
       "28269  2017-11-09 02:12:43              1  \n",
       "39247  2017-11-09 15:05:43              1  \n",
       "73589  2017-11-09 05:28:52              1  \n",
       "47813  2017-11-07 15:36:50              1  \n",
       "85077  2017-11-08 14:28:21              1  "
      ]
     },
     "execution_count": 39,
     "metadata": {},
     "output_type": "execute_result"
    }
   ],
   "source": [
    "train[train['attributed_time'].notnull()].sample(10)"
   ]
  },
  {
   "cell_type": "code",
   "execution_count": 40,
   "metadata": {},
   "outputs": [
    {
     "name": "stdout",
     "output_type": "stream",
     "text": [
      "3      18279\n",
      "12     13198\n",
      "2      11737\n",
      "9       8992\n",
      "15      8595\n",
      "18      8315\n",
      "14      5359\n",
      "1       3135\n",
      "13      2422\n",
      "8       2004\n",
      "21      1979\n",
      "11      1927\n",
      "26      1633\n",
      "23      1454\n",
      "6       1303\n",
      "64      1079\n",
      "7        981\n",
      "20       911\n",
      "25       804\n",
      "28       720\n",
      "24       704\n",
      "27       696\n",
      "19       478\n",
      "10       388\n",
      "22       386\n",
      "17       380\n",
      "29       360\n",
      "32       286\n",
      "5        188\n",
      "151      109\n",
      "       ...  \n",
      "551        1\n",
      "168        1\n",
      "105        1\n",
      "233        1\n",
      "302        1\n",
      "78         1\n",
      "112        1\n",
      "115        1\n",
      "116        1\n",
      "372        1\n",
      "123        1\n",
      "124        1\n",
      "548        1\n",
      "100        1\n",
      "163        1\n",
      "99         1\n",
      "97         1\n",
      "96         1\n",
      "31         1\n",
      "347        1\n",
      "91         1\n",
      "538        1\n",
      "474        1\n",
      "536        1\n",
      "216        1\n",
      "407        1\n",
      "145        1\n",
      "271        1\n",
      "398        1\n",
      "92         1\n",
      "Name: app, Length: 161, dtype: int64\n",
      "**************************************************\n",
      "1       94338\n",
      "2        4345\n",
      "0         541\n",
      "3032      371\n",
      "3543      151\n",
      "3866       93\n",
      "59         12\n",
      "6           8\n",
      "16          7\n",
      "5           7\n",
      "40          7\n",
      "97          5\n",
      "50          4\n",
      "25          3\n",
      "21          3\n",
      "33          3\n",
      "4           3\n",
      "60          3\n",
      "30          2\n",
      "160         2\n",
      "78          2\n",
      "74          2\n",
      "7           2\n",
      "211         2\n",
      "20          2\n",
      "67          2\n",
      "124         2\n",
      "114         2\n",
      "182         2\n",
      "56          2\n",
      "        ...  \n",
      "116         1\n",
      "1318        1\n",
      "180         1\n",
      "53          1\n",
      "374         1\n",
      "1080        1\n",
      "58          1\n",
      "188         1\n",
      "2429        1\n",
      "103         1\n",
      "486         1\n",
      "3545        1\n",
      "928         1\n",
      "154         1\n",
      "3867        1\n",
      "828         1\n",
      "220         1\n",
      "414         1\n",
      "351         1\n",
      "607         1\n",
      "163         1\n",
      "102         1\n",
      "291         1\n",
      "36          1\n",
      "100         1\n",
      "420         1\n",
      "37          1\n",
      "549         1\n",
      "2980        1\n",
      "347         1\n",
      "Name: device, Length: 100, dtype: int64\n",
      "**************************************************\n",
      "19     23870\n",
      "13     21223\n",
      "17      5232\n",
      "18      4830\n",
      "22      4039\n",
      "10      2816\n",
      "8       2775\n",
      "6       2520\n",
      "15      2396\n",
      "20      2347\n",
      "9       2341\n",
      "25      2248\n",
      "16      1691\n",
      "37      1589\n",
      "3       1576\n",
      "41      1348\n",
      "14      1312\n",
      "1       1185\n",
      "12      1103\n",
      "23      1042\n",
      "27      1008\n",
      "32       915\n",
      "35       914\n",
      "47       789\n",
      "53       759\n",
      "11       752\n",
      "28       704\n",
      "30       676\n",
      "26       482\n",
      "31       426\n",
      "       ...  \n",
      "111        2\n",
      "117        2\n",
      "78         2\n",
      "132        2\n",
      "68         2\n",
      "152        2\n",
      "193        1\n",
      "192        1\n",
      "836        1\n",
      "133        1\n",
      "129        1\n",
      "106        1\n",
      "135        1\n",
      "199        1\n",
      "168        1\n",
      "99         1\n",
      "172        1\n",
      "174        1\n",
      "153        1\n",
      "88         1\n",
      "151        1\n",
      "84         1\n",
      "113        1\n",
      "114        1\n",
      "207        1\n",
      "116        1\n",
      "142        1\n",
      "137        1\n",
      "185        1\n",
      "127        1\n",
      "Name: os, Length: 130, dtype: int64\n",
      "**************************************************\n",
      "280    8114\n",
      "245    4802\n",
      "107    4543\n",
      "477    3960\n",
      "134    3224\n",
      "259    3130\n",
      "265    3013\n",
      "153    2954\n",
      "178    2936\n",
      "121    2472\n",
      "205    2369\n",
      "145    1964\n",
      "442    1941\n",
      "459    1921\n",
      "379    1833\n",
      "439    1528\n",
      "128    1486\n",
      "466    1483\n",
      "135    1473\n",
      "480    1468\n",
      "469    1458\n",
      "489    1426\n",
      "237    1408\n",
      "122    1366\n",
      "140    1328\n",
      "219    1303\n",
      "137    1245\n",
      "435    1220\n",
      "232    1211\n",
      "101    1180\n",
      "       ... \n",
      "457      16\n",
      "356      15\n",
      "268      13\n",
      "126      11\n",
      "174       9\n",
      "22        8\n",
      "486       8\n",
      "5         7\n",
      "404       7\n",
      "203       6\n",
      "341       6\n",
      "332       5\n",
      "108       5\n",
      "488       5\n",
      "419       5\n",
      "272       4\n",
      "420       4\n",
      "456       4\n",
      "353       3\n",
      "483       3\n",
      "410       2\n",
      "455       2\n",
      "15        2\n",
      "114       1\n",
      "4         1\n",
      "261       1\n",
      "498       1\n",
      "465       1\n",
      "474       1\n",
      "451       1\n",
      "Name: channel, Length: 161, dtype: int64\n",
      "**************************************************\n",
      "2017-11-08 12:01:02    7\n",
      "2017-11-07 05:00:11    6\n",
      "2017-11-07 04:36:16    6\n",
      "2017-11-08 13:32:05    6\n",
      "2017-11-09 14:46:23    6\n",
      "2017-11-07 11:16:28    5\n",
      "2017-11-08 13:56:36    5\n",
      "2017-11-08 07:38:40    5\n",
      "2017-11-09 14:40:08    5\n",
      "2017-11-09 09:40:41    5\n",
      "2017-11-07 16:00:45    5\n",
      "2017-11-07 08:32:43    5\n",
      "2017-11-08 08:02:00    5\n",
      "2017-11-07 00:14:03    5\n",
      "2017-11-09 04:08:39    5\n",
      "2017-11-08 06:02:06    5\n",
      "2017-11-07 06:28:49    5\n",
      "2017-11-08 16:20:50    5\n",
      "2017-11-09 04:00:09    5\n",
      "2017-11-09 09:53:16    5\n",
      "2017-11-09 01:14:45    5\n",
      "2017-11-07 11:02:34    5\n",
      "2017-11-09 04:34:28    5\n",
      "2017-11-09 04:34:59    5\n",
      "2017-11-08 06:13:02    5\n",
      "2017-11-07 12:43:25    5\n",
      "2017-11-06 23:27:07    5\n",
      "2017-11-08 02:59:48    5\n",
      "2017-11-07 13:59:56    5\n",
      "2017-11-08 06:49:04    5\n",
      "                      ..\n",
      "2017-11-06 17:13:19    1\n",
      "2017-11-09 09:00:56    1\n",
      "2017-11-07 08:08:49    1\n",
      "2017-11-07 20:39:52    1\n",
      "2017-11-07 05:30:58    1\n",
      "2017-11-07 15:37:43    1\n",
      "2017-11-09 00:13:26    1\n",
      "2017-11-09 14:41:55    1\n",
      "2017-11-08 08:11:08    1\n",
      "2017-11-09 14:36:29    1\n",
      "2017-11-07 16:23:28    1\n",
      "2017-11-09 15:00:27    1\n",
      "2017-11-08 16:47:22    1\n",
      "2017-11-09 10:30:50    1\n",
      "2017-11-09 08:15:08    1\n",
      "2017-11-07 05:19:38    1\n",
      "2017-11-08 08:04:32    1\n",
      "2017-11-08 14:33:23    1\n",
      "2017-11-09 00:09:45    1\n",
      "2017-11-09 14:24:23    1\n",
      "2017-11-08 06:49:27    1\n",
      "2017-11-07 07:01:35    1\n",
      "2017-11-07 06:35:24    1\n",
      "2017-11-08 17:12:15    1\n",
      "2017-11-07 12:30:36    1\n",
      "2017-11-07 09:18:08    1\n",
      "2017-11-08 19:12:59    1\n",
      "2017-11-09 14:39:42    1\n",
      "2017-11-08 07:26:59    1\n",
      "2017-11-07 00:20:14    1\n",
      "Name: click_time, Length: 80350, dtype: int64\n",
      "**************************************************\n",
      "2017-11-08 01:21:48    1\n",
      "2017-11-08 11:38:39    1\n",
      "2017-11-07 08:20:01    1\n",
      "2017-11-09 11:52:01    1\n",
      "2017-11-07 07:05:11    1\n",
      "2017-11-08 00:59:05    1\n",
      "2017-11-08 14:55:24    1\n",
      "2017-11-07 05:19:36    1\n",
      "2017-11-07 03:18:39    1\n",
      "2017-11-07 11:13:21    1\n",
      "2017-11-08 06:22:10    1\n",
      "2017-11-08 00:48:35    1\n",
      "2017-11-08 22:39:52    1\n",
      "2017-11-09 09:52:13    1\n",
      "2017-11-07 00:15:11    1\n",
      "2017-11-08 04:38:38    1\n",
      "2017-11-07 08:32:53    1\n",
      "2017-11-08 12:18:44    1\n",
      "2017-11-07 11:59:05    1\n",
      "2017-11-08 14:22:43    1\n",
      "2017-11-07 11:37:53    1\n",
      "2017-11-08 14:30:55    1\n",
      "2017-11-09 02:13:48    1\n",
      "2017-11-08 06:43:39    1\n",
      "2017-11-07 04:33:40    1\n",
      "2017-11-08 02:38:22    1\n",
      "2017-11-08 12:23:06    1\n",
      "2017-11-07 03:17:23    1\n",
      "2017-11-08 02:22:38    1\n",
      "2017-11-08 06:23:29    1\n",
      "                      ..\n",
      "2017-11-09 04:21:34    1\n",
      "2017-11-07 03:05:13    1\n",
      "2017-11-09 07:11:19    1\n",
      "2017-11-09 01:04:00    1\n",
      "2017-11-09 12:31:04    1\n",
      "2017-11-08 09:06:37    1\n",
      "2017-11-08 06:21:17    1\n",
      "2017-11-08 12:47:19    1\n",
      "2017-11-07 01:35:31    1\n",
      "2017-11-08 11:25:09    1\n",
      "2017-11-08 07:15:56    1\n",
      "2017-11-08 05:03:30    1\n",
      "2017-11-09 14:22:16    1\n",
      "2017-11-09 13:32:51    1\n",
      "2017-11-07 12:52:45    1\n",
      "2017-11-09 14:53:22    1\n",
      "2017-11-07 07:12:58    1\n",
      "2017-11-09 10:18:07    1\n",
      "2017-11-09 12:03:50    1\n",
      "2017-11-07 13:40:35    1\n",
      "2017-11-09 08:57:08    1\n",
      "2017-11-08 14:02:51    1\n",
      "2017-11-08 08:03:26    1\n",
      "2017-11-06 23:58:31    1\n",
      "2017-11-09 05:27:49    1\n",
      "2017-11-08 15:09:40    1\n",
      "2017-11-07 05:30:55    1\n",
      "2017-11-09 08:59:35    1\n",
      "2017-11-08 04:37:46    1\n",
      "2017-11-09 05:28:52    1\n",
      "Name: attributed_time, Length: 227, dtype: int64\n",
      "**************************************************\n",
      "0    99773\n",
      "1      227\n",
      "Name: is_attributed, dtype: int64\n",
      "**************************************************\n"
     ]
    }
   ],
   "source": [
    "for c in train.columns:\n",
    "    if c != 'ip':\n",
    "        print(train[c].value_counts())\n",
    "        print('*'*50)\n",
    "#better way is to plot it"
   ]
  },
  {
   "cell_type": "code",
   "execution_count": 41,
   "metadata": {},
   "outputs": [],
   "source": [
    "train['XX'] = pd.to_datetime(train['click_time'], format=\"%Y-%m-%d %H:%M:%S\")"
   ]
  },
  {
   "cell_type": "code",
   "execution_count": 42,
   "metadata": {},
   "outputs": [
    {
     "data": {
      "text/plain": [
       "2    34035\n",
       "1    32393\n",
       "3    28561\n",
       "0     5011\n",
       "Name: XX, dtype: int64"
      ]
     },
     "execution_count": 42,
     "metadata": {},
     "output_type": "execute_result"
    }
   ],
   "source": [
    "train['XX'].dt.weekday.value_counts()"
   ]
  },
  {
   "cell_type": "code",
   "execution_count": 43,
   "metadata": {},
   "outputs": [
    {
     "data": {
      "text/html": [
       "<div>\n",
       "<style scoped>\n",
       "    .dataframe tbody tr th:only-of-type {\n",
       "        vertical-align: middle;\n",
       "    }\n",
       "\n",
       "    .dataframe tbody tr th {\n",
       "        vertical-align: top;\n",
       "    }\n",
       "\n",
       "    .dataframe thead th {\n",
       "        text-align: right;\n",
       "    }\n",
       "</style>\n",
       "<table border=\"1\" class=\"dataframe\">\n",
       "  <thead>\n",
       "    <tr style=\"text-align: right;\">\n",
       "      <th></th>\n",
       "      <th>click_id</th>\n",
       "      <th>ip</th>\n",
       "      <th>app</th>\n",
       "      <th>device</th>\n",
       "      <th>os</th>\n",
       "      <th>channel</th>\n",
       "      <th>click_time</th>\n",
       "    </tr>\n",
       "  </thead>\n",
       "  <tbody>\n",
       "    <tr>\n",
       "      <th>1892397</th>\n",
       "      <td>1892397</td>\n",
       "      <td>57283</td>\n",
       "      <td>11</td>\n",
       "      <td>1</td>\n",
       "      <td>13</td>\n",
       "      <td>325</td>\n",
       "      <td>2017-11-10 04:33:22</td>\n",
       "    </tr>\n",
       "    <tr>\n",
       "      <th>9887074</th>\n",
       "      <td>9887074</td>\n",
       "      <td>75899</td>\n",
       "      <td>5</td>\n",
       "      <td>1</td>\n",
       "      <td>32</td>\n",
       "      <td>377</td>\n",
       "      <td>2017-11-10 10:13:37</td>\n",
       "    </tr>\n",
       "    <tr>\n",
       "      <th>13602962</th>\n",
       "      <td>13602962</td>\n",
       "      <td>18834</td>\n",
       "      <td>3</td>\n",
       "      <td>1</td>\n",
       "      <td>41</td>\n",
       "      <td>489</td>\n",
       "      <td>2017-11-10 13:24:48</td>\n",
       "    </tr>\n",
       "    <tr>\n",
       "      <th>97558</th>\n",
       "      <td>97558</td>\n",
       "      <td>37682</td>\n",
       "      <td>2</td>\n",
       "      <td>1</td>\n",
       "      <td>19</td>\n",
       "      <td>212</td>\n",
       "      <td>2017-11-10 04:01:44</td>\n",
       "    </tr>\n",
       "    <tr>\n",
       "      <th>4386588</th>\n",
       "      <td>4386588</td>\n",
       "      <td>76919</td>\n",
       "      <td>3</td>\n",
       "      <td>1</td>\n",
       "      <td>8</td>\n",
       "      <td>137</td>\n",
       "      <td>2017-11-10 05:21:00</td>\n",
       "    </tr>\n",
       "  </tbody>\n",
       "</table>\n",
       "</div>"
      ],
      "text/plain": [
       "          click_id     ip  app  device  os  channel           click_time\n",
       "1892397    1892397  57283   11       1  13      325  2017-11-10 04:33:22\n",
       "9887074    9887074  75899    5       1  32      377  2017-11-10 10:13:37\n",
       "13602962  13602962  18834    3       1  41      489  2017-11-10 13:24:48\n",
       "97558        97558  37682    2       1  19      212  2017-11-10 04:01:44\n",
       "4386588    4386588  76919    3       1   8      137  2017-11-10 05:21:00"
      ]
     },
     "execution_count": 43,
     "metadata": {},
     "output_type": "execute_result"
    }
   ],
   "source": [
    "test.sample(5)"
   ]
  },
  {
   "cell_type": "code",
   "execution_count": 44,
   "metadata": {},
   "outputs": [],
   "source": [
    "test['X'] = pd.to_datetime(test['click_time'], format=\"%Y-%m-%d %H:%M:%S\")"
   ]
  },
  {
   "cell_type": "code",
   "execution_count": 45,
   "metadata": {},
   "outputs": [
    {
     "data": {
      "text/plain": [
       "10    18790469\n",
       "Name: X, dtype: int64"
      ]
     },
     "execution_count": 45,
     "metadata": {},
     "output_type": "execute_result"
    }
   ],
   "source": [
    "test['X'].dt.day.value_counts()"
   ]
  },
  {
   "cell_type": "code",
   "execution_count": 46,
   "metadata": {},
   "outputs": [
    {
     "data": {
      "text/plain": [
       "ip                          int64\n",
       "app                         int64\n",
       "device                      int64\n",
       "os                          int64\n",
       "channel                     int64\n",
       "click_time                 object\n",
       "attributed_time            object\n",
       "is_attributed               int64\n",
       "XX                 datetime64[ns]\n",
       "hour                        int64\n",
       "minute                      int64\n",
       "dtype: object"
      ]
     },
     "execution_count": 46,
     "metadata": {},
     "output_type": "execute_result"
    }
   ],
   "source": [
    "##since test dataset doesn't samples from different date that is not there in train dataset, weekday and date won't help\n",
    "#train['date'] = pd.to_datetime(train['click_time'], format=\"%Y-%m-%d %H:%M:%S\").dt.day\n",
    "train['hour'] = pd.to_datetime(train['click_time'], format=\"%Y-%m-%d %H:%M:%S\").dt.hour\n",
    "train['minute'] = pd.to_datetime(train['click_time'], format=\"%Y-%m-%d %H:%M:%S\").dt.minute\n",
    "#train['weekDay'] = pd.to_datetime(train['click_time'], format=\"%Y-%m-%d %H:%M:%S\").dt.weekday\n",
    "train.dtypes"
   ]
  },
  {
   "cell_type": "code",
   "execution_count": 47,
   "metadata": {},
   "outputs": [
    {
     "data": {
      "text/plain": [
       "ip               int64\n",
       "app              int64\n",
       "device           int64\n",
       "os               int64\n",
       "channel          int64\n",
       "is_attributed    int64\n",
       "hour             int64\n",
       "minute           int64\n",
       "dtype: object"
      ]
     },
     "execution_count": 47,
     "metadata": {},
     "output_type": "execute_result"
    }
   ],
   "source": [
    "train.drop(['click_time','attributed_time','XX'], axis=1, inplace=True)\n",
    "train.dtypes"
   ]
  },
  {
   "cell_type": "code",
   "execution_count": 48,
   "metadata": {},
   "outputs": [
    {
     "data": {
      "text/plain": [
       "click_id               int64\n",
       "ip                     int64\n",
       "app                    int64\n",
       "device                 int64\n",
       "os                     int64\n",
       "channel                int64\n",
       "click_time            object\n",
       "X             datetime64[ns]\n",
       "hour                   int64\n",
       "minute                 int64\n",
       "dtype: object"
      ]
     },
     "execution_count": 48,
     "metadata": {},
     "output_type": "execute_result"
    }
   ],
   "source": [
    "test['hour'] = pd.to_datetime(test['click_time'], format=\"%Y-%m-%d %H:%M:%S\").dt.hour\n",
    "test['minute'] = pd.to_datetime(test['click_time'], format=\"%Y-%m-%d %H:%M:%S\").dt.minute\n",
    "test.dtypes"
   ]
  },
  {
   "cell_type": "code",
   "execution_count": 49,
   "metadata": {},
   "outputs": [
    {
     "data": {
      "text/plain": [
       "click_id    int64\n",
       "ip          int64\n",
       "app         int64\n",
       "device      int64\n",
       "os          int64\n",
       "channel     int64\n",
       "hour        int64\n",
       "minute      int64\n",
       "dtype: object"
      ]
     },
     "execution_count": 49,
     "metadata": {},
     "output_type": "execute_result"
    }
   ],
   "source": [
    "test.drop(['click_time','X'], axis=1, inplace=True)\n",
    "test.dtypes"
   ]
  },
  {
   "cell_type": "markdown",
   "metadata": {},
   "source": [
    "**Data fields** : Each row of the training data contains a click record, with the following features.\n",
    "\n",
    "1. ip: ip address of click.\n",
    "2. app: app id for marketing.\n",
    "3. device: device type id of user mobile phone (e.g., iphone 6 plus, iphone 7, huawei mate 7, etc.)\n",
    "4. os: os version id of user mobile phone\n",
    "5. channel: channel id of mobile ad publisher\n",
    "6. click_time: timestamp of click (UTC)\n",
    "7. attributed_time: if user download the app for after clicking an ad, this is the time of the app download\n",
    "8. is_attributed: the target that is to be predicted, indicating the app was downloaded\n",
    "\n",
    "'app', 'channel', 'time' are critical"
   ]
  },
  {
   "cell_type": "code",
   "execution_count": 50,
   "metadata": {},
   "outputs": [
    {
     "data": {
      "text/plain": [
       "-0.028237659717744154"
      ]
     },
     "execution_count": 50,
     "metadata": {},
     "output_type": "execute_result"
    }
   ],
   "source": [
    "train['app'].corr(train['channel'])"
   ]
  },
  {
   "cell_type": "code",
   "execution_count": 51,
   "metadata": {},
   "outputs": [],
   "source": [
    "#import seaborn as sns\n",
    "#sns.pairplot(train[['channel','app']])"
   ]
  },
  {
   "cell_type": "code",
   "execution_count": 52,
   "metadata": {},
   "outputs": [
    {
     "data": {
      "text/html": [
       "<div>\n",
       "<style scoped>\n",
       "    .dataframe tbody tr th:only-of-type {\n",
       "        vertical-align: middle;\n",
       "    }\n",
       "\n",
       "    .dataframe tbody tr th {\n",
       "        vertical-align: top;\n",
       "    }\n",
       "\n",
       "    .dataframe thead th {\n",
       "        text-align: right;\n",
       "    }\n",
       "</style>\n",
       "<table border=\"1\" class=\"dataframe\">\n",
       "  <thead>\n",
       "    <tr style=\"text-align: right;\">\n",
       "      <th></th>\n",
       "      <th>channel</th>\n",
       "      <th>app</th>\n",
       "    </tr>\n",
       "  </thead>\n",
       "  <tbody>\n",
       "    <tr>\n",
       "      <th>26263</th>\n",
       "      <td>245</td>\n",
       "      <td>15</td>\n",
       "    </tr>\n",
       "    <tr>\n",
       "      <th>47858</th>\n",
       "      <td>459</td>\n",
       "      <td>64</td>\n",
       "    </tr>\n",
       "    <tr>\n",
       "      <th>7516</th>\n",
       "      <td>116</td>\n",
       "      <td>22</td>\n",
       "    </tr>\n",
       "    <tr>\n",
       "      <th>88108</th>\n",
       "      <td>280</td>\n",
       "      <td>17</td>\n",
       "    </tr>\n",
       "    <tr>\n",
       "      <th>82644</th>\n",
       "      <td>245</td>\n",
       "      <td>12</td>\n",
       "    </tr>\n",
       "    <tr>\n",
       "      <th>26512</th>\n",
       "      <td>439</td>\n",
       "      <td>18</td>\n",
       "    </tr>\n",
       "    <tr>\n",
       "      <th>75954</th>\n",
       "      <td>107</td>\n",
       "      <td>18</td>\n",
       "    </tr>\n",
       "    <tr>\n",
       "      <th>84867</th>\n",
       "      <td>459</td>\n",
       "      <td>6</td>\n",
       "    </tr>\n",
       "    <tr>\n",
       "      <th>67094</th>\n",
       "      <td>130</td>\n",
       "      <td>3</td>\n",
       "    </tr>\n",
       "    <tr>\n",
       "      <th>18102</th>\n",
       "      <td>430</td>\n",
       "      <td>15</td>\n",
       "    </tr>\n",
       "  </tbody>\n",
       "</table>\n",
       "</div>"
      ],
      "text/plain": [
       "       channel  app\n",
       "26263      245   15\n",
       "47858      459   64\n",
       "7516       116   22\n",
       "88108      280   17\n",
       "82644      245   12\n",
       "26512      439   18\n",
       "75954      107   18\n",
       "84867      459    6\n",
       "67094      130    3\n",
       "18102      430   15"
      ]
     },
     "execution_count": 52,
     "metadata": {},
     "output_type": "execute_result"
    }
   ],
   "source": [
    "train[['channel','app']].sample(10)"
   ]
  },
  {
   "cell_type": "markdown",
   "metadata": {},
   "source": [
    "# **parameter tuning"
   ]
  },
  {
   "cell_type": "code",
   "execution_count": 53,
   "metadata": {},
   "outputs": [
    {
     "name": "stdout",
     "output_type": "stream",
     "text": [
      "(100000, 7)\n",
      "(100000,)\n"
     ]
    }
   ],
   "source": [
    "X = train.drop(['is_attributed'], axis=1)\n",
    "y = train['is_attributed']\n",
    "print(X.shape)\n",
    "print(y.shape)"
   ]
  },
  {
   "cell_type": "code",
   "execution_count": 54,
   "metadata": {},
   "outputs": [],
   "source": [
    "from sklearn.model_selection import train_test_split\n",
    "Xtrain, Xtest, ytrain, ytest = train_test_split(X, y, test_size=0.25)"
   ]
  },
  {
   "cell_type": "code",
   "execution_count": 55,
   "metadata": {},
   "outputs": [
    {
     "data": {
      "text/plain": [
       "ip         int64\n",
       "app        int64\n",
       "device     int64\n",
       "os         int64\n",
       "channel    int64\n",
       "hour       int64\n",
       "minute     int64\n",
       "dtype: object"
      ]
     },
     "execution_count": 55,
     "metadata": {},
     "output_type": "execute_result"
    }
   ],
   "source": [
    "Xtrain.dtypes"
   ]
  },
  {
   "cell_type": "code",
   "execution_count": 56,
   "metadata": {},
   "outputs": [
    {
     "data": {
      "text/plain": [
       "dtype('int64')"
      ]
     },
     "execution_count": 56,
     "metadata": {},
     "output_type": "execute_result"
    }
   ],
   "source": [
    "ytrain.dtypes"
   ]
  },
  {
   "cell_type": "code",
   "execution_count": 57,
   "metadata": {},
   "outputs": [
    {
     "data": {
      "text/plain": [
       "(75000, 7)"
      ]
     },
     "execution_count": 57,
     "metadata": {},
     "output_type": "execute_result"
    }
   ],
   "source": [
    "Xtrain.shape"
   ]
  },
  {
   "cell_type": "code",
   "execution_count": 58,
   "metadata": {},
   "outputs": [
    {
     "data": {
      "text/plain": [
       "(25000, 7)"
      ]
     },
     "execution_count": 58,
     "metadata": {},
     "output_type": "execute_result"
    }
   ],
   "source": [
    "Xtest.shape"
   ]
  },
  {
   "cell_type": "code",
   "execution_count": 59,
   "metadata": {},
   "outputs": [],
   "source": [
    "from sklearn.tree import DecisionTreeClassifier\n",
    "model = DecisionTreeClassifier()"
   ]
  },
  {
   "cell_type": "code",
   "execution_count": 60,
   "metadata": {},
   "outputs": [
    {
     "name": "stdout",
     "output_type": "stream",
     "text": [
      "Wall time: 330 ms\n"
     ]
    },
    {
     "data": {
      "text/plain": [
       "DecisionTreeClassifier(class_weight=None, criterion='gini', max_depth=None,\n",
       "            max_features=None, max_leaf_nodes=None,\n",
       "            min_impurity_decrease=0.0, min_impurity_split=None,\n",
       "            min_samples_leaf=1, min_samples_split=2,\n",
       "            min_weight_fraction_leaf=0.0, presort=False, random_state=None,\n",
       "            splitter='best')"
      ]
     },
     "execution_count": 60,
     "metadata": {},
     "output_type": "execute_result"
    }
   ],
   "source": [
    "%time model.fit(Xtrain, ytrain)"
   ]
  },
  {
   "cell_type": "code",
   "execution_count": 61,
   "metadata": {},
   "outputs": [
    {
     "name": "stdout",
     "output_type": "stream",
     "text": [
      "Wall time: 4 ms\n"
     ]
    }
   ],
   "source": [
    "%time ypred = model.predict(Xtest)"
   ]
  },
  {
   "cell_type": "code",
   "execution_count": 62,
   "metadata": {},
   "outputs": [
    {
     "name": "stdout",
     "output_type": "stream",
     "text": [
      "0.6477739853051396\n"
     ]
    }
   ],
   "source": [
    "from sklearn.metrics import roc_curve, auc\n",
    "\n",
    "falsePositiveRate, truePositiveRate, thresholds = roc_curve(ytest, ypred)\n",
    "\n",
    "rocAUC = auc(falsePositiveRate, truePositiveRate)\n",
    "print(rocAUC)"
   ]
  },
  {
   "cell_type": "markdown",
   "metadata": {},
   "source": [
    "**max_depth**"
   ]
  },
  {
   "cell_type": "code",
   "execution_count": 63,
   "metadata": {},
   "outputs": [
    {
     "data": {
      "text/plain": [
       "<function matplotlib.pyplot.show>"
      ]
     },
     "execution_count": 63,
     "metadata": {},
     "output_type": "execute_result"
    },
    {
     "data": {
      "image/png": "[encoded data removed]",
      "text/plain": [
       "<matplotlib.figure.Figure at 0x26b82dddeb8>"
      ]
     },
     "metadata": {},
     "output_type": "display_data"
    }
   ],
   "source": [
    "import numpy as np\n",
    "import matplotlib.pyplot as plt\n",
    "\n",
    "max_depths = np.linspace(1, 32, 32, endpoint=True)\n",
    "trainResults = [] \n",
    "testResults = []\n",
    "for max_depth in max_depths:\n",
    "    dt1 = DecisionTreeClassifier(max_depth=max_depth)\n",
    "    dt1.fit(Xtrain, ytrain)\n",
    "    \n",
    "    trainPred = dt1.predict(Xtrain)\n",
    "    falsePositiveRate, truePositiveRate, thresholds = roc_curve(ytrain, trainPred)\n",
    "    rocAUC = auc(falsePositiveRate, truePositiveRate)\n",
    "    trainResults.append(rocAUC)\n",
    "    \n",
    "    ypred = dt1.predict(Xtest)\n",
    "    falsePositiveRate, truePositiveRate, thresholds = roc_curve(ytest, ypred)\n",
    "    rocAUC = auc(falsePositiveRate, truePositiveRate)\n",
    "    testResults.append(rocAUC)\n",
    "\n",
    "from matplotlib.legend_handler import HandlerLine2D\n",
    "line1, = plt.plot(max_depths, trainResults, 'b', label=\"Train AUC\")\n",
    "line2, = plt.plot(max_depths, testResults, 'r', label=\"Test AUC\")\n",
    "\n",
    "plt.legend(handler_map={line1: HandlerLine2D(numpoints=2)})\n",
    "\n",
    "plt.ylabel('AUC score')\n",
    "plt.xlabel('Tree depth')\n",
    "plt.show"
   ]
  },
  {
   "cell_type": "markdown",
   "metadata": {},
   "source": [
    "**min_samples_split**"
   ]
  },
  {
   "cell_type": "code",
   "execution_count": 76,
   "metadata": {},
   "outputs": [
    {
     "data": {
      "text/plain": [
       "<function matplotlib.pyplot.show>"
      ]
     },
     "execution_count": 76,
     "metadata": {},
     "output_type": "execute_result"
    },
    {
     "data": {
      "image/png": "[encoded data removed]",
      "text/plain": [
       "<matplotlib.figure.Figure at 0x26b832069e8>"
      ]
     },
     "metadata": {},
     "output_type": "display_data"
    }
   ],
   "source": [
    "import numpy as np\n",
    "import matplotlib.pyplot as plt\n",
    "\n",
    "min_sample_splits = np.linspace(0.1, 1.0, 10, endpoint=True)\n",
    "\n",
    "trainResult = []\n",
    "testResult = []\n",
    "for sampleSplit in min_sample_splits:\n",
    "    dt2 = DecisionTreeClassifier(min_samples_split=sampleSplit)\n",
    "    dt2.fit(Xtrain, ytrain)\n",
    "    \n",
    "    trainPred = dt2.predict(Xtrain)\n",
    "    falsePositiveRate, truePositiveRate, thresholds = roc_curve(ytrain, trainPred)\n",
    "    rocAUC = auc(falsePositiveRate, truePositiveRate)\n",
    "    trainResult.append(rocAUC)\n",
    "    \n",
    "    ypred = dt2.predict(Xtest)\n",
    "    falsePositiveRate, truePositiveRate, thresholds = roc_curve(ytest, ypred)\n",
    "    rocAUC = auc(falsePositiveRate, truePositiveRate)\n",
    "    testResult.append(rocAUC)\n",
    "    \n",
    "\n",
    "from matplotlib.legend_handler import HandlerLine2D\n",
    "line1, = plt.plot(min_sample_splits, trainResult, 'b', label=\"Train AUC\")\n",
    "line2, = plt.plot(min_sample_splits, testResult, 'r', label=\"Test AUC\")\n",
    "\n",
    "plt.legend(handler_map={line1: HandlerLine2D(numpoints=2)})\n",
    "\n",
    "plt.ylabel('AUC score')\n",
    "plt.xlabel('Min sample split')\n",
    "plt.show"
   ]
  },
  {
   "cell_type": "markdown",
   "metadata": {},
   "source": [
    "**min_samples_leaf**"
   ]
  },
  {
   "cell_type": "code",
   "execution_count": 77,
   "metadata": {},
   "outputs": [
    {
     "data": {
      "text/plain": [
       "<function matplotlib.pyplot.show>"
      ]
     },
     "execution_count": 77,
     "metadata": {},
     "output_type": "execute_result"
    },
    {
     "data": {
      "image/png": "[encoded data removed]",
      "text/plain": [
       "<matplotlib.figure.Figure at 0x26b82d60da0>"
      ]
     },
     "metadata": {},
     "output_type": "display_data"
    }
   ],
   "source": [
    "import numpy as np\n",
    "import matplotlib.pyplot as plt\n",
    "\n",
    "min_sample_leafs = np.linspace(0.1, 0.5, 5, endpoint=True)\n",
    "\n",
    "trainResult = []\n",
    "testResult = []\n",
    "for sampleLeaf in min_sample_leafs:\n",
    "    dt3 = DecisionTreeClassifier(min_samples_leaf=sampleLeaf)\n",
    "    dt3.fit(Xtrain, ytrain)\n",
    "    \n",
    "    trainPred = dt3.predict(Xtrain)\n",
    "    falsePositiveRate, truePositiveRate, thresholds = roc_curve(ytrain, trainPred)\n",
    "    rocAUC = auc(falsePositiveRate, truePositiveRate)\n",
    "    trainResult.append(rocAUC)\n",
    "    \n",
    "    ypred = dt3.predict(Xtest)\n",
    "    falsePositiveRate, truePositiveRate, thresholds = roc_curve(ytest, ypred)\n",
    "    rocAUC = auc(falsePositiveRate, truePositiveRate)\n",
    "    testResult.append(rocAUC)\n",
    "\n",
    "\n",
    "from matplotlib.legend_handler import HandlerLine2D\n",
    "line1, = plt.plot(min_sample_leafs, trainResult, 'b', label=\"Train AUC\")\n",
    "line2, = plt.plot(min_sample_leafs, testResult, 'r', label=\"Test AUC\")\n",
    "\n",
    "plt.legend(handler_map={line1: HandlerLine2D(numpoints=2)})\n",
    "\n",
    "plt.ylabel('AUC score')\n",
    "plt.xlabel('Min sample leaf')\n",
    "plt.show"
   ]
  },
  {
   "cell_type": "markdown",
   "metadata": {},
   "source": [
    "**max_features**"
   ]
  },
  {
   "cell_type": "code",
   "execution_count": 89,
   "metadata": {},
   "outputs": [
    {
     "data": {
      "text/plain": [
       "<function matplotlib.pyplot.show>"
      ]
     },
     "execution_count": 89,
     "metadata": {},
     "output_type": "execute_result"
    },
    {
     "data": {
      "image/png": "[encoded data removed]",
      "text/plain": [
       "<matplotlib.figure.Figure at 0x26b835fb780>"
      ]
     },
     "metadata": {},
     "output_type": "display_data"
    }
   ],
   "source": [
    "import numpy as np\n",
    "import matplotlib.pyplot as plt\n",
    "\n",
    "max_features = list(range(1,X.shape[1]))\n",
    "\n",
    "trainResult = []\n",
    "testResult = []\n",
    "for features in max_features:\n",
    "    dt4 = DecisionTreeClassifier(max_features=features)\n",
    "    dt4.fit(Xtrain, ytrain)\n",
    "    \n",
    "    trainPred = dt4.predict(Xtrain)\n",
    "    falsePositiveRate, truePositiveRate, thresholds = roc_curve(ytrain, trainPred)\n",
    "    rocAUC = auc(falsePositiveRate, truePositiveRate)\n",
    "    trainResult.append(rocAUC)\n",
    "    \n",
    "    ypred = dt4.predict(Xtest)\n",
    "    falsePositiveRate, truePositiveRate, thresholds = roc_curve(ytest, ypred)\n",
    "    rocAUC = auc(falsePositiveRate, truePositiveRate)\n",
    "    testResult.append(rocAUC)\n",
    "    \n",
    "\n",
    "from matplotlib.legend_handler import HandlerLine2D\n",
    "line1, = plt.plot(max_features, trainResult, 'b', label=\"Train AUC\")\n",
    "line2, = plt.plot(max_features, testResult, 'r', label=\"Test AUC\")\n",
    "\n",
    "plt.legend(handler_map={line1: HandlerLine2D(numpoints=2)})\n",
    "\n",
    "plt.ylabel('AUC score')\n",
    "plt.xlabel('Max Features')\n",
    "plt.show"
   ]
  },
  {
   "cell_type": "code",
   "execution_count": null,
   "metadata": {},
   "outputs": [],
   "source": []
  },
  {
   "cell_type": "code",
   "execution_count": 90,
   "metadata": {},
   "outputs": [],
   "source": [
    "#*#*#*#*#*#*#\n",
    "from sklearn.tree import DecisionTreeClassifier\n",
    "XTEST = test.drop(['click_id'], axis=1)\n",
    "modelLower = DecisionTreeClassifier(max_depth=17, max_features=2)\n",
    "modelHigher = DecisionTreeClassifier(max_depth=17, max_features=4)\n",
    "\n",
    "modelLower.fit(Xtrain, ytrain)\n",
    "modelHigher.fit(Xtrain, ytrain)\n",
    "\n",
    "ypredLower = modelLower.predict(XTEST)\n",
    "ypredHigher = modelHigher.predict(XTEST)"
   ]
  },
  {
   "cell_type": "code",
   "execution_count": null,
   "metadata": {},
   "outputs": [],
   "source": [
    "outputLower.shape"
   ]
  },
  {
   "cell_type": "code",
   "execution_count": null,
   "metadata": {},
   "outputs": [],
   "source": [
    "ypredLower.shape"
   ]
  },
  {
   "cell_type": "markdown",
   "metadata": {},
   "source": [
    "# export"
   ]
  },
  {
   "cell_type": "code",
   "execution_count": 91,
   "metadata": {},
   "outputs": [],
   "source": [
    "#*#*#*#*#*#*#\n",
    "outputLower = pd.read_csv('sample_submission.csv')\n",
    "outputHigher = pd.read_csv('sample_submission.csv')\n",
    "\n",
    "outputLower['click_id'] = test['click_id']\n",
    "outputLower['is_attributed'] = ypredLower\n",
    "\n",
    "outputHigher['click_id'] = test['click_id']\n",
    "outputHigher['is_attributed'] = ypredHigher"
   ]
  },
  {
   "cell_type": "code",
   "execution_count": 92,
   "metadata": {},
   "outputs": [
    {
     "data": {
      "text/plain": [
       "0    18756866\n",
       "1       33603\n",
       "Name: is_attributed, dtype: int64"
      ]
     },
     "execution_count": 92,
     "metadata": {},
     "output_type": "execute_result"
    }
   ],
   "source": [
    "#*#*#*#*#*#*#\n",
    "outputLower['is_attributed'].value_counts()"
   ]
  },
  {
   "cell_type": "code",
   "execution_count": 93,
   "metadata": {},
   "outputs": [
    {
     "data": {
      "text/plain": [
       "0    18749925\n",
       "1       40544\n",
       "Name: is_attributed, dtype: int64"
      ]
     },
     "execution_count": 93,
     "metadata": {},
     "output_type": "execute_result"
    }
   ],
   "source": [
    "#*#*#*#*#*#*#\n",
    "outputHigher['is_attributed'].value_counts()"
   ]
  },
  {
   "cell_type": "code",
   "execution_count": 94,
   "metadata": {},
   "outputs": [],
   "source": [
    "#*#*#*#*#*#*#\n",
    "outputLower.to_csv('m3Ls.csv', index=False)\n",
    "outputHigher.to_csv('m3Hs.csv', index=False)"
   ]
  },
  {
   "cell_type": "markdown",
   "metadata": {},
   "source": [
    "# **Model with tuned parameters"
   ]
  },
  {
   "cell_type": "code",
   "execution_count": null,
   "metadata": {},
   "outputs": [],
   "source": [
    "XTRAIN = train.drop(['is_attributed'], axis=1)\n",
    "yTRAIN = train['is_attributed']\n",
    "XTEST = test.drop(['click_id'], axis=1)"
   ]
  },
  {
   "cell_type": "code",
   "execution_count": null,
   "metadata": {},
   "outputs": [],
   "source": [
    "print(XTRAIN.shape)\n",
    "print(yTRAIN.shape)"
   ]
  },
  {
   "cell_type": "code",
   "execution_count": null,
   "metadata": {},
   "outputs": [],
   "source": [
    "XTRAIN.dtypes"
   ]
  },
  {
   "cell_type": "code",
   "execution_count": null,
   "metadata": {},
   "outputs": [],
   "source": [
    "yTRAIN.dtypes"
   ]
  },
  {
   "cell_type": "code",
   "execution_count": null,
   "metadata": {},
   "outputs": [],
   "source": [
    "XTEST.shape"
   ]
  },
  {
   "cell_type": "code",
   "execution_count": null,
   "metadata": {},
   "outputs": [],
   "source": [
    "finalModel = DecisionTreeClassifier()"
   ]
  },
  {
   "cell_type": "code",
   "execution_count": null,
   "metadata": {},
   "outputs": [],
   "source": [
    "%time finalModel.fit(XTRAIN, yTRAIN)"
   ]
  },
  {
   "cell_type": "code",
   "execution_count": null,
   "metadata": {},
   "outputs": [],
   "source": [
    "%time ypred = finalModel.predict(XTEST)"
   ]
  },
  {
   "cell_type": "markdown",
   "metadata": {},
   "source": [
    "# Export model with tuned parameters"
   ]
  },
  {
   "cell_type": "code",
   "execution_count": null,
   "metadata": {},
   "outputs": [],
   "source": [
    "output = pd.read_csv('sample_submission.csv')\n",
    "output.dtypes"
   ]
  },
  {
   "cell_type": "code",
   "execution_count": null,
   "metadata": {},
   "outputs": [],
   "source": [
    "output['click_id'] = test['click_id']\n",
    "output['is_attributed'] = yPRED"
   ]
  },
  {
   "cell_type": "code",
   "execution_count": null,
   "metadata": {},
   "outputs": [],
   "source": [
    "output.shape"
   ]
  },
  {
   "cell_type": "code",
   "execution_count": null,
   "metadata": {},
   "outputs": [],
   "source": [
    "output['is_attributed'].value_counts()"
   ]
  },
  {
   "cell_type": "code",
   "execution_count": null,
   "metadata": {},
   "outputs": [],
   "source": [
    "output.to_csv('m3s.csv', index=False)"
   ]
  }
 ],
 "metadata": {
  "kernelspec": {
   "display_name": "Python 3",
   "language": "python",
   "name": "python3"
  },
  "language_info": {
   "codemirror_mode": {
    "name": "ipython",
    "version": 3
   },
   "file_extension": ".py",
   "mimetype": "text/x-python",
   "name": "python",
   "nbconvert_exporter": "python",
   "pygments_lexer": "ipython3",
   "version": "3.6.4"
  }
 },
 "nbformat": 4,
 "nbformat_minor": 2
}
