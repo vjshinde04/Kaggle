{
 "cells": [
  {
   "cell_type": "markdown",
   "metadata": {},
   "source": [
    "**Working on smaller chunk of data**\n",
    "\n",
    "**train_sample & test**\n",
    "\n",
    "**Data fields** : Each row of the training data contains a click record, with the following features.\n",
    "\n",
    "1. ip: ip address of click.\n",
    "2. app: app id for marketing.\n",
    "3. device: device type id of user mobile phone (e.g., iphone 6 plus, iphone 7, huawei mate 7, etc.)\n",
    "4. os: os version id of user mobile phone\n",
    "5. channel: channel id of mobile ad publisher\n",
    "6. click_time: timestamp of click (UTC)\n",
    "7. attributed_time: if user download the app for after clicking an ad, this is the time of the app download\n",
    "8. is_attributed: the target that is to be predicted, indicating the app was downloaded\n",
    "\n",
    "Note that ip, app, device, os, and channel are encoded."
   ]
  },
  {
   "cell_type": "code",
   "execution_count": 1,
   "metadata": {},
   "outputs": [],
   "source": [
    "import pandas as pd\n",
    "train = pd.read_csv('train_sample.csv')\n",
    "test = pd.read_csv('test.csv')"
   ]
  },
  {
   "cell_type": "code",
   "execution_count": 2,
   "metadata": {},
   "outputs": [
    {
     "name": "stdout",
     "output_type": "stream",
     "text": [
      "(100000, 8)\n",
      "(18790469, 7)\n"
     ]
    }
   ],
   "source": [
    "print(train.shape)\n",
    "print(test.shape)"
   ]
  },
  {
   "cell_type": "code",
   "execution_count": 3,
   "metadata": {},
   "outputs": [
    {
     "data": {
      "text/plain": [
       "ip                     0\n",
       "app                    0\n",
       "device                 0\n",
       "os                     0\n",
       "channel                0\n",
       "click_time             0\n",
       "attributed_time    99773\n",
       "is_attributed          0\n",
       "dtype: int64"
      ]
     },
     "execution_count": 3,
     "metadata": {},
     "output_type": "execute_result"
    }
   ],
   "source": [
    "train.apply(lambda x: sum(x.isnull()))"
   ]
  },
  {
   "cell_type": "code",
   "execution_count": 4,
   "metadata": {},
   "outputs": [
    {
     "name": "stdout",
     "output_type": "stream",
     "text": [
      "<class 'pandas.core.frame.DataFrame'>\n",
      "RangeIndex: 100000 entries, 0 to 99999\n",
      "Data columns (total 8 columns):\n",
      "ip                 100000 non-null int64\n",
      "app                100000 non-null int64\n",
      "device             100000 non-null int64\n",
      "os                 100000 non-null int64\n",
      "channel            100000 non-null int64\n",
      "click_time         100000 non-null object\n",
      "attributed_time    227 non-null object\n",
      "is_attributed      100000 non-null int64\n",
      "dtypes: int64(6), object(2)\n",
      "memory usage: 6.1+ MB\n"
     ]
    }
   ],
   "source": [
    "train.info()"
   ]
  },
  {
   "cell_type": "code",
   "execution_count": 5,
   "metadata": {},
   "outputs": [
    {
     "data": {
      "text/html": [
       "<div>\n",
       "<style scoped>\n",
       "    .dataframe tbody tr th:only-of-type {\n",
       "        vertical-align: middle;\n",
       "    }\n",
       "\n",
       "    .dataframe tbody tr th {\n",
       "        vertical-align: top;\n",
       "    }\n",
       "\n",
       "    .dataframe thead th {\n",
       "        text-align: right;\n",
       "    }\n",
       "</style>\n",
       "<table border=\"1\" class=\"dataframe\">\n",
       "  <thead>\n",
       "    <tr style=\"text-align: right;\">\n",
       "      <th></th>\n",
       "      <th>ip</th>\n",
       "      <th>app</th>\n",
       "      <th>device</th>\n",
       "      <th>os</th>\n",
       "      <th>channel</th>\n",
       "      <th>click_time</th>\n",
       "      <th>attributed_time</th>\n",
       "      <th>is_attributed</th>\n",
       "    </tr>\n",
       "  </thead>\n",
       "  <tbody>\n",
       "    <tr>\n",
       "      <th>72166</th>\n",
       "      <td>158491</td>\n",
       "      <td>8</td>\n",
       "      <td>1</td>\n",
       "      <td>19</td>\n",
       "      <td>145</td>\n",
       "      <td>2017-11-07 13:04:35</td>\n",
       "      <td>NaN</td>\n",
       "      <td>0</td>\n",
       "    </tr>\n",
       "    <tr>\n",
       "      <th>94043</th>\n",
       "      <td>8786</td>\n",
       "      <td>2</td>\n",
       "      <td>1</td>\n",
       "      <td>1</td>\n",
       "      <td>237</td>\n",
       "      <td>2017-11-09 05:20:19</td>\n",
       "      <td>NaN</td>\n",
       "      <td>0</td>\n",
       "    </tr>\n",
       "    <tr>\n",
       "      <th>57051</th>\n",
       "      <td>73954</td>\n",
       "      <td>14</td>\n",
       "      <td>1</td>\n",
       "      <td>41</td>\n",
       "      <td>134</td>\n",
       "      <td>2017-11-08 13:56:53</td>\n",
       "      <td>NaN</td>\n",
       "      <td>0</td>\n",
       "    </tr>\n",
       "    <tr>\n",
       "      <th>90156</th>\n",
       "      <td>17014</td>\n",
       "      <td>3</td>\n",
       "      <td>2</td>\n",
       "      <td>13</td>\n",
       "      <td>280</td>\n",
       "      <td>2017-11-08 06:50:59</td>\n",
       "      <td>NaN</td>\n",
       "      <td>0</td>\n",
       "    </tr>\n",
       "    <tr>\n",
       "      <th>16738</th>\n",
       "      <td>282913</td>\n",
       "      <td>2</td>\n",
       "      <td>1</td>\n",
       "      <td>8</td>\n",
       "      <td>435</td>\n",
       "      <td>2017-11-08 01:41:37</td>\n",
       "      <td>NaN</td>\n",
       "      <td>0</td>\n",
       "    </tr>\n",
       "  </tbody>\n",
       "</table>\n",
       "</div>"
      ],
      "text/plain": [
       "           ip  app  device  os  channel           click_time attributed_time  \\\n",
       "72166  158491    8       1  19      145  2017-11-07 13:04:35             NaN   \n",
       "94043    8786    2       1   1      237  2017-11-09 05:20:19             NaN   \n",
       "57051   73954   14       1  41      134  2017-11-08 13:56:53             NaN   \n",
       "90156   17014    3       2  13      280  2017-11-08 06:50:59             NaN   \n",
       "16738  282913    2       1   8      435  2017-11-08 01:41:37             NaN   \n",
       "\n",
       "       is_attributed  \n",
       "72166              0  \n",
       "94043              0  \n",
       "57051              0  \n",
       "90156              0  \n",
       "16738              0  "
      ]
     },
     "execution_count": 5,
     "metadata": {},
     "output_type": "execute_result"
    }
   ],
   "source": [
    "train.sample(5)"
   ]
  },
  {
   "cell_type": "code",
   "execution_count": 6,
   "metadata": {},
   "outputs": [
    {
     "data": {
      "text/html": [
       "<div>\n",
       "<style scoped>\n",
       "    .dataframe tbody tr th:only-of-type {\n",
       "        vertical-align: middle;\n",
       "    }\n",
       "\n",
       "    .dataframe tbody tr th {\n",
       "        vertical-align: top;\n",
       "    }\n",
       "\n",
       "    .dataframe thead th {\n",
       "        text-align: right;\n",
       "    }\n",
       "</style>\n",
       "<table border=\"1\" class=\"dataframe\">\n",
       "  <thead>\n",
       "    <tr style=\"text-align: right;\">\n",
       "      <th></th>\n",
       "      <th>ip</th>\n",
       "      <th>app</th>\n",
       "      <th>device</th>\n",
       "      <th>os</th>\n",
       "      <th>channel</th>\n",
       "      <th>click_time</th>\n",
       "      <th>attributed_time</th>\n",
       "      <th>is_attributed</th>\n",
       "    </tr>\n",
       "  </thead>\n",
       "  <tbody>\n",
       "    <tr>\n",
       "      <th>94450</th>\n",
       "      <td>93542</td>\n",
       "      <td>19</td>\n",
       "      <td>0</td>\n",
       "      <td>0</td>\n",
       "      <td>347</td>\n",
       "      <td>2017-11-07 03:14:10</td>\n",
       "      <td>2017-11-07 03:17:23</td>\n",
       "      <td>1</td>\n",
       "    </tr>\n",
       "    <tr>\n",
       "      <th>11034</th>\n",
       "      <td>96637</td>\n",
       "      <td>19</td>\n",
       "      <td>102</td>\n",
       "      <td>24</td>\n",
       "      <td>213</td>\n",
       "      <td>2017-11-07 00:53:43</td>\n",
       "      <td>2017-11-07 08:32:53</td>\n",
       "      <td>1</td>\n",
       "    </tr>\n",
       "    <tr>\n",
       "      <th>62320</th>\n",
       "      <td>17460</td>\n",
       "      <td>9</td>\n",
       "      <td>1</td>\n",
       "      <td>13</td>\n",
       "      <td>489</td>\n",
       "      <td>2017-11-09 03:52:26</td>\n",
       "      <td>2017-11-09 03:52:48</td>\n",
       "      <td>1</td>\n",
       "    </tr>\n",
       "    <tr>\n",
       "      <th>55222</th>\n",
       "      <td>120259</td>\n",
       "      <td>3</td>\n",
       "      <td>1</td>\n",
       "      <td>15</td>\n",
       "      <td>280</td>\n",
       "      <td>2017-11-07 05:37:18</td>\n",
       "      <td>2017-11-07 07:26:43</td>\n",
       "      <td>1</td>\n",
       "    </tr>\n",
       "    <tr>\n",
       "      <th>22527</th>\n",
       "      <td>60666</td>\n",
       "      <td>19</td>\n",
       "      <td>0</td>\n",
       "      <td>0</td>\n",
       "      <td>347</td>\n",
       "      <td>2017-11-09 09:31:16</td>\n",
       "      <td>2017-11-09 10:13:19</td>\n",
       "      <td>1</td>\n",
       "    </tr>\n",
       "    <tr>\n",
       "      <th>73413</th>\n",
       "      <td>177454</td>\n",
       "      <td>3</td>\n",
       "      <td>1</td>\n",
       "      <td>13</td>\n",
       "      <td>280</td>\n",
       "      <td>2017-11-08 04:46:48</td>\n",
       "      <td>2017-11-08 08:57:28</td>\n",
       "      <td>1</td>\n",
       "    </tr>\n",
       "    <tr>\n",
       "      <th>38971</th>\n",
       "      <td>56317</td>\n",
       "      <td>50</td>\n",
       "      <td>0</td>\n",
       "      <td>0</td>\n",
       "      <td>213</td>\n",
       "      <td>2017-11-09 02:28:45</td>\n",
       "      <td>2017-11-09 08:56:28</td>\n",
       "      <td>1</td>\n",
       "    </tr>\n",
       "    <tr>\n",
       "      <th>65798</th>\n",
       "      <td>303879</td>\n",
       "      <td>10</td>\n",
       "      <td>1</td>\n",
       "      <td>27</td>\n",
       "      <td>113</td>\n",
       "      <td>2017-11-09 08:58:59</td>\n",
       "      <td>2017-11-09 08:59:35</td>\n",
       "      <td>1</td>\n",
       "    </tr>\n",
       "    <tr>\n",
       "      <th>15821</th>\n",
       "      <td>5348</td>\n",
       "      <td>19</td>\n",
       "      <td>0</td>\n",
       "      <td>29</td>\n",
       "      <td>213</td>\n",
       "      <td>2017-11-07 14:17:49</td>\n",
       "      <td>2017-11-07 14:17:52</td>\n",
       "      <td>1</td>\n",
       "    </tr>\n",
       "    <tr>\n",
       "      <th>39198</th>\n",
       "      <td>46364</td>\n",
       "      <td>9</td>\n",
       "      <td>1</td>\n",
       "      <td>12</td>\n",
       "      <td>489</td>\n",
       "      <td>2017-11-09 03:34:38</td>\n",
       "      <td>2017-11-09 07:28:37</td>\n",
       "      <td>1</td>\n",
       "    </tr>\n",
       "  </tbody>\n",
       "</table>\n",
       "</div>"
      ],
      "text/plain": [
       "           ip  app  device  os  channel           click_time  \\\n",
       "94450   93542   19       0   0      347  2017-11-07 03:14:10   \n",
       "11034   96637   19     102  24      213  2017-11-07 00:53:43   \n",
       "62320   17460    9       1  13      489  2017-11-09 03:52:26   \n",
       "55222  120259    3       1  15      280  2017-11-07 05:37:18   \n",
       "22527   60666   19       0   0      347  2017-11-09 09:31:16   \n",
       "73413  177454    3       1  13      280  2017-11-08 04:46:48   \n",
       "38971   56317   50       0   0      213  2017-11-09 02:28:45   \n",
       "65798  303879   10       1  27      113  2017-11-09 08:58:59   \n",
       "15821    5348   19       0  29      213  2017-11-07 14:17:49   \n",
       "39198   46364    9       1  12      489  2017-11-09 03:34:38   \n",
       "\n",
       "           attributed_time  is_attributed  \n",
       "94450  2017-11-07 03:17:23              1  \n",
       "11034  2017-11-07 08:32:53              1  \n",
       "62320  2017-11-09 03:52:48              1  \n",
       "55222  2017-11-07 07:26:43              1  \n",
       "22527  2017-11-09 10:13:19              1  \n",
       "73413  2017-11-08 08:57:28              1  \n",
       "38971  2017-11-09 08:56:28              1  \n",
       "65798  2017-11-09 08:59:35              1  \n",
       "15821  2017-11-07 14:17:52              1  \n",
       "39198  2017-11-09 07:28:37              1  "
      ]
     },
     "execution_count": 6,
     "metadata": {},
     "output_type": "execute_result"
    }
   ],
   "source": [
    "train[train['attributed_time'].notnull()].sample(10)"
   ]
  },
  {
   "cell_type": "code",
   "execution_count": 7,
   "metadata": {},
   "outputs": [
    {
     "name": "stdout",
     "output_type": "stream",
     "text": [
      "3      18279\n",
      "12     13198\n",
      "2      11737\n",
      "9       8992\n",
      "15      8595\n",
      "18      8315\n",
      "14      5359\n",
      "1       3135\n",
      "13      2422\n",
      "8       2004\n",
      "21      1979\n",
      "11      1927\n",
      "26      1633\n",
      "23      1454\n",
      "6       1303\n",
      "64      1079\n",
      "7        981\n",
      "20       911\n",
      "25       804\n",
      "28       720\n",
      "24       704\n",
      "27       696\n",
      "19       478\n",
      "10       388\n",
      "22       386\n",
      "17       380\n",
      "29       360\n",
      "32       286\n",
      "5        188\n",
      "151      109\n",
      "       ...  \n",
      "551        1\n",
      "168        1\n",
      "105        1\n",
      "233        1\n",
      "302        1\n",
      "78         1\n",
      "112        1\n",
      "115        1\n",
      "116        1\n",
      "372        1\n",
      "123        1\n",
      "124        1\n",
      "548        1\n",
      "100        1\n",
      "163        1\n",
      "99         1\n",
      "97         1\n",
      "96         1\n",
      "31         1\n",
      "347        1\n",
      "91         1\n",
      "538        1\n",
      "474        1\n",
      "536        1\n",
      "216        1\n",
      "407        1\n",
      "145        1\n",
      "271        1\n",
      "398        1\n",
      "92         1\n",
      "Name: app, Length: 161, dtype: int64\n",
      "**************************************************\n",
      "1       94338\n",
      "2        4345\n",
      "0         541\n",
      "3032      371\n",
      "3543      151\n",
      "3866       93\n",
      "59         12\n",
      "6           8\n",
      "16          7\n",
      "5           7\n",
      "40          7\n",
      "97          5\n",
      "50          4\n",
      "25          3\n",
      "21          3\n",
      "33          3\n",
      "4           3\n",
      "60          3\n",
      "30          2\n",
      "160         2\n",
      "78          2\n",
      "74          2\n",
      "7           2\n",
      "211         2\n",
      "20          2\n",
      "67          2\n",
      "124         2\n",
      "114         2\n",
      "182         2\n",
      "56          2\n",
      "        ...  \n",
      "116         1\n",
      "1318        1\n",
      "180         1\n",
      "53          1\n",
      "374         1\n",
      "1080        1\n",
      "58          1\n",
      "188         1\n",
      "2429        1\n",
      "103         1\n",
      "486         1\n",
      "3545        1\n",
      "928         1\n",
      "154         1\n",
      "3867        1\n",
      "828         1\n",
      "220         1\n",
      "414         1\n",
      "351         1\n",
      "607         1\n",
      "163         1\n",
      "102         1\n",
      "291         1\n",
      "36          1\n",
      "100         1\n",
      "420         1\n",
      "37          1\n",
      "549         1\n",
      "2980        1\n",
      "347         1\n",
      "Name: device, Length: 100, dtype: int64\n",
      "**************************************************\n",
      "19     23870\n",
      "13     21223\n",
      "17      5232\n",
      "18      4830\n",
      "22      4039\n",
      "10      2816\n",
      "8       2775\n",
      "6       2520\n",
      "15      2396\n",
      "20      2347\n",
      "9       2341\n",
      "25      2248\n",
      "16      1691\n",
      "37      1589\n",
      "3       1576\n",
      "41      1348\n",
      "14      1312\n",
      "1       1185\n",
      "12      1103\n",
      "23      1042\n",
      "27      1008\n",
      "32       915\n",
      "35       914\n",
      "47       789\n",
      "53       759\n",
      "11       752\n",
      "28       704\n",
      "30       676\n",
      "26       482\n",
      "31       426\n",
      "       ...  \n",
      "111        2\n",
      "117        2\n",
      "78         2\n",
      "132        2\n",
      "68         2\n",
      "152        2\n",
      "193        1\n",
      "192        1\n",
      "836        1\n",
      "133        1\n",
      "129        1\n",
      "106        1\n",
      "135        1\n",
      "199        1\n",
      "168        1\n",
      "99         1\n",
      "172        1\n",
      "174        1\n",
      "153        1\n",
      "88         1\n",
      "151        1\n",
      "84         1\n",
      "113        1\n",
      "114        1\n",
      "207        1\n",
      "116        1\n",
      "142        1\n",
      "137        1\n",
      "185        1\n",
      "127        1\n",
      "Name: os, Length: 130, dtype: int64\n",
      "**************************************************\n",
      "280    8114\n",
      "245    4802\n",
      "107    4543\n",
      "477    3960\n",
      "134    3224\n",
      "259    3130\n",
      "265    3013\n",
      "153    2954\n",
      "178    2936\n",
      "121    2472\n",
      "205    2369\n",
      "145    1964\n",
      "442    1941\n",
      "459    1921\n",
      "379    1833\n",
      "439    1528\n",
      "128    1486\n",
      "466    1483\n",
      "135    1473\n",
      "480    1468\n",
      "469    1458\n",
      "489    1426\n",
      "237    1408\n",
      "122    1366\n",
      "140    1328\n",
      "219    1303\n",
      "137    1245\n",
      "435    1220\n",
      "232    1211\n",
      "101    1180\n",
      "       ... \n",
      "457      16\n",
      "356      15\n",
      "268      13\n",
      "126      11\n",
      "174       9\n",
      "22        8\n",
      "486       8\n",
      "5         7\n",
      "404       7\n",
      "203       6\n",
      "341       6\n",
      "332       5\n",
      "108       5\n",
      "488       5\n",
      "419       5\n",
      "272       4\n",
      "420       4\n",
      "456       4\n",
      "353       3\n",
      "483       3\n",
      "410       2\n",
      "455       2\n",
      "15        2\n",
      "114       1\n",
      "4         1\n",
      "261       1\n",
      "498       1\n",
      "465       1\n",
      "474       1\n",
      "451       1\n",
      "Name: channel, Length: 161, dtype: int64\n",
      "**************************************************\n",
      "2017-11-08 12:01:02    7\n",
      "2017-11-07 05:00:11    6\n",
      "2017-11-07 04:36:16    6\n",
      "2017-11-08 13:32:05    6\n",
      "2017-11-09 14:46:23    6\n",
      "2017-11-08 02:59:48    5\n",
      "2017-11-08 07:38:40    5\n",
      "2017-11-07 13:59:56    5\n",
      "2017-11-09 09:53:16    5\n",
      "2017-11-09 01:14:45    5\n",
      "2017-11-08 06:13:02    5\n",
      "2017-11-09 09:40:41    5\n",
      "2017-11-09 14:40:08    5\n",
      "2017-11-08 14:20:42    5\n",
      "2017-11-07 00:43:13    5\n",
      "2017-11-09 04:34:59    5\n",
      "2017-11-09 04:36:01    5\n",
      "2017-11-09 04:08:39    5\n",
      "2017-11-07 11:53:12    5\n",
      "2017-11-09 04:34:28    5\n",
      "2017-11-07 12:43:25    5\n",
      "2017-11-08 06:49:04    5\n",
      "2017-11-07 08:32:43    5\n",
      "2017-11-08 13:56:36    5\n",
      "2017-11-07 11:16:28    5\n",
      "2017-11-08 06:02:06    5\n",
      "2017-11-08 16:20:50    5\n",
      "2017-11-07 11:02:34    5\n",
      "2017-11-06 23:27:07    5\n",
      "2017-11-08 08:02:00    5\n",
      "                      ..\n",
      "2017-11-09 13:31:09    1\n",
      "2017-11-08 10:36:43    1\n",
      "2017-11-09 01:56:44    1\n",
      "2017-11-08 14:17:21    1\n",
      "2017-11-08 01:39:41    1\n",
      "2017-11-08 04:09:27    1\n",
      "2017-11-08 06:53:55    1\n",
      "2017-11-06 21:10:26    1\n",
      "2017-11-06 17:13:50    1\n",
      "2017-11-07 05:34:46    1\n",
      "2017-11-09 12:56:04    1\n",
      "2017-11-07 04:35:44    1\n",
      "2017-11-07 10:46:10    1\n",
      "2017-11-09 13:53:08    1\n",
      "2017-11-08 15:21:21    1\n",
      "2017-11-08 06:36:16    1\n",
      "2017-11-07 00:42:02    1\n",
      "2017-11-08 02:30:05    1\n",
      "2017-11-09 06:18:58    1\n",
      "2017-11-08 16:19:07    1\n",
      "2017-11-09 10:05:12    1\n",
      "2017-11-08 13:27:04    1\n",
      "2017-11-09 12:21:20    1\n",
      "2017-11-08 03:15:50    1\n",
      "2017-11-08 12:30:11    1\n",
      "2017-11-06 17:15:15    1\n",
      "2017-11-09 05:42:29    1\n",
      "2017-11-08 22:53:28    1\n",
      "2017-11-07 20:23:40    1\n",
      "2017-11-09 05:40:39    1\n",
      "Name: click_time, Length: 80350, dtype: int64\n",
      "**************************************************\n",
      "2017-11-08 10:29:01    1\n",
      "2017-11-08 01:23:34    1\n",
      "2017-11-09 10:13:19    1\n",
      "2017-11-07 04:30:44    1\n",
      "2017-11-06 23:16:28    1\n",
      "2017-11-09 00:18:24    1\n",
      "2017-11-09 15:15:34    1\n",
      "2017-11-08 14:25:07    1\n",
      "2017-11-07 23:07:41    1\n",
      "2017-11-09 09:24:31    1\n",
      "2017-11-08 12:47:19    1\n",
      "2017-11-08 11:38:39    1\n",
      "2017-11-08 07:15:56    1\n",
      "2017-11-09 04:43:30    1\n",
      "2017-11-07 01:50:04    1\n",
      "2017-11-09 12:31:04    1\n",
      "2017-11-07 08:49:54    1\n",
      "2017-11-09 12:40:10    1\n",
      "2017-11-07 12:52:45    1\n",
      "2017-11-08 06:12:02    1\n",
      "2017-11-08 03:16:13    1\n",
      "2017-11-07 11:59:05    1\n",
      "2017-11-08 10:01:21    1\n",
      "2017-11-08 23:53:53    1\n",
      "2017-11-09 08:34:40    1\n",
      "2017-11-08 04:18:08    1\n",
      "2017-11-07 09:07:51    1\n",
      "2017-11-08 06:04:27    1\n",
      "2017-11-08 15:42:47    1\n",
      "2017-11-07 14:35:55    1\n",
      "                      ..\n",
      "2017-11-09 07:28:37    1\n",
      "2017-11-07 14:28:28    1\n",
      "2017-11-08 14:35:39    1\n",
      "2017-11-09 13:32:51    1\n",
      "2017-11-07 13:17:15    1\n",
      "2017-11-08 12:18:44    1\n",
      "2017-11-09 05:02:33    1\n",
      "2017-11-09 03:52:48    1\n",
      "2017-11-08 14:00:05    1\n",
      "2017-11-08 23:59:05    1\n",
      "2017-11-08 13:55:49    1\n",
      "2017-11-07 13:00:22    1\n",
      "2017-11-08 02:38:22    1\n",
      "2017-11-07 13:10:30    1\n",
      "2017-11-08 14:02:51    1\n",
      "2017-11-07 07:52:55    1\n",
      "2017-11-09 09:30:19    1\n",
      "2017-11-08 14:22:43    1\n",
      "2017-11-09 10:38:02    1\n",
      "2017-11-09 02:13:48    1\n",
      "2017-11-08 08:56:58    1\n",
      "2017-11-08 06:22:10    1\n",
      "2017-11-08 06:10:37    1\n",
      "2017-11-09 08:52:49    1\n",
      "2017-11-07 08:32:53    1\n",
      "2017-11-07 03:38:32    1\n",
      "2017-11-08 12:51:58    1\n",
      "2017-11-09 12:49:58    1\n",
      "2017-11-07 13:15:15    1\n",
      "2017-11-08 23:45:22    1\n",
      "Name: attributed_time, Length: 227, dtype: int64\n",
      "**************************************************\n",
      "0    99773\n",
      "1      227\n",
      "Name: is_attributed, dtype: int64\n",
      "**************************************************\n"
     ]
    }
   ],
   "source": [
    "for c in train.columns:\n",
    "    if c != 'ip':\n",
    "        print(train[c].value_counts())\n",
    "        print('*'*50)\n",
    "#better way is to plot it"
   ]
  },
  {
   "cell_type": "code",
   "execution_count": 8,
   "metadata": {},
   "outputs": [],
   "source": [
    "train['XX'] = pd.to_datetime(train['click_time'], format=\"%Y-%m-%d %H:%M:%S\")"
   ]
  },
  {
   "cell_type": "code",
   "execution_count": 9,
   "metadata": {},
   "outputs": [
    {
     "data": {
      "text/plain": [
       "2    34035\n",
       "1    32393\n",
       "3    28561\n",
       "0     5011\n",
       "Name: XX, dtype: int64"
      ]
     },
     "execution_count": 9,
     "metadata": {},
     "output_type": "execute_result"
    }
   ],
   "source": [
    "train['XX'].dt.weekday.value_counts()"
   ]
  },
  {
   "cell_type": "code",
   "execution_count": 10,
   "metadata": {},
   "outputs": [
    {
     "data": {
      "text/html": [
       "<div>\n",
       "<style scoped>\n",
       "    .dataframe tbody tr th:only-of-type {\n",
       "        vertical-align: middle;\n",
       "    }\n",
       "\n",
       "    .dataframe tbody tr th {\n",
       "        vertical-align: top;\n",
       "    }\n",
       "\n",
       "    .dataframe thead th {\n",
       "        text-align: right;\n",
       "    }\n",
       "</style>\n",
       "<table border=\"1\" class=\"dataframe\">\n",
       "  <thead>\n",
       "    <tr style=\"text-align: right;\">\n",
       "      <th></th>\n",
       "      <th>click_id</th>\n",
       "      <th>ip</th>\n",
       "      <th>app</th>\n",
       "      <th>device</th>\n",
       "      <th>os</th>\n",
       "      <th>channel</th>\n",
       "      <th>click_time</th>\n",
       "    </tr>\n",
       "  </thead>\n",
       "  <tbody>\n",
       "    <tr>\n",
       "      <th>13725990</th>\n",
       "      <td>13725990</td>\n",
       "      <td>97773</td>\n",
       "      <td>15</td>\n",
       "      <td>1</td>\n",
       "      <td>19</td>\n",
       "      <td>3</td>\n",
       "      <td>2017-11-10 13:27:17</td>\n",
       "    </tr>\n",
       "    <tr>\n",
       "      <th>12649354</th>\n",
       "      <td>12649353</td>\n",
       "      <td>95006</td>\n",
       "      <td>21</td>\n",
       "      <td>2</td>\n",
       "      <td>9</td>\n",
       "      <td>232</td>\n",
       "      <td>2017-11-10 13:06:26</td>\n",
       "    </tr>\n",
       "    <tr>\n",
       "      <th>11333506</th>\n",
       "      <td>11333506</td>\n",
       "      <td>93235</td>\n",
       "      <td>9</td>\n",
       "      <td>1</td>\n",
       "      <td>9</td>\n",
       "      <td>258</td>\n",
       "      <td>2017-11-10 10:41:09</td>\n",
       "    </tr>\n",
       "    <tr>\n",
       "      <th>10928719</th>\n",
       "      <td>10928719</td>\n",
       "      <td>17130</td>\n",
       "      <td>9</td>\n",
       "      <td>1</td>\n",
       "      <td>22</td>\n",
       "      <td>334</td>\n",
       "      <td>2017-11-10 10:33:32</td>\n",
       "    </tr>\n",
       "    <tr>\n",
       "      <th>9578157</th>\n",
       "      <td>9578157</td>\n",
       "      <td>80398</td>\n",
       "      <td>13</td>\n",
       "      <td>1</td>\n",
       "      <td>41</td>\n",
       "      <td>477</td>\n",
       "      <td>2017-11-10 10:07:32</td>\n",
       "    </tr>\n",
       "  </tbody>\n",
       "</table>\n",
       "</div>"
      ],
      "text/plain": [
       "          click_id     ip  app  device  os  channel           click_time\n",
       "13725990  13725990  97773   15       1  19        3  2017-11-10 13:27:17\n",
       "12649354  12649353  95006   21       2   9      232  2017-11-10 13:06:26\n",
       "11333506  11333506  93235    9       1   9      258  2017-11-10 10:41:09\n",
       "10928719  10928719  17130    9       1  22      334  2017-11-10 10:33:32\n",
       "9578157    9578157  80398   13       1  41      477  2017-11-10 10:07:32"
      ]
     },
     "execution_count": 10,
     "metadata": {},
     "output_type": "execute_result"
    }
   ],
   "source": [
    "test.sample(5)"
   ]
  },
  {
   "cell_type": "code",
   "execution_count": 11,
   "metadata": {},
   "outputs": [],
   "source": [
    "test['X'] = pd.to_datetime(test['click_time'], format=\"%Y-%m-%d %H:%M:%S\")"
   ]
  },
  {
   "cell_type": "code",
   "execution_count": 12,
   "metadata": {},
   "outputs": [
    {
     "data": {
      "text/plain": [
       "10    18790469\n",
       "Name: X, dtype: int64"
      ]
     },
     "execution_count": 12,
     "metadata": {},
     "output_type": "execute_result"
    }
   ],
   "source": [
    "test['X'].dt.day.value_counts()"
   ]
  },
  {
   "cell_type": "code",
   "execution_count": 13,
   "metadata": {},
   "outputs": [
    {
     "data": {
      "text/plain": [
       "ip                          int64\n",
       "app                         int64\n",
       "device                      int64\n",
       "os                          int64\n",
       "channel                     int64\n",
       "click_time                 object\n",
       "attributed_time            object\n",
       "is_attributed               int64\n",
       "XX                 datetime64[ns]\n",
       "hour                        int64\n",
       "minute                      int64\n",
       "dtype: object"
      ]
     },
     "execution_count": 13,
     "metadata": {},
     "output_type": "execute_result"
    }
   ],
   "source": [
    "##since test dataset doesn't samples from different date that is not there in train dataset, weekday and date won't help\n",
    "#train['date'] = pd.to_datetime(train['click_time'], format=\"%Y-%m-%d %H:%M:%S\").dt.day\n",
    "train['hour'] = pd.to_datetime(train['click_time'], format=\"%Y-%m-%d %H:%M:%S\").dt.hour\n",
    "train['minute'] = pd.to_datetime(train['click_time'], format=\"%Y-%m-%d %H:%M:%S\").dt.minute\n",
    "#train['weekDay'] = pd.to_datetime(train['click_time'], format=\"%Y-%m-%d %H:%M:%S\").dt.weekday\n",
    "train.dtypes"
   ]
  },
  {
   "cell_type": "code",
   "execution_count": 14,
   "metadata": {},
   "outputs": [
    {
     "data": {
      "text/plain": [
       "ip               int64\n",
       "app              int64\n",
       "device           int64\n",
       "os               int64\n",
       "channel          int64\n",
       "is_attributed    int64\n",
       "hour             int64\n",
       "minute           int64\n",
       "dtype: object"
      ]
     },
     "execution_count": 14,
     "metadata": {},
     "output_type": "execute_result"
    }
   ],
   "source": [
    "train.drop(['click_time','attributed_time','XX'], axis=1, inplace=True)\n",
    "train.dtypes"
   ]
  },
  {
   "cell_type": "code",
   "execution_count": 15,
   "metadata": {},
   "outputs": [
    {
     "data": {
      "text/plain": [
       "click_id               int64\n",
       "ip                     int64\n",
       "app                    int64\n",
       "device                 int64\n",
       "os                     int64\n",
       "channel                int64\n",
       "click_time            object\n",
       "X             datetime64[ns]\n",
       "hour                   int64\n",
       "minute                 int64\n",
       "dtype: object"
      ]
     },
     "execution_count": 15,
     "metadata": {},
     "output_type": "execute_result"
    }
   ],
   "source": [
    "test['hour'] = pd.to_datetime(test['click_time'], format=\"%Y-%m-%d %H:%M:%S\").dt.hour\n",
    "test['minute'] = pd.to_datetime(test['click_time'], format=\"%Y-%m-%d %H:%M:%S\").dt.minute\n",
    "test.dtypes"
   ]
  },
  {
   "cell_type": "code",
   "execution_count": 16,
   "metadata": {},
   "outputs": [
    {
     "data": {
      "text/plain": [
       "click_id    int64\n",
       "ip          int64\n",
       "app         int64\n",
       "device      int64\n",
       "os          int64\n",
       "channel     int64\n",
       "hour        int64\n",
       "minute      int64\n",
       "dtype: object"
      ]
     },
     "execution_count": 16,
     "metadata": {},
     "output_type": "execute_result"
    }
   ],
   "source": [
    "test.drop(['click_time','X'], axis=1, inplace=True)\n",
    "test.dtypes"
   ]
  },
  {
   "cell_type": "markdown",
   "metadata": {},
   "source": [
    "**Data fields** : Each row of the training data contains a click record, with the following features.\n",
    "\n",
    "1. ip: ip address of click.\n",
    "2. app: app id for marketing.\n",
    "3. device: device type id of user mobile phone (e.g., iphone 6 plus, iphone 7, huawei mate 7, etc.)\n",
    "4. os: os version id of user mobile phone\n",
    "5. channel: channel id of mobile ad publisher\n",
    "6. click_time: timestamp of click (UTC)\n",
    "7. attributed_time: if user download the app for after clicking an ad, this is the time of the app download\n",
    "8. is_attributed: the target that is to be predicted, indicating the app was downloaded\n",
    "\n",
    "'app', 'channel', 'time' are critical"
   ]
  },
  {
   "cell_type": "code",
   "execution_count": 17,
   "metadata": {},
   "outputs": [
    {
     "data": {
      "text/plain": [
       "-0.028237659717744154"
      ]
     },
     "execution_count": 17,
     "metadata": {},
     "output_type": "execute_result"
    }
   ],
   "source": [
    "train['app'].corr(train['channel'])"
   ]
  },
  {
   "cell_type": "code",
   "execution_count": 18,
   "metadata": {},
   "outputs": [],
   "source": [
    "#import seaborn as sns\n",
    "#sns.pairplot(train[['channel','app']])"
   ]
  },
  {
   "cell_type": "code",
   "execution_count": 19,
   "metadata": {},
   "outputs": [
    {
     "data": {
      "text/html": [
       "<div>\n",
       "<style scoped>\n",
       "    .dataframe tbody tr th:only-of-type {\n",
       "        vertical-align: middle;\n",
       "    }\n",
       "\n",
       "    .dataframe tbody tr th {\n",
       "        vertical-align: top;\n",
       "    }\n",
       "\n",
       "    .dataframe thead th {\n",
       "        text-align: right;\n",
       "    }\n",
       "</style>\n",
       "<table border=\"1\" class=\"dataframe\">\n",
       "  <thead>\n",
       "    <tr style=\"text-align: right;\">\n",
       "      <th></th>\n",
       "      <th>channel</th>\n",
       "      <th>app</th>\n",
       "    </tr>\n",
       "  </thead>\n",
       "  <tbody>\n",
       "    <tr>\n",
       "      <th>7915</th>\n",
       "      <td>280</td>\n",
       "      <td>3</td>\n",
       "    </tr>\n",
       "    <tr>\n",
       "      <th>38211</th>\n",
       "      <td>439</td>\n",
       "      <td>14</td>\n",
       "    </tr>\n",
       "    <tr>\n",
       "      <th>35885</th>\n",
       "      <td>107</td>\n",
       "      <td>18</td>\n",
       "    </tr>\n",
       "    <tr>\n",
       "      <th>69827</th>\n",
       "      <td>259</td>\n",
       "      <td>12</td>\n",
       "    </tr>\n",
       "    <tr>\n",
       "      <th>59086</th>\n",
       "      <td>237</td>\n",
       "      <td>2</td>\n",
       "    </tr>\n",
       "    <tr>\n",
       "      <th>94960</th>\n",
       "      <td>480</td>\n",
       "      <td>15</td>\n",
       "    </tr>\n",
       "    <tr>\n",
       "      <th>66548</th>\n",
       "      <td>121</td>\n",
       "      <td>18</td>\n",
       "    </tr>\n",
       "    <tr>\n",
       "      <th>835</th>\n",
       "      <td>463</td>\n",
       "      <td>14</td>\n",
       "    </tr>\n",
       "    <tr>\n",
       "      <th>31015</th>\n",
       "      <td>463</td>\n",
       "      <td>14</td>\n",
       "    </tr>\n",
       "    <tr>\n",
       "      <th>13389</th>\n",
       "      <td>101</td>\n",
       "      <td>7</td>\n",
       "    </tr>\n",
       "  </tbody>\n",
       "</table>\n",
       "</div>"
      ],
      "text/plain": [
       "       channel  app\n",
       "7915       280    3\n",
       "38211      439   14\n",
       "35885      107   18\n",
       "69827      259   12\n",
       "59086      237    2\n",
       "94960      480   15\n",
       "66548      121   18\n",
       "835        463   14\n",
       "31015      463   14\n",
       "13389      101    7"
      ]
     },
     "execution_count": 19,
     "metadata": {},
     "output_type": "execute_result"
    }
   ],
   "source": [
    "train[['channel','app']].sample(10)"
   ]
  },
  {
   "cell_type": "markdown",
   "metadata": {},
   "source": [
    "# Model"
   ]
  },
  {
   "cell_type": "code",
   "execution_count": 20,
   "metadata": {},
   "outputs": [],
   "source": [
    "Xtrain = train.drop(['is_attributed'], axis=1)\n",
    "ytrain = train['is_attributed']\n",
    "Xtest = test.drop(['click_id'], axis=1)"
   ]
  },
  {
   "cell_type": "code",
   "execution_count": 21,
   "metadata": {},
   "outputs": [
    {
     "data": {
      "text/plain": [
       "ip               int64\n",
       "app              int64\n",
       "device           int64\n",
       "os               int64\n",
       "channel          int64\n",
       "is_attributed    int64\n",
       "hour             int64\n",
       "minute           int64\n",
       "dtype: object"
      ]
     },
     "execution_count": 21,
     "metadata": {},
     "output_type": "execute_result"
    }
   ],
   "source": [
    "train.dtypes"
   ]
  },
  {
   "cell_type": "code",
   "execution_count": 22,
   "metadata": {},
   "outputs": [
    {
     "data": {
      "text/plain": [
       "dtype('int64')"
      ]
     },
     "execution_count": 22,
     "metadata": {},
     "output_type": "execute_result"
    }
   ],
   "source": [
    "ytrain.dtypes"
   ]
  },
  {
   "cell_type": "code",
   "execution_count": 23,
   "metadata": {},
   "outputs": [
    {
     "data": {
      "text/plain": [
       "ip         int64\n",
       "app        int64\n",
       "device     int64\n",
       "os         int64\n",
       "channel    int64\n",
       "hour       int64\n",
       "minute     int64\n",
       "dtype: object"
      ]
     },
     "execution_count": 23,
     "metadata": {},
     "output_type": "execute_result"
    }
   ],
   "source": [
    "Xtest.dtypes"
   ]
  },
  {
   "cell_type": "code",
   "execution_count": 24,
   "metadata": {},
   "outputs": [],
   "source": [
    "from sklearn.ensemble import GradientBoostingClassifier\n",
    "model = GradientBoostingClassifier(n_estimators=10)"
   ]
  },
  {
   "cell_type": "code",
   "execution_count": 25,
   "metadata": {},
   "outputs": [
    {
     "name": "stdout",
     "output_type": "stream",
     "text": [
      "Wall time: 716 ms\n"
     ]
    },
    {
     "data": {
      "text/plain": [
       "GradientBoostingClassifier(criterion='friedman_mse', init=None,\n",
       "              learning_rate=0.1, loss='deviance', max_depth=3,\n",
       "              max_features=None, max_leaf_nodes=None,\n",
       "              min_impurity_decrease=0.0, min_impurity_split=None,\n",
       "              min_samples_leaf=1, min_samples_split=2,\n",
       "              min_weight_fraction_leaf=0.0, n_estimators=10,\n",
       "              presort='auto', random_state=None, subsample=1.0, verbose=0,\n",
       "              warm_start=False)"
      ]
     },
     "execution_count": 25,
     "metadata": {},
     "output_type": "execute_result"
    }
   ],
   "source": [
    "%time model.fit(Xtrain, ytrain)"
   ]
  },
  {
   "cell_type": "code",
   "execution_count": 26,
   "metadata": {},
   "outputs": [
    {
     "name": "stdout",
     "output_type": "stream",
     "text": [
      "Wall time: 3.22 s\n"
     ]
    }
   ],
   "source": [
    "%time ypred = model.predict(Xtest)"
   ]
  },
  {
   "cell_type": "code",
   "execution_count": 27,
   "metadata": {},
   "outputs": [],
   "source": [
    "#predictions = [round(value) for value in ypred]"
   ]
  },
  {
   "cell_type": "code",
   "execution_count": 28,
   "metadata": {},
   "outputs": [
    {
     "data": {
      "text/plain": [
       "click_id         int64\n",
       "is_attributed    int64\n",
       "dtype: object"
      ]
     },
     "execution_count": 28,
     "metadata": {},
     "output_type": "execute_result"
    }
   ],
   "source": [
    "output = pd.read_csv('sample_submission.csv')\n",
    "output.dtypes"
   ]
  },
  {
   "cell_type": "code",
   "execution_count": 29,
   "metadata": {},
   "outputs": [],
   "source": [
    "output['click_id'] = test['click_id']\n",
    "output['is_attributed'] = ypred"
   ]
  },
  {
   "cell_type": "code",
   "execution_count": 30,
   "metadata": {},
   "outputs": [
    {
     "data": {
      "text/plain": [
       "(18790469, 2)"
      ]
     },
     "execution_count": 30,
     "metadata": {},
     "output_type": "execute_result"
    }
   ],
   "source": [
    "output.shape"
   ]
  },
  {
   "cell_type": "code",
   "execution_count": 31,
   "metadata": {},
   "outputs": [
    {
     "data": {
      "text/html": [
       "<div>\n",
       "<style scoped>\n",
       "    .dataframe tbody tr th:only-of-type {\n",
       "        vertical-align: middle;\n",
       "    }\n",
       "\n",
       "    .dataframe tbody tr th {\n",
       "        vertical-align: top;\n",
       "    }\n",
       "\n",
       "    .dataframe thead th {\n",
       "        text-align: right;\n",
       "    }\n",
       "</style>\n",
       "<table border=\"1\" class=\"dataframe\">\n",
       "  <thead>\n",
       "    <tr style=\"text-align: right;\">\n",
       "      <th></th>\n",
       "      <th>click_id</th>\n",
       "      <th>is_attributed</th>\n",
       "    </tr>\n",
       "  </thead>\n",
       "  <tbody>\n",
       "    <tr>\n",
       "      <th>9742112</th>\n",
       "      <td>9742112</td>\n",
       "      <td>0</td>\n",
       "    </tr>\n",
       "    <tr>\n",
       "      <th>15564805</th>\n",
       "      <td>15564805</td>\n",
       "      <td>0</td>\n",
       "    </tr>\n",
       "    <tr>\n",
       "      <th>2124429</th>\n",
       "      <td>2124431</td>\n",
       "      <td>0</td>\n",
       "    </tr>\n",
       "    <tr>\n",
       "      <th>6034516</th>\n",
       "      <td>6034517</td>\n",
       "      <td>0</td>\n",
       "    </tr>\n",
       "    <tr>\n",
       "      <th>18143158</th>\n",
       "      <td>18143158</td>\n",
       "      <td>0</td>\n",
       "    </tr>\n",
       "  </tbody>\n",
       "</table>\n",
       "</div>"
      ],
      "text/plain": [
       "          click_id  is_attributed\n",
       "9742112    9742112              0\n",
       "15564805  15564805              0\n",
       "2124429    2124431              0\n",
       "6034516    6034517              0\n",
       "18143158  18143158              0"
      ]
     },
     "execution_count": 31,
     "metadata": {},
     "output_type": "execute_result"
    }
   ],
   "source": [
    "output.sample(5)"
   ]
  },
  {
   "cell_type": "code",
   "execution_count": 32,
   "metadata": {},
   "outputs": [
    {
     "data": {
      "text/plain": [
       "0    18788870\n",
       "1        1599\n",
       "Name: is_attributed, dtype: int64"
      ]
     },
     "execution_count": 32,
     "metadata": {},
     "output_type": "execute_result"
    }
   ],
   "source": [
    "output['is_attributed'].value_counts()"
   ]
  },
  {
   "cell_type": "code",
   "execution_count": 33,
   "metadata": {},
   "outputs": [],
   "source": [
    "output.to_csv('m4s.csv', index=False)"
   ]
  }
 ],
 "metadata": {
  "kernelspec": {
   "display_name": "Python 3",
   "language": "python",
   "name": "python3"
  },
  "language_info": {
   "codemirror_mode": {
    "name": "ipython",
    "version": 3
   },
   "file_extension": ".py",
   "mimetype": "text/x-python",
   "name": "python",
   "nbconvert_exporter": "python",
   "pygments_lexer": "ipython3",
   "version": "3.6.4"
  }
 },
 "nbformat": 4,
 "nbformat_minor": 2
}
